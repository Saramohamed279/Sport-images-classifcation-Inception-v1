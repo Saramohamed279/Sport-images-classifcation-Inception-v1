{
 "cells": [
  {
   "cell_type": "markdown",
   "id": "b408fc85",
   "metadata": {
    "papermill": {
     "duration": 0.012271,
     "end_time": "2022-12-22T09:01:13.677534",
     "exception": false,
     "start_time": "2022-12-22T09:01:13.665263",
     "status": "completed"
    },
    "tags": []
   },
   "source": [
    "# **This section to read the dataset images and preprocess it**"
   ]
  },
  {
   "cell_type": "code",
   "execution_count": 1,
   "id": "71d097d9",
   "metadata": {
    "execution": {
     "iopub.execute_input": "2022-12-22T09:01:13.703065Z",
     "iopub.status.busy": "2022-12-22T09:01:13.702342Z",
     "iopub.status.idle": "2022-12-22T09:01:22.524235Z",
     "shell.execute_reply": "2022-12-22T09:01:22.523069Z"
    },
    "papermill": {
     "duration": 8.838937,
     "end_time": "2022-12-22T09:01:22.527174",
     "exception": false,
     "start_time": "2022-12-22T09:01:13.688237",
     "status": "completed"
    },
    "tags": []
   },
   "outputs": [],
   "source": [
    "import glob\n",
    "import cv2\n",
    "import keras\n",
    "from keras.layers.core import Layer\n",
    "import keras.backend as K\n",
    "import tensorflow as tf\n",
    "from keras.models import Model\n",
    "from keras.layers import Conv2D, MaxPool2D,Dropout, Dense, Input, concatenate,GlobalAveragePooling2D, AveragePooling2D,Flatten\n",
    "import cv2  \n",
    "from keras import backend as K \n",
    "from keras.utils import np_utils\n",
    "import math \n",
    "from tensorflow.keras.optimizers import SGD, Adam\n",
    "from keras.callbacks import LearningRateScheduler\n",
    "import matplotlib.pyplot as plt\n",
    "import numpy as np\n",
    "import pandas as pd\n",
    "import torch\n",
    "from sklearn.model_selection import train_test_split"
   ]
  },
  {
   "cell_type": "code",
   "execution_count": 2,
   "id": "d8e856b7",
   "metadata": {
    "execution": {
     "iopub.execute_input": "2022-12-22T09:01:22.551477Z",
     "iopub.status.busy": "2022-12-22T09:01:22.550324Z",
     "iopub.status.idle": "2022-12-22T09:01:22.555420Z",
     "shell.execute_reply": "2022-12-22T09:01:22.554609Z"
    },
    "papermill": {
     "duration": 0.018395,
     "end_time": "2022-12-22T09:01:22.557410",
     "exception": false,
     "start_time": "2022-12-22T09:01:22.539015",
     "status": "completed"
    },
    "tags": []
   },
   "outputs": [],
   "source": [
    "#classes we need to classify data to it\n",
    "classes = ['Basketball','Football','Rowing','Swimming','Tennis','Yoga']\n",
    "\n",
    "#images read from test\n",
    "dir_name = \"/kaggle/input/nn23-sports-image-classification\""
   ]
  },
  {
   "cell_type": "markdown",
   "id": "a3b5e376",
   "metadata": {
    "papermill": {
     "duration": 0.009896,
     "end_time": "2022-12-22T09:01:22.577305",
     "exception": false,
     "start_time": "2022-12-22T09:01:22.567409",
     "status": "completed"
    },
    "tags": []
   },
   "source": [
    "# Read jpg images from train data"
   ]
  },
  {
   "cell_type": "code",
   "execution_count": 3,
   "id": "fb1945cc",
   "metadata": {
    "execution": {
     "iopub.execute_input": "2022-12-22T09:01:22.599067Z",
     "iopub.status.busy": "2022-12-22T09:01:22.598355Z",
     "iopub.status.idle": "2022-12-22T09:01:22.731290Z",
     "shell.execute_reply": "2022-12-22T09:01:22.730129Z"
    },
    "papermill": {
     "duration": 0.14614,
     "end_time": "2022-12-22T09:01:22.733690",
     "exception": false,
     "start_time": "2022-12-22T09:01:22.587550",
     "status": "completed"
    },
    "tags": []
   },
   "outputs": [],
   "source": [
    "images_jpg = glob.glob(dir_name + r\"/Train/*.jpg\")"
   ]
  },
  {
   "cell_type": "markdown",
   "id": "f8d48f7f",
   "metadata": {
    "papermill": {
     "duration": 0.010807,
     "end_time": "2022-12-22T09:01:22.756043",
     "exception": false,
     "start_time": "2022-12-22T09:01:22.745236",
     "status": "completed"
    },
    "tags": []
   },
   "source": [
    "# Read png images from train data"
   ]
  },
  {
   "cell_type": "code",
   "execution_count": 4,
   "id": "a03066e8",
   "metadata": {
    "execution": {
     "iopub.execute_input": "2022-12-22T09:01:22.779242Z",
     "iopub.status.busy": "2022-12-22T09:01:22.778928Z",
     "iopub.status.idle": "2022-12-22T09:01:22.787767Z",
     "shell.execute_reply": "2022-12-22T09:01:22.786872Z"
    },
    "papermill": {
     "duration": 0.02311,
     "end_time": "2022-12-22T09:01:22.789826",
     "exception": false,
     "start_time": "2022-12-22T09:01:22.766716",
     "status": "completed"
    },
    "tags": []
   },
   "outputs": [],
   "source": [
    "images_png = glob.glob(dir_name + r\"/Train/*.png\")"
   ]
  },
  {
   "cell_type": "markdown",
   "id": "6f13f66c",
   "metadata": {
    "papermill": {
     "duration": 0.010383,
     "end_time": "2022-12-22T09:01:22.810988",
     "exception": false,
     "start_time": "2022-12-22T09:01:22.800605",
     "status": "completed"
    },
    "tags": []
   },
   "source": [
    "# All images read"
   ]
  },
  {
   "cell_type": "code",
   "execution_count": 5,
   "id": "10172338",
   "metadata": {
    "execution": {
     "iopub.execute_input": "2022-12-22T09:01:22.834338Z",
     "iopub.status.busy": "2022-12-22T09:01:22.833450Z",
     "iopub.status.idle": "2022-12-22T09:01:22.844922Z",
     "shell.execute_reply": "2022-12-22T09:01:22.843923Z"
    },
    "papermill": {
     "duration": 0.025589,
     "end_time": "2022-12-22T09:01:22.847266",
     "exception": false,
     "start_time": "2022-12-22T09:01:22.821677",
     "status": "completed"
    },
    "tags": []
   },
   "outputs": [
    {
     "name": "stdout",
     "output_type": "stream",
     "text": [
      "1681\n"
     ]
    }
   ],
   "source": [
    "allImages= glob.glob(dir_name + r\"/Train/*\")\n",
    "print(len(allImages))"
   ]
  },
  {
   "cell_type": "markdown",
   "id": "67aea650",
   "metadata": {
    "papermill": {
     "duration": 0.010563,
     "end_time": "2022-12-22T09:01:22.868567",
     "exception": false,
     "start_time": "2022-12-22T09:01:22.858004",
     "status": "completed"
    },
    "tags": []
   },
   "source": [
    "# Percentage of (png , jpg , ohterformat)"
   ]
  },
  {
   "cell_type": "code",
   "execution_count": 6,
   "id": "b558c051",
   "metadata": {
    "execution": {
     "iopub.execute_input": "2022-12-22T09:01:22.891382Z",
     "iopub.status.busy": "2022-12-22T09:01:22.890421Z",
     "iopub.status.idle": "2022-12-22T09:01:23.133209Z",
     "shell.execute_reply": "2022-12-22T09:01:23.132069Z"
    },
    "papermill": {
     "duration": 0.257513,
     "end_time": "2022-12-22T09:01:23.136733",
     "exception": false,
     "start_time": "2022-12-22T09:01:22.879220",
     "status": "completed"
    },
    "tags": []
   },
   "outputs": [
    {
     "data": {
      "image/png": "[encoded data removed]",
      "text/plain": [
       "<Figure size 432x288 with 1 Axes>"
      ]
     },
     "metadata": {},
     "output_type": "display_data"
    }
   ],
   "source": [
    "mylabels = [\"png\" , \"jpg\" , \"other\"]\n",
    "otherLen = len(allImages) - ((len(images_png) + len(images_jpg)))\n",
    "y = np.array([len(images_png) , len(images_jpg) , otherLen])\n",
    "plt.pie(y, labels = mylabels)\n",
    "plt.legend()\n",
    "plt.show() "
   ]
  },
  {
   "cell_type": "markdown",
   "id": "fa97590f",
   "metadata": {
    "papermill": {
     "duration": 0.017824,
     "end_time": "2022-12-22T09:01:23.183598",
     "exception": false,
     "start_time": "2022-12-22T09:01:23.165774",
     "status": "completed"
    },
    "tags": []
   },
   "source": [
    "# Since most of images are of type jpg then we are going to reformat all images to be jpg format"
   ]
  },
  {
   "cell_type": "code",
   "execution_count": 7,
   "id": "1aece743",
   "metadata": {
    "execution": {
     "iopub.execute_input": "2022-12-22T09:01:23.206570Z",
     "iopub.status.busy": "2022-12-22T09:01:23.206227Z",
     "iopub.status.idle": "2022-12-22T09:01:41.888644Z",
     "shell.execute_reply": "2022-12-22T09:01:41.887662Z"
    },
    "papermill": {
     "duration": 18.696963,
     "end_time": "2022-12-22T09:01:41.891075",
     "exception": false,
     "start_time": "2022-12-22T09:01:23.194112",
     "status": "completed"
    },
    "tags": []
   },
   "outputs": [],
   "source": [
    "for i in range(len(allImages)):\n",
    "    name_of_sport = allImages[i].split('/')[5].split('_')[0]\n",
    "    number_image = allImages[i].split('/')[5].split('_')[-1].split('.')[0].lower()\n",
    "    index=classes.index(name_of_sport)\n",
    "    name_image = f'/kaggle/working/{index}_{number_image}.jpg'\n",
    "    image = cv2.imread(allImages[i])\n",
    "    image = cv2.resize(image,(224,224))\n",
    "    cv2.imwrite(name_image,image)"
   ]
  },
  {
   "cell_type": "code",
   "execution_count": 8,
   "id": "ad5f4088",
   "metadata": {
    "execution": {
     "iopub.execute_input": "2022-12-22T09:01:41.913992Z",
     "iopub.status.busy": "2022-12-22T09:01:41.913687Z",
     "iopub.status.idle": "2022-12-22T09:01:41.925150Z",
     "shell.execute_reply": "2022-12-22T09:01:41.924253Z"
    },
    "papermill": {
     "duration": 0.02533,
     "end_time": "2022-12-22T09:01:41.927428",
     "exception": false,
     "start_time": "2022-12-22T09:01:41.902098",
     "status": "completed"
    },
    "tags": []
   },
   "outputs": [
    {
     "name": "stdout",
     "output_type": "stream",
     "text": [
      "1681\n"
     ]
    }
   ],
   "source": [
    "images_jpg = glob.glob(r\"/kaggle/working/*.jpg\")\n",
    "print(len(images_jpg))"
   ]
  },
  {
   "cell_type": "markdown",
   "id": "268b911b",
   "metadata": {
    "papermill": {
     "duration": 0.010456,
     "end_time": "2022-12-22T09:01:41.948844",
     "exception": false,
     "start_time": "2022-12-22T09:01:41.938388",
     "status": "completed"
    },
    "tags": []
   },
   "source": [
    "# Preprocessing X and Y before join the model"
   ]
  },
  {
   "cell_type": "code",
   "execution_count": 9,
   "id": "62df00fe",
   "metadata": {
    "execution": {
     "iopub.execute_input": "2022-12-22T09:01:41.971299Z",
     "iopub.status.busy": "2022-12-22T09:01:41.971030Z",
     "iopub.status.idle": "2022-12-22T09:01:41.976422Z",
     "shell.execute_reply": "2022-12-22T09:01:41.975551Z"
    },
    "papermill": {
     "duration": 0.018823,
     "end_time": "2022-12-22T09:01:41.978303",
     "exception": false,
     "start_time": "2022-12-22T09:01:41.959480",
     "status": "completed"
    },
    "tags": []
   },
   "outputs": [],
   "source": [
    "preprocessed_train = images_jpg\n",
    "x_train = []\n",
    "y_train = []"
   ]
  },
  {
   "cell_type": "code",
   "execution_count": 10,
   "id": "0cbcde76",
   "metadata": {
    "execution": {
     "iopub.execute_input": "2022-12-22T09:01:42.001437Z",
     "iopub.status.busy": "2022-12-22T09:01:42.000611Z",
     "iopub.status.idle": "2022-12-22T09:01:43.505275Z",
     "shell.execute_reply": "2022-12-22T09:01:43.504247Z"
    },
    "papermill": {
     "duration": 1.518937,
     "end_time": "2022-12-22T09:01:43.507951",
     "exception": false,
     "start_time": "2022-12-22T09:01:41.989014",
     "status": "completed"
    },
    "tags": []
   },
   "outputs": [],
   "source": [
    "for image in preprocessed_train:\n",
    "    index = image.split(\"_\")[0].split(\"/\")[-1]\n",
    "    c = [0,0,0,0,0,0]\n",
    "    c[int(index)] = 1\n",
    "    y_train.append(c)\n",
    "    x_train.append(np.asarray(cv2.imread(image)))"
   ]
  },
  {
   "cell_type": "code",
   "execution_count": 11,
   "id": "9b57ba97",
   "metadata": {
    "execution": {
     "iopub.execute_input": "2022-12-22T09:01:43.530846Z",
     "iopub.status.busy": "2022-12-22T09:01:43.530508Z",
     "iopub.status.idle": "2022-12-22T09:01:43.540195Z",
     "shell.execute_reply": "2022-12-22T09:01:43.539286Z"
    },
    "papermill": {
     "duration": 0.023509,
     "end_time": "2022-12-22T09:01:43.542347",
     "exception": false,
     "start_time": "2022-12-22T09:01:43.518838",
     "status": "completed"
    },
    "tags": []
   },
   "outputs": [
    {
     "data": {
      "text/plain": [
       "array([[[0, 0, 0, 0, 1, 0]],\n",
       "\n",
       "       [[0, 1, 0, 0, 0, 0]],\n",
       "\n",
       "       [[0, 0, 1, 0, 0, 0]],\n",
       "\n",
       "       ...,\n",
       "\n",
       "       [[0, 0, 0, 1, 0, 0]],\n",
       "\n",
       "       [[0, 0, 0, 0, 0, 1]],\n",
       "\n",
       "       [[0, 1, 0, 0, 0, 0]]])"
      ]
     },
     "execution_count": 11,
     "metadata": {},
     "output_type": "execute_result"
    }
   ],
   "source": [
    "y_train = np.array(y_train)\n",
    "y_train.reshape(1681 , 1 , 6)"
   ]
  },
  {
   "cell_type": "code",
   "execution_count": 12,
   "id": "4211a8aa",
   "metadata": {
    "execution": {
     "iopub.execute_input": "2022-12-22T09:01:43.565484Z",
     "iopub.status.busy": "2022-12-22T09:01:43.565205Z",
     "iopub.status.idle": "2022-12-22T09:01:43.661804Z",
     "shell.execute_reply": "2022-12-22T09:01:43.660667Z"
    },
    "papermill": {
     "duration": 0.1112,
     "end_time": "2022-12-22T09:01:43.664734",
     "exception": false,
     "start_time": "2022-12-22T09:01:43.553534",
     "status": "completed"
    },
    "tags": []
   },
   "outputs": [
    {
     "data": {
      "text/plain": [
       "array([[[[ 28,   6,   0],\n",
       "         [ 30,   8,   2],\n",
       "         [ 33,  11,   5],\n",
       "         ...,\n",
       "         [ 30,  11,   4],\n",
       "         [ 27,   7,   2],\n",
       "         [ 24,   4,   0]],\n",
       "\n",
       "        [[ 31,   9,   3],\n",
       "         [ 33,  11,   5],\n",
       "         [ 36,  14,   8],\n",
       "         ...,\n",
       "         [ 33,  14,   7],\n",
       "         [ 30,  10,   5],\n",
       "         [ 28,   8,   3]],\n",
       "\n",
       "        [[ 33,  11,   5],\n",
       "         [ 35,  13,   7],\n",
       "         [ 38,  17,   9],\n",
       "         ...,\n",
       "         [ 36,  17,  10],\n",
       "         [ 33,  13,   8],\n",
       "         [ 31,  11,   6]],\n",
       "\n",
       "        ...,\n",
       "\n",
       "        [[ 25,  10,   8],\n",
       "         [ 26,  11,   9],\n",
       "         [ 26,  13,  11],\n",
       "         ...,\n",
       "         [ 21,   1,  14],\n",
       "         [ 23,   1,  13],\n",
       "         [ 23,   2,  11]],\n",
       "\n",
       "        [[ 22,   7,   5],\n",
       "         [ 25,  10,   8],\n",
       "         [ 26,  11,   9],\n",
       "         ...,\n",
       "         [ 23,   3,  15],\n",
       "         [ 23,   1,  13],\n",
       "         [ 20,   0,  10]],\n",
       "\n",
       "        [[ 20,   5,   3],\n",
       "         [ 24,   9,   7],\n",
       "         [ 25,  10,   8],\n",
       "         ...,\n",
       "         [ 21,   1,  13],\n",
       "         [ 22,   0,  12],\n",
       "         [ 23,   1,  13]]],\n",
       "\n",
       "\n",
       "       [[[ 95,  97,  97],\n",
       "         [ 95,  97,  97],\n",
       "         [ 93,  93,  93],\n",
       "         ...,\n",
       "         [ 16,  11,  26],\n",
       "         [ 13,  12,  16],\n",
       "         [  6,   6,   6]],\n",
       "\n",
       "        [[ 98, 100, 100],\n",
       "         [ 98, 100, 100],\n",
       "         [ 99,  99,  99],\n",
       "         ...,\n",
       "         [ 19,  13,  30],\n",
       "         [  6,   4,  10],\n",
       "         [  4,   3,   5]],\n",
       "\n",
       "        [[104, 104, 104],\n",
       "         [101, 101, 101],\n",
       "         [103, 104, 102],\n",
       "         ...,\n",
       "         [ 31,  24,  45],\n",
       "         [  9,   5,  17],\n",
       "         [  7,   4,  13]],\n",
       "\n",
       "        ...,\n",
       "\n",
       "        [[ 75, 170, 126],\n",
       "         [ 76, 171, 127],\n",
       "         [ 73, 168, 124],\n",
       "         ...,\n",
       "         [ 55, 166, 116],\n",
       "         [ 52, 166, 113],\n",
       "         [ 50, 164, 111]],\n",
       "\n",
       "        [[ 74, 166, 123],\n",
       "         [ 66, 158, 115],\n",
       "         [ 74, 166, 123],\n",
       "         ...,\n",
       "         [ 62, 173, 123],\n",
       "         [ 61, 175, 122],\n",
       "         [ 56, 170, 117]],\n",
       "\n",
       "        [[ 63, 153, 110],\n",
       "         [ 62, 152, 109],\n",
       "         [ 60, 150, 107],\n",
       "         ...,\n",
       "         [ 58, 169, 119],\n",
       "         [ 57, 171, 118],\n",
       "         [ 51, 165, 112]]],\n",
       "\n",
       "\n",
       "       [[[  3,   1,   1],\n",
       "         [  8,   6,   6],\n",
       "         [  2,   0,   0],\n",
       "         ...,\n",
       "         [  3,   4,   2],\n",
       "         [  2,   7,   0],\n",
       "         [  6,  12,   1]],\n",
       "\n",
       "        [[  4,   2,   2],\n",
       "         [  0,   0,   0],\n",
       "         [  1,   1,   1],\n",
       "         ...,\n",
       "         [  6,   7,   5],\n",
       "         [  1,   3,   0],\n",
       "         [  2,   7,   0]],\n",
       "\n",
       "        [[  4,   4,   4],\n",
       "         [  0,   1,   1],\n",
       "         [  0,   1,   1],\n",
       "         ...,\n",
       "         [  3,   3,   3],\n",
       "         [  4,   5,   3],\n",
       "         [  5,   6,   2]],\n",
       "\n",
       "        ...,\n",
       "\n",
       "        [[  0,   1,   0],\n",
       "         [  4,   5,   1],\n",
       "         [  5,   4,   0],\n",
       "         ...,\n",
       "         [  4,   2,   1],\n",
       "         [  6,   5,   7],\n",
       "         [  1,   0,   2]],\n",
       "\n",
       "        [[  4,   2,   1],\n",
       "         [  3,   1,   0],\n",
       "         [  2,   0,   0],\n",
       "         ...,\n",
       "         [  3,   0,   2],\n",
       "         [  0,   0,   3],\n",
       "         [  6,   5,   9]],\n",
       "\n",
       "        [[  3,   1,   0],\n",
       "         [  4,   2,   1],\n",
       "         [  6,   4,   4],\n",
       "         ...,\n",
       "         [  3,   0,   2],\n",
       "         [  2,   0,   6],\n",
       "         [  4,   2,   8]]],\n",
       "\n",
       "\n",
       "       ...,\n",
       "\n",
       "\n",
       "       [[[ 54,  32,  20],\n",
       "         [ 56,  36,  25],\n",
       "         [ 43,  28,  19],\n",
       "         ...,\n",
       "         [  1,   2,   0],\n",
       "         [  0,   1,   0],\n",
       "         [  1,   2,   0]],\n",
       "\n",
       "        [[ 53,  37,  25],\n",
       "         [ 53,  39,  27],\n",
       "         [ 42,  31,  23],\n",
       "         ...,\n",
       "         [  2,   3,   1],\n",
       "         [  0,   1,   0],\n",
       "         [  2,   3,   1]],\n",
       "\n",
       "        [[ 38,  32,  21],\n",
       "         [ 34,  29,  20],\n",
       "         [ 28,  24,  19],\n",
       "         ...,\n",
       "         [  1,   2,   0],\n",
       "         [  0,   1,   0],\n",
       "         [  2,   3,   1]],\n",
       "\n",
       "        ...,\n",
       "\n",
       "        [[ 12,  14, 233],\n",
       "         [ 16,  20, 233],\n",
       "         [ 46,  50, 253],\n",
       "         ...,\n",
       "         [ 57,  47, 140],\n",
       "         [ 45,  31, 102],\n",
       "         [144, 129, 186]],\n",
       "\n",
       "        [[  7,  12, 227],\n",
       "         [ 17,  23, 230],\n",
       "         [ 64,  69, 255],\n",
       "         ...,\n",
       "         [ 39,  43, 161],\n",
       "         [ 17,  27, 114],\n",
       "         [180, 195, 255]],\n",
       "\n",
       "        [[  9,  17, 230],\n",
       "         [ 31,  38, 242],\n",
       "         [ 65,  70, 255],\n",
       "         ...,\n",
       "         [ 40,  51, 179],\n",
       "         [ 15,  37, 132],\n",
       "         [162, 190, 255]]],\n",
       "\n",
       "\n",
       "       [[[252, 192, 116],\n",
       "         [247, 193, 116],\n",
       "         [240, 197, 116],\n",
       "         ...,\n",
       "         [241, 198, 105],\n",
       "         [255, 204,  99],\n",
       "         [255, 204,  91]],\n",
       "\n",
       "        [[246, 194, 117],\n",
       "         [239, 193, 116],\n",
       "         [226, 191, 118],\n",
       "         ...,\n",
       "         [223, 184, 105],\n",
       "         [247, 199, 104],\n",
       "         [255, 203, 102]],\n",
       "\n",
       "        [[234, 201, 121],\n",
       "         [224, 195, 121],\n",
       "         [207, 185, 127],\n",
       "         ...,\n",
       "         [189, 158, 103],\n",
       "         [221, 180, 111],\n",
       "         [238, 192, 115]],\n",
       "\n",
       "        ...,\n",
       "\n",
       "        [[237, 195,  98],\n",
       "         [218, 184,  90],\n",
       "         [154, 130,  46],\n",
       "         ...,\n",
       "         [164, 122,  45],\n",
       "         [224, 179,  92],\n",
       "         [247, 200, 109]],\n",
       "\n",
       "        [[246, 207,  99],\n",
       "         [236, 201,  97],\n",
       "         [216, 186,  91],\n",
       "         ...,\n",
       "         [228, 183,  92],\n",
       "         [250, 201, 101],\n",
       "         [249, 201,  96]],\n",
       "\n",
       "        [[247, 210,  96],\n",
       "         [237, 202,  92],\n",
       "         [231, 199, 100],\n",
       "         ...,\n",
       "         [241, 196,  98],\n",
       "         [253, 203,  97],\n",
       "         [255, 204,  94]]],\n",
       "\n",
       "\n",
       "       [[[  0,   3,   1],\n",
       "         [ 43,  46,  44],\n",
       "         [199, 202, 200],\n",
       "         ...,\n",
       "         [229, 224, 223],\n",
       "         [229, 224, 223],\n",
       "         [229, 224, 223]],\n",
       "\n",
       "        [[  1,   4,   2],\n",
       "         [ 55,  58,  56],\n",
       "         [201, 204, 202],\n",
       "         ...,\n",
       "         [230, 225, 224],\n",
       "         [230, 225, 224],\n",
       "         [230, 225, 224]],\n",
       "\n",
       "        [[  3,   6,   4],\n",
       "         [ 77,  80,  78],\n",
       "         [204, 207, 205],\n",
       "         ...,\n",
       "         [231, 226, 225],\n",
       "         [232, 227, 226],\n",
       "         [232, 227, 226]],\n",
       "\n",
       "        ...,\n",
       "\n",
       "        [[  5,   0,   1],\n",
       "         [  5,   0,   1],\n",
       "         [  3,   1,   1],\n",
       "         ...,\n",
       "         [  2,   0,   0],\n",
       "         [  1,   2,   0],\n",
       "         [  4,   5,   3]],\n",
       "\n",
       "        [[  4,   0,   0],\n",
       "         [  4,   0,   0],\n",
       "         [  3,   1,   1],\n",
       "         ...,\n",
       "         [  2,   0,   0],\n",
       "         [  2,   0,   0],\n",
       "         [  2,   0,   0]],\n",
       "\n",
       "        [[  4,   0,   0],\n",
       "         [  4,   0,   0],\n",
       "         [  2,   0,   0],\n",
       "         ...,\n",
       "         [  4,   2,   2],\n",
       "         [  4,   2,   2],\n",
       "         [  3,   1,   1]]]], dtype=uint8)"
      ]
     },
     "execution_count": 12,
     "metadata": {},
     "output_type": "execute_result"
    }
   ],
   "source": [
    "x_train = np.array(x_train)\n",
    "x_train.reshape(1681,224,224,3)"
   ]
  },
  {
   "cell_type": "code",
   "execution_count": 13,
   "id": "bb2dd302",
   "metadata": {
    "execution": {
     "iopub.execute_input": "2022-12-22T09:01:43.689342Z",
     "iopub.status.busy": "2022-12-22T09:01:43.689051Z",
     "iopub.status.idle": "2022-12-22T09:01:43.695549Z",
     "shell.execute_reply": "2022-12-22T09:01:43.694149Z"
    },
    "papermill": {
     "duration": 0.021036,
     "end_time": "2022-12-22T09:01:43.697727",
     "exception": false,
     "start_time": "2022-12-22T09:01:43.676691",
     "status": "completed"
    },
    "tags": []
   },
   "outputs": [
    {
     "name": "stdout",
     "output_type": "stream",
     "text": [
      "(1681, 224, 224, 3)\n"
     ]
    }
   ],
   "source": [
    "print(x_train.shape)"
   ]
  },
  {
   "cell_type": "code",
   "execution_count": 14,
   "id": "81f08a50",
   "metadata": {
    "execution": {
     "iopub.execute_input": "2022-12-22T09:01:43.721641Z",
     "iopub.status.busy": "2022-12-22T09:01:43.721348Z",
     "iopub.status.idle": "2022-12-22T09:01:43.727910Z",
     "shell.execute_reply": "2022-12-22T09:01:43.726622Z"
    },
    "papermill": {
     "duration": 0.021856,
     "end_time": "2022-12-22T09:01:43.730907",
     "exception": false,
     "start_time": "2022-12-22T09:01:43.709051",
     "status": "completed"
    },
    "tags": []
   },
   "outputs": [
    {
     "name": "stdout",
     "output_type": "stream",
     "text": [
      "(1681, 6)\n"
     ]
    }
   ],
   "source": [
    "print(y_train.shape)"
   ]
  },
  {
   "cell_type": "markdown",
   "id": "2993f7a2",
   "metadata": {
    "papermill": {
     "duration": 0.011251,
     "end_time": "2022-12-22T09:01:43.753536",
     "exception": false,
     "start_time": "2022-12-22T09:01:43.742285",
     "status": "completed"
    },
    "tags": []
   },
   "source": [
    "# Inception Model"
   ]
  },
  {
   "cell_type": "code",
   "execution_count": 15,
   "id": "ec90491e",
   "metadata": {
    "execution": {
     "iopub.execute_input": "2022-12-22T09:01:43.777320Z",
     "iopub.status.busy": "2022-12-22T09:01:43.777060Z",
     "iopub.status.idle": "2022-12-22T09:01:43.786676Z",
     "shell.execute_reply": "2022-12-22T09:01:43.785839Z"
    },
    "papermill": {
     "duration": 0.023852,
     "end_time": "2022-12-22T09:01:43.788749",
     "exception": false,
     "start_time": "2022-12-22T09:01:43.764897",
     "status": "completed"
    },
    "tags": []
   },
   "outputs": [],
   "source": [
    "def inception_module(x,\n",
    "                     filters_1x1,\n",
    "                     filters_3x3_reduce,\n",
    "                     filters_3x3,\n",
    "                     filters_5x5_reduce,\n",
    "                     filters_5x5,\n",
    "                     filters_pool_proj,\n",
    "                     name=None):\n",
    "    \n",
    "    conv_1x1 = Conv2D(filters_1x1, (1, 1), padding='same', activation='relu', kernel_initializer=kernel_init, bias_initializer=bias_init)(x)\n",
    "    \n",
    "    conv_3x3 = Conv2D(filters_3x3_reduce, (1, 1), padding='same', activation='relu', kernel_initializer=kernel_init, bias_initializer=bias_init)(x)\n",
    "    conv_3x3 = Conv2D(filters_3x3, (3, 3), padding='same', activation='relu', kernel_initializer=kernel_init, bias_initializer=bias_init)(conv_3x3)\n",
    "\n",
    "    conv_5x5 = Conv2D(filters_5x5_reduce, (1, 1), padding='same', activation='relu', kernel_initializer=kernel_init, bias_initializer=bias_init)(x)\n",
    "    conv_5x5 = Conv2D(filters_5x5, (5, 5), padding='same', activation='relu', kernel_initializer=kernel_init, bias_initializer=bias_init)(conv_5x5)\n",
    "\n",
    "    pool_proj = MaxPool2D((3, 3), strides=(1, 1), padding='same')(x)\n",
    "    pool_proj = Conv2D(filters_pool_proj, (1, 1), padding='same', activation='relu', kernel_initializer=kernel_init, bias_initializer=bias_init)(pool_proj)\n",
    "\n",
    "    output = concatenate([conv_1x1, conv_3x3, conv_5x5, pool_proj], axis=3, name=name)\n",
    "    \n",
    "    return output"
   ]
  },
  {
   "cell_type": "markdown",
   "id": "1f91f1b6",
   "metadata": {
    "papermill": {
     "duration": 0.011141,
     "end_time": "2022-12-22T09:01:43.811077",
     "exception": false,
     "start_time": "2022-12-22T09:01:43.799936",
     "status": "completed"
    },
    "tags": []
   },
   "source": [
    "# Initial Bias"
   ]
  },
  {
   "cell_type": "code",
   "execution_count": 16,
   "id": "443df92c",
   "metadata": {
    "execution": {
     "iopub.execute_input": "2022-12-22T09:01:43.835017Z",
     "iopub.status.busy": "2022-12-22T09:01:43.834716Z",
     "iopub.status.idle": "2022-12-22T09:01:43.839096Z",
     "shell.execute_reply": "2022-12-22T09:01:43.838192Z"
    },
    "papermill": {
     "duration": 0.018363,
     "end_time": "2022-12-22T09:01:43.841026",
     "exception": false,
     "start_time": "2022-12-22T09:01:43.822663",
     "status": "completed"
    },
    "tags": []
   },
   "outputs": [],
   "source": [
    "kernel_init = keras.initializers.glorot_uniform()\n",
    "bias_init = keras.initializers.Constant(value=0.1)"
   ]
  },
  {
   "cell_type": "markdown",
   "id": "77c7dfd6",
   "metadata": {
    "papermill": {
     "duration": 0.011771,
     "end_time": "2022-12-22T09:01:43.863791",
     "exception": false,
     "start_time": "2022-12-22T09:01:43.852020",
     "status": "completed"
    },
    "tags": []
   },
   "source": [
    "# Building Architcture "
   ]
  },
  {
   "cell_type": "code",
   "execution_count": 17,
   "id": "9f9f5a11",
   "metadata": {
    "execution": {
     "iopub.execute_input": "2022-12-22T09:01:43.888557Z",
     "iopub.status.busy": "2022-12-22T09:01:43.887961Z",
     "iopub.status.idle": "2022-12-22T09:01:52.000425Z",
     "shell.execute_reply": "2022-12-22T09:01:51.997570Z"
    },
    "papermill": {
     "duration": 8.134324,
     "end_time": "2022-12-22T09:01:52.009534",
     "exception": false,
     "start_time": "2022-12-22T09:01:43.875210",
     "status": "completed"
    },
    "tags": []
   },
   "outputs": [
    {
     "name": "stderr",
     "output_type": "stream",
     "text": [
      "2022-12-22 09:01:44.058379: I tensorflow/stream_executor/cuda/cuda_gpu_executor.cc:937] successful NUMA node read from SysFS had negative value (-1), but there must be at least one NUMA node, so returning NUMA node zero\n",
      "2022-12-22 09:01:44.059372: I tensorflow/stream_executor/cuda/cuda_gpu_executor.cc:937] successful NUMA node read from SysFS had negative value (-1), but there must be at least one NUMA node, so returning NUMA node zero\n",
      "2022-12-22 09:01:44.060397: I tensorflow/stream_executor/cuda/cuda_gpu_executor.cc:937] successful NUMA node read from SysFS had negative value (-1), but there must be at least one NUMA node, so returning NUMA node zero\n",
      "2022-12-22 09:01:44.061196: I tensorflow/stream_executor/cuda/cuda_gpu_executor.cc:937] successful NUMA node read from SysFS had negative value (-1), but there must be at least one NUMA node, so returning NUMA node zero\n",
      "2022-12-22 09:01:44.061959: I tensorflow/stream_executor/cuda/cuda_gpu_executor.cc:937] successful NUMA node read from SysFS had negative value (-1), but there must be at least one NUMA node, so returning NUMA node zero\n",
      "2022-12-22 09:01:44.062745: I tensorflow/stream_executor/cuda/cuda_gpu_executor.cc:937] successful NUMA node read from SysFS had negative value (-1), but there must be at least one NUMA node, so returning NUMA node zero\n",
      "2022-12-22 09:01:44.064040: I tensorflow/core/platform/cpu_feature_guard.cc:142] This TensorFlow binary is optimized with oneAPI Deep Neural Network Library (oneDNN) to use the following CPU instructions in performance-critical operations:  AVX2 AVX512F FMA\n",
      "To enable them in other operations, rebuild TensorFlow with the appropriate compiler flags.\n",
      "2022-12-22 09:01:44.297691: I tensorflow/stream_executor/cuda/cuda_gpu_executor.cc:937] successful NUMA node read from SysFS had negative value (-1), but there must be at least one NUMA node, so returning NUMA node zero\n",
      "2022-12-22 09:01:44.298589: I tensorflow/stream_executor/cuda/cuda_gpu_executor.cc:937] successful NUMA node read from SysFS had negative value (-1), but there must be at least one NUMA node, so returning NUMA node zero\n",
      "2022-12-22 09:01:44.299360: I tensorflow/stream_executor/cuda/cuda_gpu_executor.cc:937] successful NUMA node read from SysFS had negative value (-1), but there must be at least one NUMA node, so returning NUMA node zero\n",
      "2022-12-22 09:01:44.300073: I tensorflow/stream_executor/cuda/cuda_gpu_executor.cc:937] successful NUMA node read from SysFS had negative value (-1), but there must be at least one NUMA node, so returning NUMA node zero\n",
      "2022-12-22 09:01:44.300901: I tensorflow/stream_executor/cuda/cuda_gpu_executor.cc:937] successful NUMA node read from SysFS had negative value (-1), but there must be at least one NUMA node, so returning NUMA node zero\n",
      "2022-12-22 09:01:44.301598: I tensorflow/stream_executor/cuda/cuda_gpu_executor.cc:937] successful NUMA node read from SysFS had negative value (-1), but there must be at least one NUMA node, so returning NUMA node zero\n",
      "2022-12-22 09:01:51.126563: I tensorflow/stream_executor/cuda/cuda_gpu_executor.cc:937] successful NUMA node read from SysFS had negative value (-1), but there must be at least one NUMA node, so returning NUMA node zero\n",
      "2022-12-22 09:01:51.127477: I tensorflow/stream_executor/cuda/cuda_gpu_executor.cc:937] successful NUMA node read from SysFS had negative value (-1), but there must be at least one NUMA node, so returning NUMA node zero\n",
      "2022-12-22 09:01:51.128195: I tensorflow/stream_executor/cuda/cuda_gpu_executor.cc:937] successful NUMA node read from SysFS had negative value (-1), but there must be at least one NUMA node, so returning NUMA node zero\n",
      "2022-12-22 09:01:51.128908: I tensorflow/stream_executor/cuda/cuda_gpu_executor.cc:937] successful NUMA node read from SysFS had negative value (-1), but there must be at least one NUMA node, so returning NUMA node zero\n",
      "2022-12-22 09:01:51.129622: I tensorflow/stream_executor/cuda/cuda_gpu_executor.cc:937] successful NUMA node read from SysFS had negative value (-1), but there must be at least one NUMA node, so returning NUMA node zero\n",
      "2022-12-22 09:01:51.130286: I tensorflow/core/common_runtime/gpu/gpu_device.cc:1510] Created device /job:localhost/replica:0/task:0/device:GPU:0 with 13351 MB memory:  -> device: 0, name: Tesla T4, pci bus id: 0000:00:04.0, compute capability: 7.5\n",
      "2022-12-22 09:01:51.133602: I tensorflow/stream_executor/cuda/cuda_gpu_executor.cc:937] successful NUMA node read from SysFS had negative value (-1), but there must be at least one NUMA node, so returning NUMA node zero\n",
      "2022-12-22 09:01:51.134316: I tensorflow/core/common_runtime/gpu/gpu_device.cc:1510] Created device /job:localhost/replica:0/task:0/device:GPU:1 with 13351 MB memory:  -> device: 1, name: Tesla T4, pci bus id: 0000:00:05.0, compute capability: 7.5\n"
     ]
    }
   ],
   "source": [
    "input_layer = Input(shape=(224, 224, 3))\n",
    "\n",
    "x = Conv2D(64, (7, 7), padding='same', strides=(2, 2), activation='relu', name='conv_1_7x7/2', kernel_initializer=kernel_init, bias_initializer=bias_init)(input_layer)\n",
    "x = MaxPool2D((3, 3), padding='same', strides=(2, 2), name='max_pool_1_3x3/2')(x)\n",
    "x = Conv2D(64, (1, 1), padding='same', strides=(1, 1), activation='relu', name='conv_2a_3x3/1')(x)\n",
    "x = Conv2D(192, (3, 3), padding='same', strides=(1, 1), activation='relu', name='conv_2b_3x3/1')(x)\n",
    "x = MaxPool2D((3, 3), padding='same', strides=(2, 2), name='max_pool_2_3x3/2')(x)\n",
    "\n",
    "x = inception_module(x,\n",
    "                     filters_1x1=64,\n",
    "                     filters_3x3_reduce=96,\n",
    "                     filters_3x3=128,\n",
    "                     filters_5x5_reduce=16,\n",
    "                     filters_5x5=32,\n",
    "                     filters_pool_proj=32,\n",
    "                     name='inception_3a')\n",
    "\n",
    "x = inception_module(x,\n",
    "                     filters_1x1=128,\n",
    "                     filters_3x3_reduce=128,\n",
    "                     filters_3x3=192,\n",
    "                     filters_5x5_reduce=32,\n",
    "                     filters_5x5=96,\n",
    "                     filters_pool_proj=64,\n",
    "                     name='inception_3b')\n",
    "\n",
    "x = MaxPool2D((3, 3), padding='same', strides=(2, 2), name='max_pool_3_3x3/2')(x)\n",
    "\n",
    "x = inception_module(x,\n",
    "                     filters_1x1=192,\n",
    "                     filters_3x3_reduce=96,\n",
    "                     filters_3x3=208,\n",
    "                     filters_5x5_reduce=16,\n",
    "                     filters_5x5=48,\n",
    "                     filters_pool_proj=64,\n",
    "                     name='inception_4a')\n",
    "\n",
    "\n",
    "x1 = AveragePooling2D((5, 5), strides=3)(x)\n",
    "x1 = Conv2D(128, (1, 1), padding='same', activation='relu')(x1)\n",
    "x1 = Flatten()(x1)\n",
    "x1 = Dense(1024, activation='relu')(x1)\n",
    "x1 = Dropout(0.7)(x1)\n",
    "x1 = Dense(6, activation='softmax', name='auxilliary_output_1')(x1)\n",
    "\n",
    "x = inception_module(x,\n",
    "                     filters_1x1=160,\n",
    "                     filters_3x3_reduce=112,\n",
    "                     filters_3x3=224,\n",
    "                     filters_5x5_reduce=24,\n",
    "                     filters_5x5=64,\n",
    "                     filters_pool_proj=64,\n",
    "                     name='inception_4b')\n",
    "\n",
    "x = inception_module(x,\n",
    "                     filters_1x1=128,\n",
    "                     filters_3x3_reduce=128,\n",
    "                     filters_3x3=256,\n",
    "                     filters_5x5_reduce=24,\n",
    "                     filters_5x5=64,\n",
    "                     filters_pool_proj=64,\n",
    "                     name='inception_4c')\n",
    "\n",
    "x = inception_module(x,\n",
    "                     filters_1x1=112,\n",
    "                     filters_3x3_reduce=144,\n",
    "                     filters_3x3=288,\n",
    "                     filters_5x5_reduce=32,\n",
    "                     filters_5x5=64,\n",
    "                     filters_pool_proj=64,\n",
    "                     name='inception_4d')\n",
    "\n",
    "\n",
    "x2 = AveragePooling2D((5, 5), strides=3)(x)\n",
    "x2 = Conv2D(128, (1, 1), padding='same', activation='relu')(x2)\n",
    "x2 = Flatten()(x2)\n",
    "x2 = Dense(1024, activation='relu')(x2)\n",
    "x2 = Dropout(0.7)(x2)\n",
    "x2 = Dense(6, activation='softmax', name='auxilliary_output_2')(x2)\n",
    "\n",
    "x = inception_module(x,\n",
    "                     filters_1x1=256,\n",
    "                     filters_3x3_reduce=160,\n",
    "                     filters_3x3=320,\n",
    "                     filters_5x5_reduce=32,\n",
    "                     filters_5x5=128,\n",
    "                     filters_pool_proj=128,\n",
    "                     name='inception_4e')\n",
    "\n",
    "x = MaxPool2D((3, 3), padding='same', strides=(2, 2), name='max_pool_4_3x3/2')(x)\n",
    "\n",
    "x = inception_module(x,\n",
    "                     filters_1x1=256,\n",
    "                     filters_3x3_reduce=160,\n",
    "                     filters_3x3=320,\n",
    "                     filters_5x5_reduce=32,\n",
    "                     filters_5x5=128,\n",
    "                     filters_pool_proj=128,\n",
    "                     name='inception_5a')\n",
    "\n",
    "x = inception_module(x,\n",
    "                     filters_1x1=384,\n",
    "                     filters_3x3_reduce=192,\n",
    "                     filters_3x3=384,\n",
    "                     filters_5x5_reduce=48,\n",
    "                     filters_5x5=128,\n",
    "                     filters_pool_proj=128,\n",
    "                     name='inception_5b')\n",
    "\n",
    "x = GlobalAveragePooling2D(name='avg_pool_5_3x3/1')(x)\n",
    "\n",
    "x = Dropout(0.4)(x)\n",
    "\n",
    "x = Dense(6, activation='softmax', name='output')(x)"
   ]
  },
  {
   "cell_type": "markdown",
   "id": "5da87d4f",
   "metadata": {
    "papermill": {
     "duration": 0.011206,
     "end_time": "2022-12-22T09:01:52.035669",
     "exception": false,
     "start_time": "2022-12-22T09:01:52.024463",
     "status": "completed"
    },
    "tags": []
   },
   "source": []
  },
  {
   "cell_type": "code",
   "execution_count": 18,
   "id": "c3c66a73",
   "metadata": {
    "execution": {
     "iopub.execute_input": "2022-12-22T09:01:52.060146Z",
     "iopub.status.busy": "2022-12-22T09:01:52.059801Z",
     "iopub.status.idle": "2022-12-22T09:01:52.073082Z",
     "shell.execute_reply": "2022-12-22T09:01:52.072228Z"
    },
    "papermill": {
     "duration": 0.027901,
     "end_time": "2022-12-22T09:01:52.075121",
     "exception": false,
     "start_time": "2022-12-22T09:01:52.047220",
     "status": "completed"
    },
    "tags": []
   },
   "outputs": [],
   "source": [
    "model = Model(input_layer,[ x , x1, x2], name='inception_v1')\n",
    "#model = Model(input_layer,x, name='inception_v1')"
   ]
  },
  {
   "cell_type": "markdown",
   "id": "ee7c054e",
   "metadata": {
    "papermill": {
     "duration": 0.010831,
     "end_time": "2022-12-22T09:01:52.097193",
     "exception": false,
     "start_time": "2022-12-22T09:01:52.086362",
     "status": "completed"
    },
    "tags": []
   },
   "source": [
    "# Model Summary"
   ]
  },
  {
   "cell_type": "code",
   "execution_count": 19,
   "id": "d751de0c",
   "metadata": {
    "execution": {
     "iopub.execute_input": "2022-12-22T09:01:52.120973Z",
     "iopub.status.busy": "2022-12-22T09:01:52.120698Z",
     "iopub.status.idle": "2022-12-22T09:01:52.139642Z",
     "shell.execute_reply": "2022-12-22T09:01:52.137639Z"
    },
    "papermill": {
     "duration": 0.033365,
     "end_time": "2022-12-22T09:01:52.141668",
     "exception": false,
     "start_time": "2022-12-22T09:01:52.108303",
     "status": "completed"
    },
    "tags": []
   },
   "outputs": [
    {
     "name": "stdout",
     "output_type": "stream",
     "text": [
      "Model: \"inception_v1\"\n",
      "__________________________________________________________________________________________________\n",
      "Layer (type)                    Output Shape         Param #     Connected to                     \n",
      "==================================================================================================\n",
      "input_1 (InputLayer)            [(None, 224, 224, 3) 0                                            \n",
      "__________________________________________________________________________________________________\n",
      "conv_1_7x7/2 (Conv2D)           (None, 112, 112, 64) 9472        input_1[0][0]                    \n",
      "__________________________________________________________________________________________________\n",
      "max_pool_1_3x3/2 (MaxPooling2D) (None, 56, 56, 64)   0           conv_1_7x7/2[0][0]               \n",
      "__________________________________________________________________________________________________\n",
      "conv_2a_3x3/1 (Conv2D)          (None, 56, 56, 64)   4160        max_pool_1_3x3/2[0][0]           \n",
      "__________________________________________________________________________________________________\n",
      "conv_2b_3x3/1 (Conv2D)          (None, 56, 56, 192)  110784      conv_2a_3x3/1[0][0]              \n",
      "__________________________________________________________________________________________________\n",
      "max_pool_2_3x3/2 (MaxPooling2D) (None, 28, 28, 192)  0           conv_2b_3x3/1[0][0]              \n",
      "__________________________________________________________________________________________________\n",
      "conv2d_1 (Conv2D)               (None, 28, 28, 96)   18528       max_pool_2_3x3/2[0][0]           \n",
      "__________________________________________________________________________________________________\n",
      "conv2d_3 (Conv2D)               (None, 28, 28, 16)   3088        max_pool_2_3x3/2[0][0]           \n",
      "__________________________________________________________________________________________________\n",
      "max_pooling2d (MaxPooling2D)    (None, 28, 28, 192)  0           max_pool_2_3x3/2[0][0]           \n",
      "__________________________________________________________________________________________________\n",
      "conv2d (Conv2D)                 (None, 28, 28, 64)   12352       max_pool_2_3x3/2[0][0]           \n",
      "__________________________________________________________________________________________________\n",
      "conv2d_2 (Conv2D)               (None, 28, 28, 128)  110720      conv2d_1[0][0]                   \n",
      "__________________________________________________________________________________________________\n",
      "conv2d_4 (Conv2D)               (None, 28, 28, 32)   12832       conv2d_3[0][0]                   \n",
      "__________________________________________________________________________________________________\n",
      "conv2d_5 (Conv2D)               (None, 28, 28, 32)   6176        max_pooling2d[0][0]              \n",
      "__________________________________________________________________________________________________\n",
      "inception_3a (Concatenate)      (None, 28, 28, 256)  0           conv2d[0][0]                     \n",
      "                                                                 conv2d_2[0][0]                   \n",
      "                                                                 conv2d_4[0][0]                   \n",
      "                                                                 conv2d_5[0][0]                   \n",
      "__________________________________________________________________________________________________\n",
      "conv2d_7 (Conv2D)               (None, 28, 28, 128)  32896       inception_3a[0][0]               \n",
      "__________________________________________________________________________________________________\n",
      "conv2d_9 (Conv2D)               (None, 28, 28, 32)   8224        inception_3a[0][0]               \n",
      "__________________________________________________________________________________________________\n",
      "max_pooling2d_1 (MaxPooling2D)  (None, 28, 28, 256)  0           inception_3a[0][0]               \n",
      "__________________________________________________________________________________________________\n",
      "conv2d_6 (Conv2D)               (None, 28, 28, 128)  32896       inception_3a[0][0]               \n",
      "__________________________________________________________________________________________________\n",
      "conv2d_8 (Conv2D)               (None, 28, 28, 192)  221376      conv2d_7[0][0]                   \n",
      "__________________________________________________________________________________________________\n",
      "conv2d_10 (Conv2D)              (None, 28, 28, 96)   76896       conv2d_9[0][0]                   \n",
      "__________________________________________________________________________________________________\n",
      "conv2d_11 (Conv2D)              (None, 28, 28, 64)   16448       max_pooling2d_1[0][0]            \n",
      "__________________________________________________________________________________________________\n",
      "inception_3b (Concatenate)      (None, 28, 28, 480)  0           conv2d_6[0][0]                   \n",
      "                                                                 conv2d_8[0][0]                   \n",
      "                                                                 conv2d_10[0][0]                  \n",
      "                                                                 conv2d_11[0][0]                  \n",
      "__________________________________________________________________________________________________\n",
      "max_pool_3_3x3/2 (MaxPooling2D) (None, 14, 14, 480)  0           inception_3b[0][0]               \n",
      "__________________________________________________________________________________________________\n",
      "conv2d_13 (Conv2D)              (None, 14, 14, 96)   46176       max_pool_3_3x3/2[0][0]           \n",
      "__________________________________________________________________________________________________\n",
      "conv2d_15 (Conv2D)              (None, 14, 14, 16)   7696        max_pool_3_3x3/2[0][0]           \n",
      "__________________________________________________________________________________________________\n",
      "max_pooling2d_2 (MaxPooling2D)  (None, 14, 14, 480)  0           max_pool_3_3x3/2[0][0]           \n",
      "__________________________________________________________________________________________________\n",
      "conv2d_12 (Conv2D)              (None, 14, 14, 192)  92352       max_pool_3_3x3/2[0][0]           \n",
      "__________________________________________________________________________________________________\n",
      "conv2d_14 (Conv2D)              (None, 14, 14, 208)  179920      conv2d_13[0][0]                  \n",
      "__________________________________________________________________________________________________\n",
      "conv2d_16 (Conv2D)              (None, 14, 14, 48)   19248       conv2d_15[0][0]                  \n",
      "__________________________________________________________________________________________________\n",
      "conv2d_17 (Conv2D)              (None, 14, 14, 64)   30784       max_pooling2d_2[0][0]            \n",
      "__________________________________________________________________________________________________\n",
      "inception_4a (Concatenate)      (None, 14, 14, 512)  0           conv2d_12[0][0]                  \n",
      "                                                                 conv2d_14[0][0]                  \n",
      "                                                                 conv2d_16[0][0]                  \n",
      "                                                                 conv2d_17[0][0]                  \n",
      "__________________________________________________________________________________________________\n",
      "conv2d_20 (Conv2D)              (None, 14, 14, 112)  57456       inception_4a[0][0]               \n",
      "__________________________________________________________________________________________________\n",
      "conv2d_22 (Conv2D)              (None, 14, 14, 24)   12312       inception_4a[0][0]               \n",
      "__________________________________________________________________________________________________\n",
      "max_pooling2d_3 (MaxPooling2D)  (None, 14, 14, 512)  0           inception_4a[0][0]               \n",
      "__________________________________________________________________________________________________\n",
      "conv2d_19 (Conv2D)              (None, 14, 14, 160)  82080       inception_4a[0][0]               \n",
      "__________________________________________________________________________________________________\n",
      "conv2d_21 (Conv2D)              (None, 14, 14, 224)  226016      conv2d_20[0][0]                  \n",
      "__________________________________________________________________________________________________\n",
      "conv2d_23 (Conv2D)              (None, 14, 14, 64)   38464       conv2d_22[0][0]                  \n",
      "__________________________________________________________________________________________________\n",
      "conv2d_24 (Conv2D)              (None, 14, 14, 64)   32832       max_pooling2d_3[0][0]            \n",
      "__________________________________________________________________________________________________\n",
      "inception_4b (Concatenate)      (None, 14, 14, 512)  0           conv2d_19[0][0]                  \n",
      "                                                                 conv2d_21[0][0]                  \n",
      "                                                                 conv2d_23[0][0]                  \n",
      "                                                                 conv2d_24[0][0]                  \n",
      "__________________________________________________________________________________________________\n",
      "conv2d_26 (Conv2D)              (None, 14, 14, 128)  65664       inception_4b[0][0]               \n",
      "__________________________________________________________________________________________________\n",
      "conv2d_28 (Conv2D)              (None, 14, 14, 24)   12312       inception_4b[0][0]               \n",
      "__________________________________________________________________________________________________\n",
      "max_pooling2d_4 (MaxPooling2D)  (None, 14, 14, 512)  0           inception_4b[0][0]               \n",
      "__________________________________________________________________________________________________\n",
      "conv2d_25 (Conv2D)              (None, 14, 14, 128)  65664       inception_4b[0][0]               \n",
      "__________________________________________________________________________________________________\n",
      "conv2d_27 (Conv2D)              (None, 14, 14, 256)  295168      conv2d_26[0][0]                  \n",
      "__________________________________________________________________________________________________\n",
      "conv2d_29 (Conv2D)              (None, 14, 14, 64)   38464       conv2d_28[0][0]                  \n",
      "__________________________________________________________________________________________________\n",
      "conv2d_30 (Conv2D)              (None, 14, 14, 64)   32832       max_pooling2d_4[0][0]            \n",
      "__________________________________________________________________________________________________\n",
      "inception_4c (Concatenate)      (None, 14, 14, 512)  0           conv2d_25[0][0]                  \n",
      "                                                                 conv2d_27[0][0]                  \n",
      "                                                                 conv2d_29[0][0]                  \n",
      "                                                                 conv2d_30[0][0]                  \n",
      "__________________________________________________________________________________________________\n",
      "conv2d_32 (Conv2D)              (None, 14, 14, 144)  73872       inception_4c[0][0]               \n",
      "__________________________________________________________________________________________________\n",
      "conv2d_34 (Conv2D)              (None, 14, 14, 32)   16416       inception_4c[0][0]               \n",
      "__________________________________________________________________________________________________\n",
      "max_pooling2d_5 (MaxPooling2D)  (None, 14, 14, 512)  0           inception_4c[0][0]               \n",
      "__________________________________________________________________________________________________\n",
      "conv2d_31 (Conv2D)              (None, 14, 14, 112)  57456       inception_4c[0][0]               \n",
      "__________________________________________________________________________________________________\n",
      "conv2d_33 (Conv2D)              (None, 14, 14, 288)  373536      conv2d_32[0][0]                  \n",
      "__________________________________________________________________________________________________\n",
      "conv2d_35 (Conv2D)              (None, 14, 14, 64)   51264       conv2d_34[0][0]                  \n",
      "__________________________________________________________________________________________________\n",
      "conv2d_36 (Conv2D)              (None, 14, 14, 64)   32832       max_pooling2d_5[0][0]            \n",
      "__________________________________________________________________________________________________\n",
      "inception_4d (Concatenate)      (None, 14, 14, 528)  0           conv2d_31[0][0]                  \n",
      "                                                                 conv2d_33[0][0]                  \n",
      "                                                                 conv2d_35[0][0]                  \n",
      "                                                                 conv2d_36[0][0]                  \n",
      "__________________________________________________________________________________________________\n",
      "conv2d_39 (Conv2D)              (None, 14, 14, 160)  84640       inception_4d[0][0]               \n",
      "__________________________________________________________________________________________________\n",
      "conv2d_41 (Conv2D)              (None, 14, 14, 32)   16928       inception_4d[0][0]               \n",
      "__________________________________________________________________________________________________\n",
      "max_pooling2d_6 (MaxPooling2D)  (None, 14, 14, 528)  0           inception_4d[0][0]               \n",
      "__________________________________________________________________________________________________\n",
      "conv2d_38 (Conv2D)              (None, 14, 14, 256)  135424      inception_4d[0][0]               \n",
      "__________________________________________________________________________________________________\n",
      "conv2d_40 (Conv2D)              (None, 14, 14, 320)  461120      conv2d_39[0][0]                  \n",
      "__________________________________________________________________________________________________\n",
      "conv2d_42 (Conv2D)              (None, 14, 14, 128)  102528      conv2d_41[0][0]                  \n",
      "__________________________________________________________________________________________________\n",
      "conv2d_43 (Conv2D)              (None, 14, 14, 128)  67712       max_pooling2d_6[0][0]            \n",
      "__________________________________________________________________________________________________\n",
      "inception_4e (Concatenate)      (None, 14, 14, 832)  0           conv2d_38[0][0]                  \n",
      "                                                                 conv2d_40[0][0]                  \n",
      "                                                                 conv2d_42[0][0]                  \n",
      "                                                                 conv2d_43[0][0]                  \n",
      "__________________________________________________________________________________________________\n",
      "max_pool_4_3x3/2 (MaxPooling2D) (None, 7, 7, 832)    0           inception_4e[0][0]               \n",
      "__________________________________________________________________________________________________\n",
      "conv2d_45 (Conv2D)              (None, 7, 7, 160)    133280      max_pool_4_3x3/2[0][0]           \n",
      "__________________________________________________________________________________________________\n",
      "conv2d_47 (Conv2D)              (None, 7, 7, 32)     26656       max_pool_4_3x3/2[0][0]           \n",
      "__________________________________________________________________________________________________\n",
      "max_pooling2d_7 (MaxPooling2D)  (None, 7, 7, 832)    0           max_pool_4_3x3/2[0][0]           \n",
      "__________________________________________________________________________________________________\n",
      "conv2d_44 (Conv2D)              (None, 7, 7, 256)    213248      max_pool_4_3x3/2[0][0]           \n",
      "__________________________________________________________________________________________________\n",
      "conv2d_46 (Conv2D)              (None, 7, 7, 320)    461120      conv2d_45[0][0]                  \n",
      "__________________________________________________________________________________________________\n",
      "conv2d_48 (Conv2D)              (None, 7, 7, 128)    102528      conv2d_47[0][0]                  \n",
      "__________________________________________________________________________________________________\n",
      "conv2d_49 (Conv2D)              (None, 7, 7, 128)    106624      max_pooling2d_7[0][0]            \n",
      "__________________________________________________________________________________________________\n",
      "inception_5a (Concatenate)      (None, 7, 7, 832)    0           conv2d_44[0][0]                  \n",
      "                                                                 conv2d_46[0][0]                  \n",
      "                                                                 conv2d_48[0][0]                  \n",
      "                                                                 conv2d_49[0][0]                  \n",
      "__________________________________________________________________________________________________\n",
      "conv2d_51 (Conv2D)              (None, 7, 7, 192)    159936      inception_5a[0][0]               \n",
      "__________________________________________________________________________________________________\n",
      "conv2d_53 (Conv2D)              (None, 7, 7, 48)     39984       inception_5a[0][0]               \n",
      "__________________________________________________________________________________________________\n",
      "max_pooling2d_8 (MaxPooling2D)  (None, 7, 7, 832)    0           inception_5a[0][0]               \n",
      "__________________________________________________________________________________________________\n",
      "average_pooling2d (AveragePooli (None, 4, 4, 512)    0           inception_4a[0][0]               \n",
      "__________________________________________________________________________________________________\n",
      "average_pooling2d_1 (AveragePoo (None, 4, 4, 528)    0           inception_4d[0][0]               \n",
      "__________________________________________________________________________________________________\n",
      "conv2d_50 (Conv2D)              (None, 7, 7, 384)    319872      inception_5a[0][0]               \n",
      "__________________________________________________________________________________________________\n",
      "conv2d_52 (Conv2D)              (None, 7, 7, 384)    663936      conv2d_51[0][0]                  \n",
      "__________________________________________________________________________________________________\n",
      "conv2d_54 (Conv2D)              (None, 7, 7, 128)    153728      conv2d_53[0][0]                  \n",
      "__________________________________________________________________________________________________\n",
      "conv2d_55 (Conv2D)              (None, 7, 7, 128)    106624      max_pooling2d_8[0][0]            \n",
      "__________________________________________________________________________________________________\n",
      "conv2d_18 (Conv2D)              (None, 4, 4, 128)    65664       average_pooling2d[0][0]          \n",
      "__________________________________________________________________________________________________\n",
      "conv2d_37 (Conv2D)              (None, 4, 4, 128)    67712       average_pooling2d_1[0][0]        \n",
      "__________________________________________________________________________________________________\n",
      "inception_5b (Concatenate)      (None, 7, 7, 1024)   0           conv2d_50[0][0]                  \n",
      "                                                                 conv2d_52[0][0]                  \n",
      "                                                                 conv2d_54[0][0]                  \n",
      "                                                                 conv2d_55[0][0]                  \n",
      "__________________________________________________________________________________________________\n",
      "flatten (Flatten)               (None, 2048)         0           conv2d_18[0][0]                  \n",
      "__________________________________________________________________________________________________\n",
      "flatten_1 (Flatten)             (None, 2048)         0           conv2d_37[0][0]                  \n",
      "__________________________________________________________________________________________________\n",
      "avg_pool_5_3x3/1 (GlobalAverage (None, 1024)         0           inception_5b[0][0]               \n",
      "__________________________________________________________________________________________________\n",
      "dense (Dense)                   (None, 1024)         2098176     flatten[0][0]                    \n",
      "__________________________________________________________________________________________________\n",
      "dense_1 (Dense)                 (None, 1024)         2098176     flatten_1[0][0]                  \n",
      "__________________________________________________________________________________________________\n",
      "dropout_2 (Dropout)             (None, 1024)         0           avg_pool_5_3x3/1[0][0]           \n",
      "__________________________________________________________________________________________________\n",
      "dropout (Dropout)               (None, 1024)         0           dense[0][0]                      \n",
      "__________________________________________________________________________________________________\n",
      "dropout_1 (Dropout)             (None, 1024)         0           dense_1[0][0]                    \n",
      "__________________________________________________________________________________________________\n",
      "output (Dense)                  (None, 6)            6150        dropout_2[0][0]                  \n",
      "__________________________________________________________________________________________________\n",
      "auxilliary_output_1 (Dense)     (None, 6)            6150        dropout[0][0]                    \n",
      "__________________________________________________________________________________________________\n",
      "auxilliary_output_2 (Dense)     (None, 6)            6150        dropout_1[0][0]                  \n",
      "==================================================================================================\n",
      "Total params: 10,321,730\n",
      "Trainable params: 10,321,730\n",
      "Non-trainable params: 0\n",
      "__________________________________________________________________________________________________\n"
     ]
    }
   ],
   "source": [
    "model.summary()"
   ]
  },
  {
   "cell_type": "markdown",
   "id": "9d71d492",
   "metadata": {
    "papermill": {
     "duration": 0.011205,
     "end_time": "2022-12-22T09:01:52.164493",
     "exception": false,
     "start_time": "2022-12-22T09:01:52.153288",
     "status": "completed"
    },
    "tags": []
   },
   "source": [
    "# Data Augmentation"
   ]
  },
  {
   "cell_type": "code",
   "execution_count": 20,
   "id": "a02314a8",
   "metadata": {
    "execution": {
     "iopub.execute_input": "2022-12-22T09:01:52.188870Z",
     "iopub.status.busy": "2022-12-22T09:01:52.188092Z",
     "iopub.status.idle": "2022-12-22T09:01:52.194239Z",
     "shell.execute_reply": "2022-12-22T09:01:52.193397Z"
    },
    "papermill": {
     "duration": 0.02029,
     "end_time": "2022-12-22T09:01:52.196283",
     "exception": false,
     "start_time": "2022-12-22T09:01:52.175993",
     "status": "completed"
    },
    "tags": []
   },
   "outputs": [],
   "source": [
    "from tensorflow.keras.preprocessing.image import ImageDataGenerator\n",
    "\n",
    "datagen = ImageDataGenerator(\n",
    "    rotation_range=10,  # randomly rotate images in the range (degrees, 0 to 180)\n",
    "    zoom_range=0.1,  # Randomly zoom image\n",
    "    width_shift_range=0.1,  # randomly shift images horizontally (fraction of total width)\n",
    "    height_shift_range=0.1,  # randomly shift images vertically (fraction of total height)\n",
    "    horizontal_flip=True,  # randomly flip images horizontally\n",
    "    vertical_flip=False, # Don't randomly flip images vertically\n",
    ") "
   ]
  },
  {
   "cell_type": "code",
   "execution_count": 21,
   "id": "6051ae61",
   "metadata": {
    "execution": {
     "iopub.execute_input": "2022-12-22T09:01:52.221151Z",
     "iopub.status.busy": "2022-12-22T09:01:52.220876Z",
     "iopub.status.idle": "2022-12-22T09:01:52.470050Z",
     "shell.execute_reply": "2022-12-22T09:01:52.469025Z"
    },
    "papermill": {
     "duration": 0.264375,
     "end_time": "2022-12-22T09:01:52.472563",
     "exception": false,
     "start_time": "2022-12-22T09:01:52.208188",
     "status": "completed"
    },
    "tags": []
   },
   "outputs": [],
   "source": [
    "batch_size = 32\n",
    "img_iter = datagen.flow(x_train, y_train, batch_size=batch_size)"
   ]
  },
  {
   "cell_type": "code",
   "execution_count": 22,
   "id": "8f37dbb9",
   "metadata": {
    "execution": {
     "iopub.execute_input": "2022-12-22T09:01:52.498874Z",
     "iopub.status.busy": "2022-12-22T09:01:52.498528Z",
     "iopub.status.idle": "2022-12-22T09:01:55.301435Z",
     "shell.execute_reply": "2022-12-22T09:01:55.300524Z"
    },
    "papermill": {
     "duration": 2.818443,
     "end_time": "2022-12-22T09:01:55.303720",
     "exception": false,
     "start_time": "2022-12-22T09:01:52.485277",
     "status": "completed"
    },
    "tags": []
   },
   "outputs": [
    {
     "data": {
      "image/png": "[encoded data removed]",
      "text/plain": [
       "<Figure size 432x288 with 32 Axes>"
      ]
     },
     "metadata": {
      "needs_background": "light"
     },
     "output_type": "display_data"
    }
   ],
   "source": [
    "x, y = img_iter.next()\n",
    "fig, ax = plt.subplots(nrows=4, ncols=8)\n",
    "for i in range(batch_size):\n",
    "    image = x[i]\n",
    "    ax.flatten()[i].imshow(np.squeeze(image))\n",
    "plt.show()"
   ]
  },
  {
   "cell_type": "code",
   "execution_count": 23,
   "id": "c639af1f",
   "metadata": {
    "execution": {
     "iopub.execute_input": "2022-12-22T09:01:55.330014Z",
     "iopub.status.busy": "2022-12-22T09:01:55.329693Z",
     "iopub.status.idle": "2022-12-22T09:01:55.950310Z",
     "shell.execute_reply": "2022-12-22T09:01:55.949268Z"
    },
    "papermill": {
     "duration": 0.636698,
     "end_time": "2022-12-22T09:01:55.952961",
     "exception": false,
     "start_time": "2022-12-22T09:01:55.316263",
     "status": "completed"
    },
    "tags": []
   },
   "outputs": [],
   "source": [
    "datagen.fit(x_train)"
   ]
  },
  {
   "cell_type": "code",
   "execution_count": 24,
   "id": "365b296b",
   "metadata": {
    "execution": {
     "iopub.execute_input": "2022-12-22T09:01:55.979755Z",
     "iopub.status.busy": "2022-12-22T09:01:55.978236Z",
     "iopub.status.idle": "2022-12-22T09:01:55.986452Z",
     "shell.execute_reply": "2022-12-22T09:01:55.985615Z"
    },
    "papermill": {
     "duration": 0.023674,
     "end_time": "2022-12-22T09:01:55.988700",
     "exception": false,
     "start_time": "2022-12-22T09:01:55.965026",
     "status": "completed"
    },
    "tags": []
   },
   "outputs": [
    {
     "data": {
      "text/plain": [
       "<keras.preprocessing.image.NumpyArrayIterator at 0x7f17b41dc590>"
      ]
     },
     "execution_count": 24,
     "metadata": {},
     "output_type": "execute_result"
    }
   ],
   "source": [
    "img_iter"
   ]
  },
  {
   "cell_type": "code",
   "execution_count": 25,
   "id": "1b24cb37",
   "metadata": {
    "execution": {
     "iopub.execute_input": "2022-12-22T09:01:56.015170Z",
     "iopub.status.busy": "2022-12-22T09:01:56.014341Z",
     "iopub.status.idle": "2022-12-22T09:01:56.020482Z",
     "shell.execute_reply": "2022-12-22T09:01:56.019498Z"
    },
    "papermill": {
     "duration": 0.021508,
     "end_time": "2022-12-22T09:01:56.022729",
     "exception": false,
     "start_time": "2022-12-22T09:01:56.001221",
     "status": "completed"
    },
    "tags": []
   },
   "outputs": [
    {
     "data": {
      "text/plain": [
       "(1681, 224, 224, 3)"
      ]
     },
     "execution_count": 25,
     "metadata": {},
     "output_type": "execute_result"
    }
   ],
   "source": [
    "x_train.shape"
   ]
  },
  {
   "cell_type": "code",
   "execution_count": 26,
   "id": "853a97fe",
   "metadata": {
    "execution": {
     "iopub.execute_input": "2022-12-22T09:01:56.049559Z",
     "iopub.status.busy": "2022-12-22T09:01:56.048648Z",
     "iopub.status.idle": "2022-12-22T09:02:07.925128Z",
     "shell.execute_reply": "2022-12-22T09:02:07.924066Z"
    },
    "papermill": {
     "duration": 11.892311,
     "end_time": "2022-12-22T09:02:07.927592",
     "exception": false,
     "start_time": "2022-12-22T09:01:56.035281",
     "status": "completed"
    },
    "tags": []
   },
   "outputs": [],
   "source": [
    "for i in range(0,11):\n",
    "    x_train = np.concatenate((x_train, img_iter[i][0]))\n",
    "    y_train = np.concatenate((y_train,img_iter[i][1]))"
   ]
  },
  {
   "cell_type": "code",
   "execution_count": 27,
   "id": "338cdc51",
   "metadata": {
    "execution": {
     "iopub.execute_input": "2022-12-22T09:02:07.955306Z",
     "iopub.status.busy": "2022-12-22T09:02:07.954981Z",
     "iopub.status.idle": "2022-12-22T09:02:07.960852Z",
     "shell.execute_reply": "2022-12-22T09:02:07.959947Z"
    },
    "papermill": {
     "duration": 0.021382,
     "end_time": "2022-12-22T09:02:07.962881",
     "exception": false,
     "start_time": "2022-12-22T09:02:07.941499",
     "status": "completed"
    },
    "tags": []
   },
   "outputs": [
    {
     "data": {
      "text/plain": [
       "(2033, 224, 224, 3)"
      ]
     },
     "execution_count": 27,
     "metadata": {},
     "output_type": "execute_result"
    }
   ],
   "source": [
    "x_train.shape"
   ]
  },
  {
   "cell_type": "code",
   "execution_count": 28,
   "id": "b6de770f",
   "metadata": {
    "execution": {
     "iopub.execute_input": "2022-12-22T09:02:07.989559Z",
     "iopub.status.busy": "2022-12-22T09:02:07.988197Z",
     "iopub.status.idle": "2022-12-22T09:02:08.349237Z",
     "shell.execute_reply": "2022-12-22T09:02:08.348151Z"
    },
    "papermill": {
     "duration": 0.37709,
     "end_time": "2022-12-22T09:02:08.352161",
     "exception": false,
     "start_time": "2022-12-22T09:02:07.975071",
     "status": "completed"
    },
    "tags": []
   },
   "outputs": [],
   "source": [
    "train_x, x_valid , train_y,y_valid = train_test_split(x_train,y_train,test_size=0.20)"
   ]
  },
  {
   "cell_type": "code",
   "execution_count": null,
   "id": "97e4ff31",
   "metadata": {
    "papermill": {
     "duration": 0.014273,
     "end_time": "2022-12-22T09:02:08.379826",
     "exception": false,
     "start_time": "2022-12-22T09:02:08.365553",
     "status": "completed"
    },
    "tags": []
   },
   "outputs": [],
   "source": []
  },
  {
   "cell_type": "markdown",
   "id": "8ca20123",
   "metadata": {
    "papermill": {
     "duration": 0.0121,
     "end_time": "2022-12-22T09:02:08.404246",
     "exception": false,
     "start_time": "2022-12-22T09:02:08.392146",
     "status": "completed"
    },
    "tags": []
   },
   "source": [
    "# Training "
   ]
  },
  {
   "cell_type": "code",
   "execution_count": 29,
   "id": "f084d317",
   "metadata": {
    "execution": {
     "iopub.execute_input": "2022-12-22T09:02:08.432003Z",
     "iopub.status.busy": "2022-12-22T09:02:08.431667Z",
     "iopub.status.idle": "2022-12-22T09:02:08.448085Z",
     "shell.execute_reply": "2022-12-22T09:02:08.447103Z"
    },
    "papermill": {
     "duration": 0.033514,
     "end_time": "2022-12-22T09:02:08.450228",
     "exception": false,
     "start_time": "2022-12-22T09:02:08.416714",
     "status": "completed"
    },
    "tags": []
   },
   "outputs": [],
   "source": [
    "epochs = 100\n",
    "initial_lrate = 0.0001\n",
    "batch_size = 32\n",
    "adam = Adam(learning_rate=initial_lrate,)\n",
    "earlyStopping = keras.callbacks.EarlyStopping(monitor='val_accuracy', patience=10, verbose=1, mode='max')\n",
    "############### 3 inputs \n",
    "model.compile( loss=['binary_crossentropy','binary_crossentropy','binary_crossentropy'], loss_weights=[1,0.3,0.3], optimizer=adam, metrics=['accuracy'])\n",
    "\n",
    "###### 1 input \n",
    "#model.compile(loss='categorical_crossentropy', optimizer=adam, metrics=['accuracy'])"
   ]
  },
  {
   "cell_type": "code",
   "execution_count": 30,
   "id": "b75f541c",
   "metadata": {
    "execution": {
     "iopub.execute_input": "2022-12-22T09:02:08.476110Z",
     "iopub.status.busy": "2022-12-22T09:02:08.475810Z",
     "iopub.status.idle": "2022-12-22T09:13:06.115243Z",
     "shell.execute_reply": "2022-12-22T09:13:06.114278Z"
    },
    "papermill": {
     "duration": 657.654857,
     "end_time": "2022-12-22T09:13:06.117383",
     "exception": false,
     "start_time": "2022-12-22T09:02:08.462526",
     "status": "completed"
    },
    "tags": []
   },
   "outputs": [
    {
     "name": "stderr",
     "output_type": "stream",
     "text": [
      "2022-12-22 09:02:08.480804: W tensorflow/core/framework/cpu_allocator_impl.cc:80] Allocation of 979034112 exceeds 10% of free system memory.\n",
      "2022-12-22 09:02:09.757792: W tensorflow/core/framework/cpu_allocator_impl.cc:80] Allocation of 979034112 exceeds 10% of free system memory.\n",
      "2022-12-22 09:02:10.602384: I tensorflow/compiler/mlir/mlir_graph_optimization_pass.cc:185] None of the MLIR Optimization Passes are enabled (registered 2)\n"
     ]
    },
    {
     "name": "stdout",
     "output_type": "stream",
     "text": [
      "Epoch 1/100\n"
     ]
    },
    {
     "name": "stderr",
     "output_type": "stream",
     "text": [
      "2022-12-22 09:02:15.588881: I tensorflow/stream_executor/cuda/cuda_dnn.cc:369] Loaded cuDNN version 8005\n"
     ]
    },
    {
     "name": "stdout",
     "output_type": "stream",
     "text": [
      "51/51 [==============================] - 26s 220ms/step - loss: 0.7578 - output_loss: 0.4303 - auxilliary_output_1_loss: 0.6121 - auxilliary_output_2_loss: 0.4795 - output_accuracy: 0.3690 - auxilliary_output_1_accuracy: 0.3813 - auxilliary_output_2_accuracy: 0.3364 - val_loss: 0.5242 - val_output_loss: 0.3374 - val_auxilliary_output_1_loss: 0.3051 - val_auxilliary_output_2_loss: 0.3177 - val_output_accuracy: 0.5184 - val_auxilliary_output_1_accuracy: 0.5504 - val_auxilliary_output_2_accuracy: 0.5037\n",
      "Epoch 2/100\n",
      "51/51 [==============================] - 6s 120ms/step - loss: 0.5024 - output_loss: 0.3129 - auxilliary_output_1_loss: 0.3132 - auxilliary_output_2_loss: 0.3185 - output_accuracy: 0.5652 - auxilliary_output_1_accuracy: 0.5861 - auxilliary_output_2_accuracy: 0.5603 - val_loss: 0.4409 - val_output_loss: 0.2845 - val_auxilliary_output_1_loss: 0.2553 - val_auxilliary_output_2_loss: 0.2659 - val_output_accuracy: 0.6314 - val_auxilliary_output_1_accuracy: 0.6708 - val_auxilliary_output_2_accuracy: 0.6314\n",
      "Epoch 3/100\n",
      "51/51 [==============================] - 6s 119ms/step - loss: 0.4362 - output_loss: 0.2739 - auxilliary_output_1_loss: 0.2698 - auxilliary_output_2_loss: 0.2715 - output_accuracy: 0.6396 - auxilliary_output_1_accuracy: 0.6574 - auxilliary_output_2_accuracy: 0.6427 - val_loss: 0.3697 - val_output_loss: 0.2334 - val_auxilliary_output_1_loss: 0.2309 - val_auxilliary_output_2_loss: 0.2233 - val_output_accuracy: 0.7027 - val_auxilliary_output_1_accuracy: 0.6929 - val_auxilliary_output_2_accuracy: 0.7076\n",
      "Epoch 4/100\n",
      "51/51 [==============================] - 6s 121ms/step - loss: 0.3965 - output_loss: 0.2482 - auxilliary_output_1_loss: 0.2468 - auxilliary_output_2_loss: 0.2477 - output_accuracy: 0.6876 - auxilliary_output_1_accuracy: 0.7011 - auxilliary_output_2_accuracy: 0.6900 - val_loss: 0.3284 - val_output_loss: 0.2090 - val_auxilliary_output_1_loss: 0.1989 - val_auxilliary_output_2_loss: 0.1989 - val_output_accuracy: 0.7518 - val_auxilliary_output_1_accuracy: 0.7322 - val_auxilliary_output_2_accuracy: 0.7715\n",
      "Epoch 5/100\n",
      "51/51 [==============================] - 6s 120ms/step - loss: 0.3611 - output_loss: 0.2260 - auxilliary_output_1_loss: 0.2249 - auxilliary_output_2_loss: 0.2253 - output_accuracy: 0.7220 - auxilliary_output_1_accuracy: 0.7245 - auxilliary_output_2_accuracy: 0.7386 - val_loss: 0.3235 - val_output_loss: 0.2126 - val_auxilliary_output_1_loss: 0.1806 - val_auxilliary_output_2_loss: 0.1892 - val_output_accuracy: 0.7346 - val_auxilliary_output_1_accuracy: 0.7690 - val_auxilliary_output_2_accuracy: 0.7617\n",
      "Epoch 6/100\n",
      "51/51 [==============================] - 6s 122ms/step - loss: 0.3633 - output_loss: 0.2331 - auxilliary_output_1_loss: 0.2144 - auxilliary_output_2_loss: 0.2199 - output_accuracy: 0.7134 - auxilliary_output_1_accuracy: 0.7435 - auxilliary_output_2_accuracy: 0.7269 - val_loss: 0.2837 - val_output_loss: 0.1754 - val_auxilliary_output_1_loss: 0.1874 - val_auxilliary_output_2_loss: 0.1738 - val_output_accuracy: 0.7838 - val_auxilliary_output_1_accuracy: 0.7764 - val_auxilliary_output_2_accuracy: 0.7862\n",
      "Epoch 7/100\n",
      "51/51 [==============================] - 6s 123ms/step - loss: 0.2925 - output_loss: 0.1828 - auxilliary_output_1_loss: 0.1835 - auxilliary_output_2_loss: 0.1822 - output_accuracy: 0.7878 - auxilliary_output_1_accuracy: 0.7811 - auxilliary_output_2_accuracy: 0.7860 - val_loss: 0.2992 - val_output_loss: 0.1993 - val_auxilliary_output_1_loss: 0.1636 - val_auxilliary_output_2_loss: 0.1691 - val_output_accuracy: 0.7641 - val_auxilliary_output_1_accuracy: 0.7912 - val_auxilliary_output_2_accuracy: 0.7838\n",
      "Epoch 8/100\n",
      "51/51 [==============================] - 6s 123ms/step - loss: 0.2728 - output_loss: 0.1705 - auxilliary_output_1_loss: 0.1719 - auxilliary_output_2_loss: 0.1693 - output_accuracy: 0.8038 - auxilliary_output_1_accuracy: 0.7958 - auxilliary_output_2_accuracy: 0.8075 - val_loss: 0.3021 - val_output_loss: 0.1986 - val_auxilliary_output_1_loss: 0.1675 - val_auxilliary_output_2_loss: 0.1775 - val_output_accuracy: 0.7789 - val_auxilliary_output_1_accuracy: 0.7887 - val_auxilliary_output_2_accuracy: 0.7764\n",
      "Epoch 9/100\n",
      "51/51 [==============================] - 6s 123ms/step - loss: 0.2756 - output_loss: 0.1743 - auxilliary_output_1_loss: 0.1694 - auxilliary_output_2_loss: 0.1682 - output_accuracy: 0.7977 - auxilliary_output_1_accuracy: 0.8173 - auxilliary_output_2_accuracy: 0.8137 - val_loss: 0.2632 - val_output_loss: 0.1694 - val_auxilliary_output_1_loss: 0.1468 - val_auxilliary_output_2_loss: 0.1658 - val_output_accuracy: 0.7641 - val_auxilliary_output_1_accuracy: 0.8280 - val_auxilliary_output_2_accuracy: 0.7715\n",
      "Epoch 10/100\n",
      "51/51 [==============================] - 6s 123ms/step - loss: 0.2153 - output_loss: 0.1340 - auxilliary_output_1_loss: 0.1365 - auxilliary_output_2_loss: 0.1344 - output_accuracy: 0.8499 - auxilliary_output_1_accuracy: 0.8542 - auxilliary_output_2_accuracy: 0.8530 - val_loss: 0.2412 - val_output_loss: 0.1537 - val_auxilliary_output_1_loss: 0.1426 - val_auxilliary_output_2_loss: 0.1488 - val_output_accuracy: 0.8133 - val_auxilliary_output_1_accuracy: 0.8133 - val_auxilliary_output_2_accuracy: 0.8206\n",
      "Epoch 11/100\n",
      "51/51 [==============================] - 6s 124ms/step - loss: 0.2128 - output_loss: 0.1337 - auxilliary_output_1_loss: 0.1355 - auxilliary_output_2_loss: 0.1279 - output_accuracy: 0.8432 - auxilliary_output_1_accuracy: 0.8481 - auxilliary_output_2_accuracy: 0.8536 - val_loss: 0.1930 - val_output_loss: 0.1205 - val_auxilliary_output_1_loss: 0.1264 - val_auxilliary_output_2_loss: 0.1155 - val_output_accuracy: 0.8403 - val_auxilliary_output_1_accuracy: 0.8575 - val_auxilliary_output_2_accuracy: 0.8501\n",
      "Epoch 12/100\n",
      "51/51 [==============================] - 6s 126ms/step - loss: 0.1886 - output_loss: 0.1176 - auxilliary_output_1_loss: 0.1219 - auxilliary_output_2_loss: 0.1148 - output_accuracy: 0.8684 - auxilliary_output_1_accuracy: 0.8690 - auxilliary_output_2_accuracy: 0.8752 - val_loss: 0.2364 - val_output_loss: 0.1542 - val_auxilliary_output_1_loss: 0.1311 - val_auxilliary_output_2_loss: 0.1429 - val_output_accuracy: 0.8059 - val_auxilliary_output_1_accuracy: 0.8501 - val_auxilliary_output_2_accuracy: 0.8206\n",
      "Epoch 13/100\n",
      "51/51 [==============================] - 6s 126ms/step - loss: 0.1901 - output_loss: 0.1187 - auxilliary_output_1_loss: 0.1193 - auxilliary_output_2_loss: 0.1189 - output_accuracy: 0.8672 - auxilliary_output_1_accuracy: 0.8739 - auxilliary_output_2_accuracy: 0.8672 - val_loss: 0.2307 - val_output_loss: 0.1528 - val_auxilliary_output_1_loss: 0.1229 - val_auxilliary_output_2_loss: 0.1367 - val_output_accuracy: 0.8157 - val_auxilliary_output_1_accuracy: 0.8722 - val_auxilliary_output_2_accuracy: 0.8428\n",
      "Epoch 14/100\n",
      "51/51 [==============================] - 6s 125ms/step - loss: 0.1741 - output_loss: 0.1090 - auxilliary_output_1_loss: 0.1129 - auxilliary_output_2_loss: 0.1041 - output_accuracy: 0.8795 - auxilliary_output_1_accuracy: 0.8838 - auxilliary_output_2_accuracy: 0.8881 - val_loss: 0.2288 - val_output_loss: 0.1446 - val_auxilliary_output_1_loss: 0.1444 - val_auxilliary_output_2_loss: 0.1361 - val_output_accuracy: 0.8378 - val_auxilliary_output_1_accuracy: 0.8403 - val_auxilliary_output_2_accuracy: 0.8378\n",
      "Epoch 15/100\n",
      "51/51 [==============================] - 6s 126ms/step - loss: 0.1586 - output_loss: 0.0991 - auxilliary_output_1_loss: 0.1024 - auxilliary_output_2_loss: 0.0957 - output_accuracy: 0.8948 - auxilliary_output_1_accuracy: 0.9028 - auxilliary_output_2_accuracy: 0.9022 - val_loss: 0.2298 - val_output_loss: 0.1510 - val_auxilliary_output_1_loss: 0.1280 - val_auxilliary_output_2_loss: 0.1349 - val_output_accuracy: 0.8157 - val_auxilliary_output_1_accuracy: 0.8649 - val_auxilliary_output_2_accuracy: 0.8329\n",
      "Epoch 16/100\n",
      "51/51 [==============================] - 6s 126ms/step - loss: 0.1716 - output_loss: 0.1095 - auxilliary_output_1_loss: 0.1054 - auxilliary_output_2_loss: 0.1017 - output_accuracy: 0.8745 - auxilliary_output_1_accuracy: 0.8825 - auxilliary_output_2_accuracy: 0.8911 - val_loss: 0.2111 - val_output_loss: 0.1354 - val_auxilliary_output_1_loss: 0.1258 - val_auxilliary_output_2_loss: 0.1263 - val_output_accuracy: 0.8452 - val_auxilliary_output_1_accuracy: 0.8600 - val_auxilliary_output_2_accuracy: 0.8526\n",
      "Epoch 17/100\n",
      "51/51 [==============================] - 6s 126ms/step - loss: 0.1245 - output_loss: 0.0763 - auxilliary_output_1_loss: 0.0886 - auxilliary_output_2_loss: 0.0720 - output_accuracy: 0.9108 - auxilliary_output_1_accuracy: 0.9096 - auxilliary_output_2_accuracy: 0.9280 - val_loss: 0.1800 - val_output_loss: 0.1128 - val_auxilliary_output_1_loss: 0.1139 - val_auxilliary_output_2_loss: 0.1100 - val_output_accuracy: 0.8722 - val_auxilliary_output_1_accuracy: 0.8624 - val_auxilliary_output_2_accuracy: 0.8673\n",
      "Epoch 18/100\n",
      "51/51 [==============================] - 6s 125ms/step - loss: 0.1281 - output_loss: 0.0810 - auxilliary_output_1_loss: 0.0805 - auxilliary_output_2_loss: 0.0766 - output_accuracy: 0.9127 - auxilliary_output_1_accuracy: 0.9151 - auxilliary_output_2_accuracy: 0.9188 - val_loss: 0.2195 - val_output_loss: 0.1440 - val_auxilliary_output_1_loss: 0.1155 - val_auxilliary_output_2_loss: 0.1362 - val_output_accuracy: 0.8206 - val_auxilliary_output_1_accuracy: 0.8624 - val_auxilliary_output_2_accuracy: 0.8378\n",
      "Epoch 19/100\n",
      "51/51 [==============================] - 6s 123ms/step - loss: 0.1504 - output_loss: 0.0968 - auxilliary_output_1_loss: 0.0904 - auxilliary_output_2_loss: 0.0882 - output_accuracy: 0.8881 - auxilliary_output_1_accuracy: 0.9121 - auxilliary_output_2_accuracy: 0.9028 - val_loss: 0.1862 - val_output_loss: 0.1200 - val_auxilliary_output_1_loss: 0.1156 - val_auxilliary_output_2_loss: 0.1048 - val_output_accuracy: 0.8624 - val_auxilliary_output_1_accuracy: 0.8870 - val_auxilliary_output_2_accuracy: 0.8919\n",
      "Epoch 20/100\n",
      "51/51 [==============================] - 6s 124ms/step - loss: 0.0978 - output_loss: 0.0592 - auxilliary_output_1_loss: 0.0703 - auxilliary_output_2_loss: 0.0581 - output_accuracy: 0.9403 - auxilliary_output_1_accuracy: 0.9471 - auxilliary_output_2_accuracy: 0.9453 - val_loss: 0.2135 - val_output_loss: 0.1407 - val_auxilliary_output_1_loss: 0.1159 - val_auxilliary_output_2_loss: 0.1268 - val_output_accuracy: 0.8477 - val_auxilliary_output_1_accuracy: 0.8649 - val_auxilliary_output_2_accuracy: 0.8526\n",
      "Epoch 21/100\n",
      "51/51 [==============================] - 6s 125ms/step - loss: 0.1051 - output_loss: 0.0651 - auxilliary_output_1_loss: 0.0713 - auxilliary_output_2_loss: 0.0620 - output_accuracy: 0.9231 - auxilliary_output_1_accuracy: 0.9280 - auxilliary_output_2_accuracy: 0.9330 - val_loss: 0.1788 - val_output_loss: 0.1144 - val_auxilliary_output_1_loss: 0.1024 - val_auxilliary_output_2_loss: 0.1123 - val_output_accuracy: 0.8747 - val_auxilliary_output_1_accuracy: 0.8698 - val_auxilliary_output_2_accuracy: 0.8526\n",
      "Epoch 22/100\n",
      "51/51 [==============================] - 7s 128ms/step - loss: 0.0952 - output_loss: 0.0584 - auxilliary_output_1_loss: 0.0638 - auxilliary_output_2_loss: 0.0590 - output_accuracy: 0.9367 - auxilliary_output_1_accuracy: 0.9428 - auxilliary_output_2_accuracy: 0.9416 - val_loss: 0.2154 - val_output_loss: 0.1445 - val_auxilliary_output_1_loss: 0.1098 - val_auxilliary_output_2_loss: 0.1267 - val_output_accuracy: 0.8452 - val_auxilliary_output_1_accuracy: 0.8575 - val_auxilliary_output_2_accuracy: 0.8698\n",
      "Epoch 23/100\n",
      "51/51 [==============================] - 6s 124ms/step - loss: 0.0991 - output_loss: 0.0614 - auxilliary_output_1_loss: 0.0685 - auxilliary_output_2_loss: 0.0572 - output_accuracy: 0.9336 - auxilliary_output_1_accuracy: 0.9391 - auxilliary_output_2_accuracy: 0.9379 - val_loss: 0.1733 - val_output_loss: 0.1101 - val_auxilliary_output_1_loss: 0.1099 - val_auxilliary_output_2_loss: 0.1009 - val_output_accuracy: 0.8894 - val_auxilliary_output_1_accuracy: 0.8845 - val_auxilliary_output_2_accuracy: 0.8919\n",
      "Epoch 24/100\n",
      "51/51 [==============================] - 6s 123ms/step - loss: 0.0659 - output_loss: 0.0384 - auxilliary_output_1_loss: 0.0526 - auxilliary_output_2_loss: 0.0390 - output_accuracy: 0.9643 - auxilliary_output_1_accuracy: 0.9533 - auxilliary_output_2_accuracy: 0.9637 - val_loss: 0.2239 - val_output_loss: 0.1536 - val_auxilliary_output_1_loss: 0.1028 - val_auxilliary_output_2_loss: 0.1314 - val_output_accuracy: 0.8550 - val_auxilliary_output_1_accuracy: 0.8968 - val_auxilliary_output_2_accuracy: 0.8747\n",
      "Epoch 25/100\n",
      "51/51 [==============================] - 6s 124ms/step - loss: 0.0739 - output_loss: 0.0447 - auxilliary_output_1_loss: 0.0529 - auxilliary_output_2_loss: 0.0444 - output_accuracy: 0.9569 - auxilliary_output_1_accuracy: 0.9557 - auxilliary_output_2_accuracy: 0.9563 - val_loss: 0.2217 - val_output_loss: 0.1549 - val_auxilliary_output_1_loss: 0.1055 - val_auxilliary_output_2_loss: 0.1172 - val_output_accuracy: 0.8256 - val_auxilliary_output_1_accuracy: 0.8845 - val_auxilliary_output_2_accuracy: 0.8698\n",
      "Epoch 26/100\n",
      "51/51 [==============================] - 6s 127ms/step - loss: 0.0941 - output_loss: 0.0609 - auxilliary_output_1_loss: 0.0582 - auxilliary_output_2_loss: 0.0526 - output_accuracy: 0.9287 - auxilliary_output_1_accuracy: 0.9490 - auxilliary_output_2_accuracy: 0.9465 - val_loss: 0.1974 - val_output_loss: 0.1320 - val_auxilliary_output_1_loss: 0.1027 - val_auxilliary_output_2_loss: 0.1151 - val_output_accuracy: 0.8624 - val_auxilliary_output_1_accuracy: 0.8821 - val_auxilliary_output_2_accuracy: 0.8771\n",
      "Epoch 27/100\n",
      "51/51 [==============================] - 6s 126ms/step - loss: 0.0456 - output_loss: 0.0259 - auxilliary_output_1_loss: 0.0390 - auxilliary_output_2_loss: 0.0267 - output_accuracy: 0.9785 - auxilliary_output_1_accuracy: 0.9692 - auxilliary_output_2_accuracy: 0.9779 - val_loss: 0.2932 - val_output_loss: 0.2067 - val_auxilliary_output_1_loss: 0.1307 - val_auxilliary_output_2_loss: 0.1576 - val_output_accuracy: 0.8231 - val_auxilliary_output_1_accuracy: 0.8575 - val_auxilliary_output_2_accuracy: 0.8575\n",
      "Epoch 28/100\n",
      "51/51 [==============================] - 6s 125ms/step - loss: 0.1108 - output_loss: 0.0713 - auxilliary_output_1_loss: 0.0676 - auxilliary_output_2_loss: 0.0641 - output_accuracy: 0.9188 - auxilliary_output_1_accuracy: 0.9360 - auxilliary_output_2_accuracy: 0.9330 - val_loss: 0.2467 - val_output_loss: 0.1675 - val_auxilliary_output_1_loss: 0.1185 - val_auxilliary_output_2_loss: 0.1455 - val_output_accuracy: 0.8157 - val_auxilliary_output_1_accuracy: 0.8821 - val_auxilliary_output_2_accuracy: 0.8526\n",
      "Epoch 29/100\n",
      "51/51 [==============================] - 6s 124ms/step - loss: 0.0477 - output_loss: 0.0276 - auxilliary_output_1_loss: 0.0371 - auxilliary_output_2_loss: 0.0298 - output_accuracy: 0.9692 - auxilliary_output_1_accuracy: 0.9711 - auxilliary_output_2_accuracy: 0.9680 - val_loss: 0.2043 - val_output_loss: 0.1373 - val_auxilliary_output_1_loss: 0.1048 - val_auxilliary_output_2_loss: 0.1187 - val_output_accuracy: 0.8943 - val_auxilliary_output_1_accuracy: 0.8968 - val_auxilliary_output_2_accuracy: 0.8943\n",
      "Epoch 30/100\n",
      "51/51 [==============================] - 6s 125ms/step - loss: 0.0626 - output_loss: 0.0401 - auxilliary_output_1_loss: 0.0396 - auxilliary_output_2_loss: 0.0355 - output_accuracy: 0.9643 - auxilliary_output_1_accuracy: 0.9692 - auxilliary_output_2_accuracy: 0.9699 - val_loss: 0.2062 - val_output_loss: 0.1364 - val_auxilliary_output_1_loss: 0.1054 - val_auxilliary_output_2_loss: 0.1272 - val_output_accuracy: 0.8771 - val_auxilliary_output_1_accuracy: 0.8968 - val_auxilliary_output_2_accuracy: 0.8919\n",
      "Epoch 31/100\n",
      "51/51 [==============================] - 6s 126ms/step - loss: 0.0411 - output_loss: 0.0233 - auxilliary_output_1_loss: 0.0339 - auxilliary_output_2_loss: 0.0254 - output_accuracy: 0.9772 - auxilliary_output_1_accuracy: 0.9754 - auxilliary_output_2_accuracy: 0.9736 - val_loss: 0.1974 - val_output_loss: 0.1325 - val_auxilliary_output_1_loss: 0.1029 - val_auxilliary_output_2_loss: 0.1135 - val_output_accuracy: 0.8894 - val_auxilliary_output_1_accuracy: 0.8968 - val_auxilliary_output_2_accuracy: 0.8870\n",
      "Epoch 32/100\n",
      "51/51 [==============================] - 6s 125ms/step - loss: 0.0956 - output_loss: 0.0632 - auxilliary_output_1_loss: 0.0546 - auxilliary_output_2_loss: 0.0535 - output_accuracy: 0.9354 - auxilliary_output_1_accuracy: 0.9502 - auxilliary_output_2_accuracy: 0.9453 - val_loss: 0.2375 - val_output_loss: 0.1554 - val_auxilliary_output_1_loss: 0.1166 - val_auxilliary_output_2_loss: 0.1573 - val_output_accuracy: 0.8477 - val_auxilliary_output_1_accuracy: 0.8919 - val_auxilliary_output_2_accuracy: 0.8501\n",
      "Epoch 33/100\n",
      "51/51 [==============================] - 6s 123ms/step - loss: 0.0487 - output_loss: 0.0285 - auxilliary_output_1_loss: 0.0403 - auxilliary_output_2_loss: 0.0270 - output_accuracy: 0.9742 - auxilliary_output_1_accuracy: 0.9686 - auxilliary_output_2_accuracy: 0.9711 - val_loss: 0.2233 - val_output_loss: 0.1521 - val_auxilliary_output_1_loss: 0.1106 - val_auxilliary_output_2_loss: 0.1266 - val_output_accuracy: 0.8845 - val_auxilliary_output_1_accuracy: 0.8919 - val_auxilliary_output_2_accuracy: 0.8968\n",
      "Epoch 34/100\n",
      "51/51 [==============================] - 6s 125ms/step - loss: 0.0303 - output_loss: 0.0172 - auxilliary_output_1_loss: 0.0260 - auxilliary_output_2_loss: 0.0175 - output_accuracy: 0.9815 - auxilliary_output_1_accuracy: 0.9797 - auxilliary_output_2_accuracy: 0.9834 - val_loss: 0.2166 - val_output_loss: 0.1450 - val_auxilliary_output_1_loss: 0.1123 - val_auxilliary_output_2_loss: 0.1266 - val_output_accuracy: 0.8821 - val_auxilliary_output_1_accuracy: 0.8845 - val_auxilliary_output_2_accuracy: 0.8894\n",
      "Epoch 35/100\n",
      "51/51 [==============================] - 6s 125ms/step - loss: 0.0255 - output_loss: 0.0141 - auxilliary_output_1_loss: 0.0250 - auxilliary_output_2_loss: 0.0132 - output_accuracy: 0.9840 - auxilliary_output_1_accuracy: 0.9846 - auxilliary_output_2_accuracy: 0.9895 - val_loss: 0.2394 - val_output_loss: 0.1655 - val_auxilliary_output_1_loss: 0.1074 - val_auxilliary_output_2_loss: 0.1390 - val_output_accuracy: 0.8796 - val_auxilliary_output_1_accuracy: 0.9066 - val_auxilliary_output_2_accuracy: 0.8894\n",
      "Epoch 36/100\n",
      "51/51 [==============================] - 6s 127ms/step - loss: 0.0433 - output_loss: 0.0258 - auxilliary_output_1_loss: 0.0347 - auxilliary_output_2_loss: 0.0235 - output_accuracy: 0.9736 - auxilliary_output_1_accuracy: 0.9711 - auxilliary_output_2_accuracy: 0.9803 - val_loss: 0.2582 - val_output_loss: 0.1705 - val_auxilliary_output_1_loss: 0.1229 - val_auxilliary_output_2_loss: 0.1695 - val_output_accuracy: 0.8771 - val_auxilliary_output_1_accuracy: 0.8870 - val_auxilliary_output_2_accuracy: 0.8722\n",
      "Epoch 37/100\n",
      "51/51 [==============================] - 6s 125ms/step - loss: 0.0465 - output_loss: 0.0285 - auxilliary_output_1_loss: 0.0328 - auxilliary_output_2_loss: 0.0274 - output_accuracy: 0.9711 - auxilliary_output_1_accuracy: 0.9742 - auxilliary_output_2_accuracy: 0.9723 - val_loss: 0.2452 - val_output_loss: 0.1637 - val_auxilliary_output_1_loss: 0.1116 - val_auxilliary_output_2_loss: 0.1598 - val_output_accuracy: 0.8771 - val_auxilliary_output_1_accuracy: 0.8919 - val_auxilliary_output_2_accuracy: 0.8943\n",
      "Epoch 38/100\n",
      "51/51 [==============================] - 6s 124ms/step - loss: 0.0499 - output_loss: 0.0314 - auxilliary_output_1_loss: 0.0337 - auxilliary_output_2_loss: 0.0280 - output_accuracy: 0.9723 - auxilliary_output_1_accuracy: 0.9711 - auxilliary_output_2_accuracy: 0.9766 - val_loss: 0.3292 - val_output_loss: 0.2271 - val_auxilliary_output_1_loss: 0.1427 - val_auxilliary_output_2_loss: 0.1976 - val_output_accuracy: 0.8231 - val_auxilliary_output_1_accuracy: 0.8673 - val_auxilliary_output_2_accuracy: 0.8452\n",
      "Epoch 39/100\n",
      "51/51 [==============================] - 6s 125ms/step - loss: 0.0692 - output_loss: 0.0441 - auxilliary_output_1_loss: 0.0405 - auxilliary_output_2_loss: 0.0430 - output_accuracy: 0.9569 - auxilliary_output_1_accuracy: 0.9674 - auxilliary_output_2_accuracy: 0.9631 - val_loss: 0.1773 - val_output_loss: 0.1079 - val_auxilliary_output_1_loss: 0.1199 - val_auxilliary_output_2_loss: 0.1114 - val_output_accuracy: 0.8821 - val_auxilliary_output_1_accuracy: 0.8968 - val_auxilliary_output_2_accuracy: 0.8870\n",
      "Epoch 40/100\n",
      "51/51 [==============================] - 6s 124ms/step - loss: 0.0159 - output_loss: 0.0079 - auxilliary_output_1_loss: 0.0168 - auxilliary_output_2_loss: 0.0099 - output_accuracy: 0.9957 - auxilliary_output_1_accuracy: 0.9938 - auxilliary_output_2_accuracy: 0.9963 - val_loss: 0.2201 - val_output_loss: 0.1494 - val_auxilliary_output_1_loss: 0.1034 - val_auxilliary_output_2_loss: 0.1320 - val_output_accuracy: 0.9042 - val_auxilliary_output_1_accuracy: 0.8919 - val_auxilliary_output_2_accuracy: 0.8919\n",
      "Epoch 41/100\n",
      "51/51 [==============================] - 6s 126ms/step - loss: 0.0067 - output_loss: 0.0023 - auxilliary_output_1_loss: 0.0109 - auxilliary_output_2_loss: 0.0036 - output_accuracy: 0.9982 - auxilliary_output_1_accuracy: 0.9969 - auxilliary_output_2_accuracy: 0.9982 - val_loss: 0.2604 - val_output_loss: 0.1833 - val_auxilliary_output_1_loss: 0.1090 - val_auxilliary_output_2_loss: 0.1479 - val_output_accuracy: 0.8968 - val_auxilliary_output_1_accuracy: 0.8993 - val_auxilliary_output_2_accuracy: 0.9066\n",
      "Epoch 42/100\n",
      "51/51 [==============================] - 6s 125ms/step - loss: 0.0045 - output_loss: 8.1770e-04 - auxilliary_output_1_loss: 0.0105 - auxilliary_output_2_loss: 0.0018 - output_accuracy: 0.9994 - auxilliary_output_1_accuracy: 0.9951 - auxilliary_output_2_accuracy: 0.9994 - val_loss: 0.2623 - val_output_loss: 0.1826 - val_auxilliary_output_1_loss: 0.1190 - val_auxilliary_output_2_loss: 0.1466 - val_output_accuracy: 0.8993 - val_auxilliary_output_1_accuracy: 0.8919 - val_auxilliary_output_2_accuracy: 0.9066\n",
      "Epoch 43/100\n",
      "51/51 [==============================] - 6s 124ms/step - loss: 0.0026 - output_loss: 4.1500e-04 - auxilliary_output_1_loss: 0.0063 - auxilliary_output_2_loss: 0.0011 - output_accuracy: 1.0000 - auxilliary_output_1_accuracy: 0.9994 - auxilliary_output_2_accuracy: 1.0000 - val_loss: 0.2424 - val_output_loss: 0.1639 - val_auxilliary_output_1_loss: 0.1180 - val_auxilliary_output_2_loss: 0.1439 - val_output_accuracy: 0.9140 - val_auxilliary_output_1_accuracy: 0.8993 - val_auxilliary_output_2_accuracy: 0.9066\n",
      "Epoch 44/100\n",
      "51/51 [==============================] - 6s 125ms/step - loss: 0.0022 - output_loss: 1.9495e-04 - auxilliary_output_1_loss: 0.0059 - auxilliary_output_2_loss: 6.7631e-04 - output_accuracy: 1.0000 - auxilliary_output_1_accuracy: 0.9988 - auxilliary_output_2_accuracy: 1.0000 - val_loss: 0.2565 - val_output_loss: 0.1746 - val_auxilliary_output_1_loss: 0.1186 - val_auxilliary_output_2_loss: 0.1543 - val_output_accuracy: 0.9165 - val_auxilliary_output_1_accuracy: 0.9042 - val_auxilliary_output_2_accuracy: 0.9140\n",
      "Epoch 45/100\n",
      "51/51 [==============================] - 6s 124ms/step - loss: 0.0019 - output_loss: 1.3368e-04 - auxilliary_output_1_loss: 0.0055 - auxilliary_output_2_loss: 4.7332e-04 - output_accuracy: 1.0000 - auxilliary_output_1_accuracy: 0.9988 - auxilliary_output_2_accuracy: 1.0000 - val_loss: 0.2586 - val_output_loss: 0.1764 - val_auxilliary_output_1_loss: 0.1181 - val_auxilliary_output_2_loss: 0.1559 - val_output_accuracy: 0.9140 - val_auxilliary_output_1_accuracy: 0.8993 - val_auxilliary_output_2_accuracy: 0.9091\n",
      "Epoch 46/100\n",
      "51/51 [==============================] - 6s 126ms/step - loss: 0.0017 - output_loss: 1.2122e-04 - auxilliary_output_1_loss: 0.0047 - auxilliary_output_2_loss: 5.2411e-04 - output_accuracy: 1.0000 - auxilliary_output_1_accuracy: 1.0000 - auxilliary_output_2_accuracy: 1.0000 - val_loss: 0.2791 - val_output_loss: 0.1902 - val_auxilliary_output_1_loss: 0.1247 - val_auxilliary_output_2_loss: 0.1719 - val_output_accuracy: 0.9140 - val_auxilliary_output_1_accuracy: 0.9115 - val_auxilliary_output_2_accuracy: 0.9066\n",
      "Epoch 47/100\n",
      "51/51 [==============================] - 6s 125ms/step - loss: 0.0013 - output_loss: 7.1041e-05 - auxilliary_output_1_loss: 0.0037 - auxilliary_output_2_loss: 4.8594e-04 - output_accuracy: 1.0000 - auxilliary_output_1_accuracy: 1.0000 - auxilliary_output_2_accuracy: 1.0000 - val_loss: 0.2780 - val_output_loss: 0.1901 - val_auxilliary_output_1_loss: 0.1257 - val_auxilliary_output_2_loss: 0.1673 - val_output_accuracy: 0.9165 - val_auxilliary_output_1_accuracy: 0.9140 - val_auxilliary_output_2_accuracy: 0.9140\n",
      "Epoch 48/100\n",
      "51/51 [==============================] - 6s 125ms/step - loss: 0.0012 - output_loss: 5.7159e-05 - auxilliary_output_1_loss: 0.0034 - auxilliary_output_2_loss: 3.4439e-04 - output_accuracy: 1.0000 - auxilliary_output_1_accuracy: 1.0000 - auxilliary_output_2_accuracy: 1.0000 - val_loss: 0.2839 - val_output_loss: 0.1946 - val_auxilliary_output_1_loss: 0.1274 - val_auxilliary_output_2_loss: 0.1702 - val_output_accuracy: 0.9189 - val_auxilliary_output_1_accuracy: 0.9091 - val_auxilliary_output_2_accuracy: 0.9066\n",
      "Epoch 49/100\n",
      "51/51 [==============================] - 6s 126ms/step - loss: 0.0011 - output_loss: 5.2171e-05 - auxilliary_output_1_loss: 0.0034 - auxilliary_output_2_loss: 2.5786e-04 - output_accuracy: 1.0000 - auxilliary_output_1_accuracy: 1.0000 - auxilliary_output_2_accuracy: 1.0000 - val_loss: 0.2938 - val_output_loss: 0.2013 - val_auxilliary_output_1_loss: 0.1323 - val_auxilliary_output_2_loss: 0.1760 - val_output_accuracy: 0.9140 - val_auxilliary_output_1_accuracy: 0.8943 - val_auxilliary_output_2_accuracy: 0.9140\n",
      "Epoch 50/100\n",
      "51/51 [==============================] - 6s 124ms/step - loss: 9.9227e-04 - output_loss: 4.7317e-05 - auxilliary_output_1_loss: 0.0029 - auxilliary_output_2_loss: 2.0616e-04 - output_accuracy: 1.0000 - auxilliary_output_1_accuracy: 1.0000 - auxilliary_output_2_accuracy: 1.0000 - val_loss: 0.3010 - val_output_loss: 0.2072 - val_auxilliary_output_1_loss: 0.1312 - val_auxilliary_output_2_loss: 0.1815 - val_output_accuracy: 0.9165 - val_auxilliary_output_1_accuracy: 0.9091 - val_auxilliary_output_2_accuracy: 0.9042\n",
      "Epoch 51/100\n",
      "51/51 [==============================] - 6s 127ms/step - loss: 0.0011 - output_loss: 3.1894e-05 - auxilliary_output_1_loss: 0.0033 - auxilliary_output_2_loss: 2.1456e-04 - output_accuracy: 1.0000 - auxilliary_output_1_accuracy: 1.0000 - auxilliary_output_2_accuracy: 1.0000 - val_loss: 0.3033 - val_output_loss: 0.2072 - val_auxilliary_output_1_loss: 0.1373 - val_auxilliary_output_2_loss: 0.1829 - val_output_accuracy: 0.9165 - val_auxilliary_output_1_accuracy: 0.8968 - val_auxilliary_output_2_accuracy: 0.9091\n",
      "Epoch 52/100\n",
      "51/51 [==============================] - 6s 125ms/step - loss: 0.0011 - output_loss: 4.2770e-05 - auxilliary_output_1_loss: 0.0031 - auxilliary_output_2_loss: 2.7651e-04 - output_accuracy: 1.0000 - auxilliary_output_1_accuracy: 1.0000 - auxilliary_output_2_accuracy: 1.0000 - val_loss: 0.3126 - val_output_loss: 0.2139 - val_auxilliary_output_1_loss: 0.1388 - val_auxilliary_output_2_loss: 0.1903 - val_output_accuracy: 0.9165 - val_auxilliary_output_1_accuracy: 0.9140 - val_auxilliary_output_2_accuracy: 0.9115\n",
      "Epoch 53/100\n",
      "51/51 [==============================] - 6s 125ms/step - loss: 9.4574e-04 - output_loss: 2.7353e-05 - auxilliary_output_1_loss: 0.0028 - auxilliary_output_2_loss: 2.3628e-04 - output_accuracy: 1.0000 - auxilliary_output_1_accuracy: 1.0000 - auxilliary_output_2_accuracy: 1.0000 - val_loss: 0.3212 - val_output_loss: 0.2232 - val_auxilliary_output_1_loss: 0.1314 - val_auxilliary_output_2_loss: 0.1952 - val_output_accuracy: 0.9165 - val_auxilliary_output_1_accuracy: 0.9091 - val_auxilliary_output_2_accuracy: 0.9115\n",
      "Epoch 54/100\n",
      "51/51 [==============================] - 6s 126ms/step - loss: 8.9609e-04 - output_loss: 2.5988e-05 - auxilliary_output_1_loss: 0.0026 - auxilliary_output_2_loss: 2.5852e-04 - output_accuracy: 1.0000 - auxilliary_output_1_accuracy: 1.0000 - auxilliary_output_2_accuracy: 1.0000 - val_loss: 0.3217 - val_output_loss: 0.2217 - val_auxilliary_output_1_loss: 0.1369 - val_auxilliary_output_2_loss: 0.1965 - val_output_accuracy: 0.9115 - val_auxilliary_output_1_accuracy: 0.9091 - val_auxilliary_output_2_accuracy: 0.9066\n",
      "Epoch 55/100\n",
      "51/51 [==============================] - 6s 125ms/step - loss: 9.6261e-04 - output_loss: 2.9023e-05 - auxilliary_output_1_loss: 0.0029 - auxilliary_output_2_loss: 2.2334e-04 - output_accuracy: 1.0000 - auxilliary_output_1_accuracy: 0.9988 - auxilliary_output_2_accuracy: 1.0000 - val_loss: 0.3208 - val_output_loss: 0.2191 - val_auxilliary_output_1_loss: 0.1408 - val_auxilliary_output_2_loss: 0.1981 - val_output_accuracy: 0.9165 - val_auxilliary_output_1_accuracy: 0.9017 - val_auxilliary_output_2_accuracy: 0.9066\n",
      "Epoch 56/100\n",
      "51/51 [==============================] - 6s 127ms/step - loss: 0.0010 - output_loss: 2.7591e-05 - auxilliary_output_1_loss: 0.0032 - auxilliary_output_2_loss: 2.0386e-04 - output_accuracy: 1.0000 - auxilliary_output_1_accuracy: 1.0000 - auxilliary_output_2_accuracy: 1.0000 - val_loss: 0.3364 - val_output_loss: 0.2306 - val_auxilliary_output_1_loss: 0.1454 - val_auxilliary_output_2_loss: 0.2073 - val_output_accuracy: 0.9115 - val_auxilliary_output_1_accuracy: 0.9115 - val_auxilliary_output_2_accuracy: 0.9091\n",
      "Epoch 57/100\n",
      "51/51 [==============================] - 6s 125ms/step - loss: 7.1150e-04 - output_loss: 4.3748e-05 - auxilliary_output_1_loss: 0.0021 - auxilliary_output_2_loss: 1.2751e-04 - output_accuracy: 1.0000 - auxilliary_output_1_accuracy: 1.0000 - auxilliary_output_2_accuracy: 1.0000 - val_loss: 0.3254 - val_output_loss: 0.2250 - val_auxilliary_output_1_loss: 0.1344 - val_auxilliary_output_2_loss: 0.2001 - val_output_accuracy: 0.9189 - val_auxilliary_output_1_accuracy: 0.9042 - val_auxilliary_output_2_accuracy: 0.9091\n",
      "Epoch 58/100\n",
      "51/51 [==============================] - 6s 125ms/step - loss: 8.9699e-04 - output_loss: 2.5425e-05 - auxilliary_output_1_loss: 0.0028 - auxilliary_output_2_loss: 1.3279e-04 - output_accuracy: 1.0000 - auxilliary_output_1_accuracy: 1.0000 - auxilliary_output_2_accuracy: 1.0000 - val_loss: 0.3318 - val_output_loss: 0.2277 - val_auxilliary_output_1_loss: 0.1412 - val_auxilliary_output_2_loss: 0.2058 - val_output_accuracy: 0.9091 - val_auxilliary_output_1_accuracy: 0.9066 - val_auxilliary_output_2_accuracy: 0.9042\n",
      "Epoch 59/100\n",
      "51/51 [==============================] - 6s 126ms/step - loss: 0.0013 - output_loss: 3.2994e-05 - auxilliary_output_1_loss: 0.0042 - auxilliary_output_2_loss: 1.2522e-04 - output_accuracy: 1.0000 - auxilliary_output_1_accuracy: 1.0000 - auxilliary_output_2_accuracy: 1.0000 - val_loss: 0.3644 - val_output_loss: 0.2535 - val_auxilliary_output_1_loss: 0.1462 - val_auxilliary_output_2_loss: 0.2235 - val_output_accuracy: 0.9091 - val_auxilliary_output_1_accuracy: 0.9042 - val_auxilliary_output_2_accuracy: 0.9066\n",
      "Epoch 60/100\n",
      "51/51 [==============================] - 6s 124ms/step - loss: 0.0010 - output_loss: 2.2136e-05 - auxilliary_output_1_loss: 0.0033 - auxilliary_output_2_loss: 7.9056e-05 - output_accuracy: 1.0000 - auxilliary_output_1_accuracy: 1.0000 - auxilliary_output_2_accuracy: 1.0000 - val_loss: 0.3426 - val_output_loss: 0.2333 - val_auxilliary_output_1_loss: 0.1558 - val_auxilliary_output_2_loss: 0.2087 - val_output_accuracy: 0.9165 - val_auxilliary_output_1_accuracy: 0.8993 - val_auxilliary_output_2_accuracy: 0.9066\n",
      "Epoch 61/100\n",
      "51/51 [==============================] - 7s 129ms/step - loss: 6.6549e-04 - output_loss: 1.5851e-05 - auxilliary_output_1_loss: 0.0020 - auxilliary_output_2_loss: 1.8967e-04 - output_accuracy: 1.0000 - auxilliary_output_1_accuracy: 1.0000 - auxilliary_output_2_accuracy: 1.0000 - val_loss: 0.3425 - val_output_loss: 0.2353 - val_auxilliary_output_1_loss: 0.1417 - val_auxilliary_output_2_loss: 0.2155 - val_output_accuracy: 0.9140 - val_auxilliary_output_1_accuracy: 0.9066 - val_auxilliary_output_2_accuracy: 0.9140\n",
      "Epoch 62/100\n",
      "51/51 [==============================] - 6s 125ms/step - loss: 7.7256e-04 - output_loss: 1.4883e-05 - auxilliary_output_1_loss: 0.0024 - auxilliary_output_2_loss: 1.1714e-04 - output_accuracy: 1.0000 - auxilliary_output_1_accuracy: 1.0000 - auxilliary_output_2_accuracy: 1.0000 - val_loss: 0.3518 - val_output_loss: 0.2464 - val_auxilliary_output_1_loss: 0.1391 - val_auxilliary_output_2_loss: 0.2123 - val_output_accuracy: 0.9115 - val_auxilliary_output_1_accuracy: 0.8968 - val_auxilliary_output_2_accuracy: 0.9091\n",
      "Epoch 63/100\n",
      "51/51 [==============================] - 6s 125ms/step - loss: 6.0305e-04 - output_loss: 2.0891e-05 - auxilliary_output_1_loss: 0.0019 - auxilliary_output_2_loss: 6.9841e-05 - output_accuracy: 1.0000 - auxilliary_output_1_accuracy: 0.9994 - auxilliary_output_2_accuracy: 1.0000 - val_loss: 0.3618 - val_output_loss: 0.2513 - val_auxilliary_output_1_loss: 0.1501 - val_auxilliary_output_2_loss: 0.2182 - val_output_accuracy: 0.9091 - val_auxilliary_output_1_accuracy: 0.8993 - val_auxilliary_output_2_accuracy: 0.9091\n",
      "Epoch 64/100\n",
      "51/51 [==============================] - 6s 124ms/step - loss: 7.3285e-04 - output_loss: 1.0753e-05 - auxilliary_output_1_loss: 0.0023 - auxilliary_output_2_loss: 6.6692e-05 - output_accuracy: 1.0000 - auxilliary_output_1_accuracy: 0.9994 - auxilliary_output_2_accuracy: 1.0000 - val_loss: 0.3483 - val_output_loss: 0.2419 - val_auxilliary_output_1_loss: 0.1375 - val_auxilliary_output_2_loss: 0.2169 - val_output_accuracy: 0.9140 - val_auxilliary_output_1_accuracy: 0.9017 - val_auxilliary_output_2_accuracy: 0.9066\n",
      "Epoch 65/100\n",
      "51/51 [==============================] - 6s 124ms/step - loss: 4.4473e-04 - output_loss: 1.3183e-05 - auxilliary_output_1_loss: 0.0013 - auxilliary_output_2_loss: 9.4916e-05 - output_accuracy: 1.0000 - auxilliary_output_1_accuracy: 1.0000 - auxilliary_output_2_accuracy: 1.0000 - val_loss: 0.3624 - val_output_loss: 0.2492 - val_auxilliary_output_1_loss: 0.1519 - val_auxilliary_output_2_loss: 0.2253 - val_output_accuracy: 0.9238 - val_auxilliary_output_1_accuracy: 0.9042 - val_auxilliary_output_2_accuracy: 0.9066\n",
      "Epoch 66/100\n",
      "51/51 [==============================] - 6s 126ms/step - loss: 3.7138e-04 - output_loss: 6.9739e-06 - auxilliary_output_1_loss: 0.0011 - auxilliary_output_2_loss: 7.9459e-05 - output_accuracy: 1.0000 - auxilliary_output_1_accuracy: 1.0000 - auxilliary_output_2_accuracy: 1.0000 - val_loss: 0.3615 - val_output_loss: 0.2485 - val_auxilliary_output_1_loss: 0.1543 - val_auxilliary_output_2_loss: 0.2224 - val_output_accuracy: 0.9214 - val_auxilliary_output_1_accuracy: 0.8993 - val_auxilliary_output_2_accuracy: 0.9115\n",
      "Epoch 67/100\n",
      "51/51 [==============================] - 6s 124ms/step - loss: 5.1865e-04 - output_loss: 1.9886e-05 - auxilliary_output_1_loss: 0.0016 - auxilliary_output_2_loss: 6.3721e-05 - output_accuracy: 1.0000 - auxilliary_output_1_accuracy: 1.0000 - auxilliary_output_2_accuracy: 1.0000 - val_loss: 0.3547 - val_output_loss: 0.2448 - val_auxilliary_output_1_loss: 0.1460 - val_auxilliary_output_2_loss: 0.2201 - val_output_accuracy: 0.9165 - val_auxilliary_output_1_accuracy: 0.9042 - val_auxilliary_output_2_accuracy: 0.9042\n",
      "Epoch 68/100\n",
      "51/51 [==============================] - 6s 125ms/step - loss: 4.1618e-04 - output_loss: 9.1919e-06 - auxilliary_output_1_loss: 0.0012 - auxilliary_output_2_loss: 1.5350e-04 - output_accuracy: 1.0000 - auxilliary_output_1_accuracy: 1.0000 - auxilliary_output_2_accuracy: 1.0000 - val_loss: 0.3668 - val_output_loss: 0.2544 - val_auxilliary_output_1_loss: 0.1474 - val_auxilliary_output_2_loss: 0.2276 - val_output_accuracy: 0.9214 - val_auxilliary_output_1_accuracy: 0.9066 - val_auxilliary_output_2_accuracy: 0.9165\n",
      "Epoch 69/100\n",
      "51/51 [==============================] - 6s 124ms/step - loss: 3.9168e-04 - output_loss: 1.2585e-05 - auxilliary_output_1_loss: 0.0011 - auxilliary_output_2_loss: 1.8606e-04 - output_accuracy: 1.0000 - auxilliary_output_1_accuracy: 1.0000 - auxilliary_output_2_accuracy: 1.0000 - val_loss: 0.3630 - val_output_loss: 0.2518 - val_auxilliary_output_1_loss: 0.1519 - val_auxilliary_output_2_loss: 0.2187 - val_output_accuracy: 0.9165 - val_auxilliary_output_1_accuracy: 0.8993 - val_auxilliary_output_2_accuracy: 0.9091\n",
      "Epoch 70/100\n",
      "51/51 [==============================] - 6s 124ms/step - loss: 2.6957e-04 - output_loss: 9.1272e-06 - auxilliary_output_1_loss: 8.2480e-04 - auxilliary_output_2_loss: 4.3345e-05 - output_accuracy: 1.0000 - auxilliary_output_1_accuracy: 1.0000 - auxilliary_output_2_accuracy: 1.0000 - val_loss: 0.3622 - val_output_loss: 0.2490 - val_auxilliary_output_1_loss: 0.1557 - val_auxilliary_output_2_loss: 0.2215 - val_output_accuracy: 0.9140 - val_auxilliary_output_1_accuracy: 0.9091 - val_auxilliary_output_2_accuracy: 0.9042\n",
      "Epoch 71/100\n",
      "51/51 [==============================] - 6s 126ms/step - loss: 4.1845e-04 - output_loss: 1.0182e-05 - auxilliary_output_1_loss: 0.0013 - auxilliary_output_2_loss: 7.4243e-05 - output_accuracy: 1.0000 - auxilliary_output_1_accuracy: 1.0000 - auxilliary_output_2_accuracy: 1.0000 - val_loss: 0.4039 - val_output_loss: 0.2826 - val_auxilliary_output_1_loss: 0.1678 - val_auxilliary_output_2_loss: 0.2363 - val_output_accuracy: 0.9115 - val_auxilliary_output_1_accuracy: 0.8968 - val_auxilliary_output_2_accuracy: 0.9115\n",
      "Epoch 72/100\n",
      "51/51 [==============================] - 6s 124ms/step - loss: 2.8827e-04 - output_loss: 6.5674e-06 - auxilliary_output_1_loss: 8.8148e-04 - auxilliary_output_2_loss: 5.7526e-05 - output_accuracy: 1.0000 - auxilliary_output_1_accuracy: 1.0000 - auxilliary_output_2_accuracy: 1.0000 - val_loss: 0.3806 - val_output_loss: 0.2625 - val_auxilliary_output_1_loss: 0.1643 - val_auxilliary_output_2_loss: 0.2293 - val_output_accuracy: 0.9189 - val_auxilliary_output_1_accuracy: 0.9115 - val_auxilliary_output_2_accuracy: 0.9066\n",
      "Epoch 73/100\n",
      "51/51 [==============================] - 6s 126ms/step - loss: 2.2939e-04 - output_loss: 4.1207e-06 - auxilliary_output_1_loss: 7.0038e-04 - auxilliary_output_2_loss: 5.0517e-05 - output_accuracy: 1.0000 - auxilliary_output_1_accuracy: 1.0000 - auxilliary_output_2_accuracy: 1.0000 - val_loss: 0.3792 - val_output_loss: 0.2632 - val_auxilliary_output_1_loss: 0.1575 - val_auxilliary_output_2_loss: 0.2292 - val_output_accuracy: 0.9214 - val_auxilliary_output_1_accuracy: 0.9042 - val_auxilliary_output_2_accuracy: 0.9091\n",
      "Epoch 74/100\n",
      "51/51 [==============================] - 6s 124ms/step - loss: 7.5130e-04 - output_loss: 6.9020e-06 - auxilliary_output_1_loss: 0.0024 - auxilliary_output_2_loss: 3.8763e-05 - output_accuracy: 1.0000 - auxilliary_output_1_accuracy: 0.9994 - auxilliary_output_2_accuracy: 1.0000 - val_loss: 0.3847 - val_output_loss: 0.2661 - val_auxilliary_output_1_loss: 0.1609 - val_auxilliary_output_2_loss: 0.2346 - val_output_accuracy: 0.9115 - val_auxilliary_output_1_accuracy: 0.9140 - val_auxilliary_output_2_accuracy: 0.9091\n",
      "Epoch 75/100\n",
      "51/51 [==============================] - 6s 125ms/step - loss: 0.1254 - output_loss: 0.0784 - auxilliary_output_1_loss: 0.0820 - auxilliary_output_2_loss: 0.0747 - output_accuracy: 0.9188 - auxilliary_output_1_accuracy: 0.9330 - auxilliary_output_2_accuracy: 0.9256 - val_loss: 0.3304 - val_output_loss: 0.1999 - val_auxilliary_output_1_loss: 0.2625 - val_auxilliary_output_2_loss: 0.1724 - val_output_accuracy: 0.7666 - val_auxilliary_output_1_accuracy: 0.7715 - val_auxilliary_output_2_accuracy: 0.8059\n",
      "Epoch 76/100\n",
      "51/51 [==============================] - 6s 125ms/step - loss: 0.1731 - output_loss: 0.1132 - auxilliary_output_1_loss: 0.0955 - auxilliary_output_2_loss: 0.1040 - output_accuracy: 0.8684 - auxilliary_output_1_accuracy: 0.8948 - auxilliary_output_2_accuracy: 0.8868 - val_loss: 0.2267 - val_output_loss: 0.1484 - val_auxilliary_output_1_loss: 0.1274 - val_auxilliary_output_2_loss: 0.1338 - val_output_accuracy: 0.8378 - val_auxilliary_output_1_accuracy: 0.8845 - val_auxilliary_output_2_accuracy: 0.8477\n",
      "Epoch 77/100\n",
      "51/51 [==============================] - 6s 124ms/step - loss: 0.0782 - output_loss: 0.0519 - auxilliary_output_1_loss: 0.0432 - auxilliary_output_2_loss: 0.0445 - output_accuracy: 0.9342 - auxilliary_output_1_accuracy: 0.9668 - auxilliary_output_2_accuracy: 0.9563 - val_loss: 0.1955 - val_output_loss: 0.1242 - val_auxilliary_output_1_loss: 0.1175 - val_auxilliary_output_2_loss: 0.1199 - val_output_accuracy: 0.8821 - val_auxilliary_output_1_accuracy: 0.8698 - val_auxilliary_output_2_accuracy: 0.8845\n",
      "Epoch 78/100\n",
      "51/51 [==============================] - 6s 125ms/step - loss: 0.0557 - output_loss: 0.0361 - auxilliary_output_1_loss: 0.0313 - auxilliary_output_2_loss: 0.0340 - output_accuracy: 0.9619 - auxilliary_output_1_accuracy: 0.9791 - auxilliary_output_2_accuracy: 0.9674 - val_loss: 0.2338 - val_output_loss: 0.1499 - val_auxilliary_output_1_loss: 0.1288 - val_auxilliary_output_2_loss: 0.1509 - val_output_accuracy: 0.8649 - val_auxilliary_output_1_accuracy: 0.8624 - val_auxilliary_output_2_accuracy: 0.8673\n",
      "Epoch 79/100\n",
      "51/51 [==============================] - 6s 123ms/step - loss: 0.0479 - output_loss: 0.0308 - auxilliary_output_1_loss: 0.0291 - auxilliary_output_2_loss: 0.0280 - output_accuracy: 0.9668 - auxilliary_output_1_accuracy: 0.9785 - auxilliary_output_2_accuracy: 0.9772 - val_loss: 0.3230 - val_output_loss: 0.2229 - val_auxilliary_output_1_loss: 0.1529 - val_auxilliary_output_2_loss: 0.1808 - val_output_accuracy: 0.8059 - val_auxilliary_output_1_accuracy: 0.8600 - val_auxilliary_output_2_accuracy: 0.8550\n",
      "Epoch 80/100\n",
      "51/51 [==============================] - 6s 124ms/step - loss: 0.0299 - output_loss: 0.0186 - auxilliary_output_1_loss: 0.0208 - auxilliary_output_2_loss: 0.0169 - output_accuracy: 0.9871 - auxilliary_output_1_accuracy: 0.9889 - auxilliary_output_2_accuracy: 0.9877 - val_loss: 0.2412 - val_output_loss: 0.1575 - val_auxilliary_output_1_loss: 0.1244 - val_auxilliary_output_2_loss: 0.1546 - val_output_accuracy: 0.9091 - val_auxilliary_output_1_accuracy: 0.8919 - val_auxilliary_output_2_accuracy: 0.9042\n",
      "Epoch 81/100\n",
      "51/51 [==============================] - 6s 125ms/step - loss: 0.0389 - output_loss: 0.0269 - auxilliary_output_1_loss: 0.0184 - auxilliary_output_2_loss: 0.0214 - output_accuracy: 0.9736 - auxilliary_output_1_accuracy: 0.9840 - auxilliary_output_2_accuracy: 0.9803 - val_loss: 0.1802 - val_output_loss: 0.1151 - val_auxilliary_output_1_loss: 0.1116 - val_auxilliary_output_2_loss: 0.1052 - val_output_accuracy: 0.8747 - val_auxilliary_output_1_accuracy: 0.8993 - val_auxilliary_output_2_accuracy: 0.8968\n",
      "Epoch 82/100\n",
      "51/51 [==============================] - 6s 124ms/step - loss: 0.0805 - output_loss: 0.0552 - auxilliary_output_1_loss: 0.0368 - auxilliary_output_2_loss: 0.0474 - output_accuracy: 0.9397 - auxilliary_output_1_accuracy: 0.9705 - auxilliary_output_2_accuracy: 0.9551 - val_loss: 0.1819 - val_output_loss: 0.1129 - val_auxilliary_output_1_loss: 0.1147 - val_auxilliary_output_2_loss: 0.1154 - val_output_accuracy: 0.8722 - val_auxilliary_output_1_accuracy: 0.8821 - val_auxilliary_output_2_accuracy: 0.8698\n",
      "Epoch 83/100\n",
      "51/51 [==============================] - 6s 124ms/step - loss: 0.0711 - output_loss: 0.0485 - auxilliary_output_1_loss: 0.0344 - auxilliary_output_2_loss: 0.0409 - output_accuracy: 0.9514 - auxilliary_output_1_accuracy: 0.9711 - auxilliary_output_2_accuracy: 0.9674 - val_loss: 0.2196 - val_output_loss: 0.1259 - val_auxilliary_output_1_loss: 0.1688 - val_auxilliary_output_2_loss: 0.1437 - val_output_accuracy: 0.8575 - val_auxilliary_output_1_accuracy: 0.8624 - val_auxilliary_output_2_accuracy: 0.8600\n",
      "Epoch 84/100\n",
      "51/51 [==============================] - 6s 124ms/step - loss: 0.0354 - output_loss: 0.0219 - auxilliary_output_1_loss: 0.0227 - auxilliary_output_2_loss: 0.0221 - output_accuracy: 0.9797 - auxilliary_output_1_accuracy: 0.9846 - auxilliary_output_2_accuracy: 0.9791 - val_loss: 0.2043 - val_output_loss: 0.1298 - val_auxilliary_output_1_loss: 0.1165 - val_auxilliary_output_2_loss: 0.1317 - val_output_accuracy: 0.8919 - val_auxilliary_output_1_accuracy: 0.9017 - val_auxilliary_output_2_accuracy: 0.8894\n",
      "Epoch 85/100\n",
      "51/51 [==============================] - 6s 125ms/step - loss: 0.0275 - output_loss: 0.0190 - auxilliary_output_1_loss: 0.0135 - auxilliary_output_2_loss: 0.0149 - output_accuracy: 0.9822 - auxilliary_output_1_accuracy: 0.9914 - auxilliary_output_2_accuracy: 0.9859 - val_loss: 0.1934 - val_output_loss: 0.1233 - val_auxilliary_output_1_loss: 0.1190 - val_auxilliary_output_2_loss: 0.1149 - val_output_accuracy: 0.8943 - val_auxilliary_output_1_accuracy: 0.8968 - val_auxilliary_output_2_accuracy: 0.9066\n",
      "Epoch 86/100\n",
      "51/51 [==============================] - 6s 126ms/step - loss: 0.0762 - output_loss: 0.0533 - auxilliary_output_1_loss: 0.0325 - auxilliary_output_2_loss: 0.0440 - output_accuracy: 0.9446 - auxilliary_output_1_accuracy: 0.9736 - auxilliary_output_2_accuracy: 0.9526 - val_loss: 0.2197 - val_output_loss: 0.1427 - val_auxilliary_output_1_loss: 0.1262 - val_auxilliary_output_2_loss: 0.1304 - val_output_accuracy: 0.8428 - val_auxilliary_output_1_accuracy: 0.8894 - val_auxilliary_output_2_accuracy: 0.8698\n",
      "Epoch 87/100\n",
      "51/51 [==============================] - 6s 125ms/step - loss: 0.0138 - output_loss: 0.0094 - auxilliary_output_1_loss: 0.0077 - auxilliary_output_2_loss: 0.0071 - output_accuracy: 0.9938 - auxilliary_output_1_accuracy: 0.9988 - auxilliary_output_2_accuracy: 0.9951 - val_loss: 0.2153 - val_output_loss: 0.1388 - val_auxilliary_output_1_loss: 0.1245 - val_auxilliary_output_2_loss: 0.1306 - val_output_accuracy: 0.9091 - val_auxilliary_output_1_accuracy: 0.9066 - val_auxilliary_output_2_accuracy: 0.9140\n",
      "Epoch 88/100\n",
      "51/51 [==============================] - 6s 124ms/step - loss: 0.0023 - output_loss: 9.5571e-04 - auxilliary_output_1_loss: 0.0032 - auxilliary_output_2_loss: 0.0011 - output_accuracy: 1.0000 - auxilliary_output_1_accuracy: 1.0000 - auxilliary_output_2_accuracy: 1.0000 - val_loss: 0.2300 - val_output_loss: 0.1474 - val_auxilliary_output_1_loss: 0.1326 - val_auxilliary_output_2_loss: 0.1426 - val_output_accuracy: 0.9066 - val_auxilliary_output_1_accuracy: 0.8943 - val_auxilliary_output_2_accuracy: 0.9115\n",
      "Epoch 89/100\n",
      "51/51 [==============================] - 6s 125ms/step - loss: 0.0010 - output_loss: 2.2257e-04 - auxilliary_output_1_loss: 0.0017 - auxilliary_output_2_loss: 0.0011 - output_accuracy: 1.0000 - auxilliary_output_1_accuracy: 1.0000 - auxilliary_output_2_accuracy: 0.9988 - val_loss: 0.2393 - val_output_loss: 0.1550 - val_auxilliary_output_1_loss: 0.1344 - val_auxilliary_output_2_loss: 0.1468 - val_output_accuracy: 0.9066 - val_auxilliary_output_1_accuracy: 0.8919 - val_auxilliary_output_2_accuracy: 0.9165\n",
      "Epoch 90/100\n",
      "51/51 [==============================] - 6s 125ms/step - loss: 7.3118e-04 - output_loss: 1.6130e-04 - auxilliary_output_1_loss: 0.0014 - auxilliary_output_2_loss: 4.5064e-04 - output_accuracy: 1.0000 - auxilliary_output_1_accuracy: 1.0000 - auxilliary_output_2_accuracy: 1.0000 - val_loss: 0.2505 - val_output_loss: 0.1621 - val_auxilliary_output_1_loss: 0.1420 - val_auxilliary_output_2_loss: 0.1529 - val_output_accuracy: 0.9091 - val_auxilliary_output_1_accuracy: 0.8968 - val_auxilliary_output_2_accuracy: 0.9214\n",
      "Epoch 91/100\n",
      "51/51 [==============================] - 6s 126ms/step - loss: 6.1874e-04 - output_loss: 9.9103e-05 - auxilliary_output_1_loss: 0.0014 - auxilliary_output_2_loss: 2.9688e-04 - output_accuracy: 1.0000 - auxilliary_output_1_accuracy: 0.9994 - auxilliary_output_2_accuracy: 1.0000 - val_loss: 0.2608 - val_output_loss: 0.1701 - val_auxilliary_output_1_loss: 0.1421 - val_auxilliary_output_2_loss: 0.1605 - val_output_accuracy: 0.9091 - val_auxilliary_output_1_accuracy: 0.8993 - val_auxilliary_output_2_accuracy: 0.9140\n",
      "Epoch 92/100\n",
      "51/51 [==============================] - 6s 124ms/step - loss: 4.0490e-04 - output_loss: 7.3142e-05 - auxilliary_output_1_loss: 9.0101e-04 - auxilliary_output_2_loss: 2.0484e-04 - output_accuracy: 1.0000 - auxilliary_output_1_accuracy: 1.0000 - auxilliary_output_2_accuracy: 1.0000 - val_loss: 0.2676 - val_output_loss: 0.1735 - val_auxilliary_output_1_loss: 0.1478 - val_auxilliary_output_2_loss: 0.1661 - val_output_accuracy: 0.9115 - val_auxilliary_output_1_accuracy: 0.8919 - val_auxilliary_output_2_accuracy: 0.9140\n",
      "Epoch 93/100\n",
      "51/51 [==============================] - 6s 124ms/step - loss: 3.8094e-04 - output_loss: 5.7391e-05 - auxilliary_output_1_loss: 8.2822e-04 - auxilliary_output_2_loss: 2.5027e-04 - output_accuracy: 1.0000 - auxilliary_output_1_accuracy: 1.0000 - auxilliary_output_2_accuracy: 1.0000 - val_loss: 0.2630 - val_output_loss: 0.1709 - val_auxilliary_output_1_loss: 0.1471 - val_auxilliary_output_2_loss: 0.1597 - val_output_accuracy: 0.9189 - val_auxilliary_output_1_accuracy: 0.8943 - val_auxilliary_output_2_accuracy: 0.9238\n",
      "Epoch 94/100\n",
      "51/51 [==============================] - 6s 124ms/step - loss: 3.6796e-04 - output_loss: 5.9379e-05 - auxilliary_output_1_loss: 8.7833e-04 - auxilliary_output_2_loss: 1.5027e-04 - output_accuracy: 1.0000 - auxilliary_output_1_accuracy: 1.0000 - auxilliary_output_2_accuracy: 1.0000 - val_loss: 0.2722 - val_output_loss: 0.1770 - val_auxilliary_output_1_loss: 0.1500 - val_auxilliary_output_2_loss: 0.1674 - val_output_accuracy: 0.9091 - val_auxilliary_output_1_accuracy: 0.9017 - val_auxilliary_output_2_accuracy: 0.9165\n",
      "Epoch 95/100\n",
      "51/51 [==============================] - 6s 124ms/step - loss: 3.5773e-04 - output_loss: 5.5663e-05 - auxilliary_output_1_loss: 8.9483e-04 - auxilliary_output_2_loss: 1.1205e-04 - output_accuracy: 1.0000 - auxilliary_output_1_accuracy: 1.0000 - auxilliary_output_2_accuracy: 1.0000 - val_loss: 0.2686 - val_output_loss: 0.1749 - val_auxilliary_output_1_loss: 0.1464 - val_auxilliary_output_2_loss: 0.1661 - val_output_accuracy: 0.9165 - val_auxilliary_output_1_accuracy: 0.9042 - val_auxilliary_output_2_accuracy: 0.9140\n",
      "Epoch 96/100\n",
      "51/51 [==============================] - 7s 131ms/step - loss: 2.4800e-04 - output_loss: 3.6824e-05 - auxilliary_output_1_loss: 6.0479e-04 - auxilliary_output_2_loss: 9.9123e-05 - output_accuracy: 1.0000 - auxilliary_output_1_accuracy: 1.0000 - auxilliary_output_2_accuracy: 1.0000 - val_loss: 0.2779 - val_output_loss: 0.1802 - val_auxilliary_output_1_loss: 0.1534 - val_auxilliary_output_2_loss: 0.1725 - val_output_accuracy: 0.9165 - val_auxilliary_output_1_accuracy: 0.9017 - val_auxilliary_output_2_accuracy: 0.9238\n",
      "Epoch 97/100\n",
      "51/51 [==============================] - 6s 125ms/step - loss: 3.2706e-04 - output_loss: 3.9670e-05 - auxilliary_output_1_loss: 6.6748e-04 - auxilliary_output_2_loss: 2.9049e-04 - output_accuracy: 1.0000 - auxilliary_output_1_accuracy: 1.0000 - auxilliary_output_2_accuracy: 1.0000 - val_loss: 0.2770 - val_output_loss: 0.1794 - val_auxilliary_output_1_loss: 0.1479 - val_auxilliary_output_2_loss: 0.1774 - val_output_accuracy: 0.9165 - val_auxilliary_output_1_accuracy: 0.8993 - val_auxilliary_output_2_accuracy: 0.9189\n",
      "Epoch 98/100\n",
      "51/51 [==============================] - 6s 123ms/step - loss: 2.5888e-04 - output_loss: 3.4815e-05 - auxilliary_output_1_loss: 5.7737e-04 - auxilliary_output_2_loss: 1.6950e-04 - output_accuracy: 1.0000 - auxilliary_output_1_accuracy: 1.0000 - auxilliary_output_2_accuracy: 1.0000 - val_loss: 0.2770 - val_output_loss: 0.1804 - val_auxilliary_output_1_loss: 0.1463 - val_auxilliary_output_2_loss: 0.1759 - val_output_accuracy: 0.9189 - val_auxilliary_output_1_accuracy: 0.9091 - val_auxilliary_output_2_accuracy: 0.9189\n",
      "Epoch 99/100\n",
      "51/51 [==============================] - 6s 124ms/step - loss: 2.5166e-04 - output_loss: 2.6598e-05 - auxilliary_output_1_loss: 6.7164e-04 - auxilliary_output_2_loss: 7.8551e-05 - output_accuracy: 1.0000 - auxilliary_output_1_accuracy: 1.0000 - auxilliary_output_2_accuracy: 1.0000 - val_loss: 0.2931 - val_output_loss: 0.1915 - val_auxilliary_output_1_loss: 0.1530 - val_auxilliary_output_2_loss: 0.1857 - val_output_accuracy: 0.9189 - val_auxilliary_output_1_accuracy: 0.9042 - val_auxilliary_output_2_accuracy: 0.9165\n",
      "Epoch 100/100\n",
      "51/51 [==============================] - 6s 124ms/step - loss: 2.0341e-04 - output_loss: 2.2114e-05 - auxilliary_output_1_loss: 5.1784e-04 - auxilliary_output_2_loss: 8.6475e-05 - output_accuracy: 1.0000 - auxilliary_output_1_accuracy: 1.0000 - auxilliary_output_2_accuracy: 1.0000 - val_loss: 0.2919 - val_output_loss: 0.1904 - val_auxilliary_output_1_loss: 0.1537 - val_auxilliary_output_2_loss: 0.1848 - val_output_accuracy: 0.9189 - val_auxilliary_output_1_accuracy: 0.9066 - val_auxilliary_output_2_accuracy: 0.9165\n"
     ]
    }
   ],
   "source": [
    "# 3 inputs \n",
    "#validation_data=(x_valid, [y_valid, y_valid, y_valid]),\n",
    "history = model.fit(train_x, [train_y, train_y, train_y],validation_data=(x_valid, [y_valid, y_valid, y_valid]), epochs=epochs, callbacks=[earlyStopping])\n",
    "#history = model.fit(train_x,train_y, validation_data=(x_valid,y_valid), epochs=epochs, batch_size=batch_size, callbacks=[earlyStopping],steps_per_epoch=len(x_train)/batch_size)"
   ]
  },
  {
   "cell_type": "markdown",
   "id": "e4fc366a",
   "metadata": {
    "papermill": {
     "duration": 0.305618,
     "end_time": "2022-12-22T09:13:06.719095",
     "exception": false,
     "start_time": "2022-12-22T09:13:06.413477",
     "status": "completed"
    },
    "tags": []
   },
   "source": [
    "# Testing Data"
   ]
  },
  {
   "cell_type": "code",
   "execution_count": 31,
   "id": "ef03599d",
   "metadata": {
    "execution": {
     "iopub.execute_input": "2022-12-22T09:13:07.374470Z",
     "iopub.status.busy": "2022-12-22T09:13:07.373694Z",
     "iopub.status.idle": "2022-12-22T09:13:17.339583Z",
     "shell.execute_reply": "2022-12-22T09:13:17.338583Z"
    },
    "papermill": {
     "duration": 10.274816,
     "end_time": "2022-12-22T09:13:17.342541",
     "exception": false,
     "start_time": "2022-12-22T09:13:07.067725",
     "status": "completed"
    },
    "tags": []
   },
   "outputs": [],
   "source": [
    "import os\n",
    "names = next(os.walk('/kaggle/input/nn23-sports-image-classification/Test'), (None, None, []))[2]\n",
    "X_test=[]\n",
    "img_name=[]\n",
    "for i in names:\n",
    "    img=cv2.imread('/kaggle/input/nn23-sports-image-classification/Test/'+i)\n",
    "    img=cv2.resize(img,(224,224))\n",
    "    img_name.append(i)\n",
    "    X_test.append(img)"
   ]
  },
  {
   "cell_type": "code",
   "execution_count": 32,
   "id": "192cf66d",
   "metadata": {
    "execution": {
     "iopub.execute_input": "2022-12-22T09:13:17.939499Z",
     "iopub.status.busy": "2022-12-22T09:13:17.939083Z",
     "iopub.status.idle": "2022-12-22T09:13:18.043823Z",
     "shell.execute_reply": "2022-12-22T09:13:18.042840Z"
    },
    "papermill": {
     "duration": 0.405391,
     "end_time": "2022-12-22T09:13:18.046505",
     "exception": false,
     "start_time": "2022-12-22T09:13:17.641114",
     "status": "completed"
    },
    "tags": []
   },
   "outputs": [],
   "source": [
    "X_test=np.array(X_test)"
   ]
  },
  {
   "cell_type": "code",
   "execution_count": 33,
   "id": "b9944cdc",
   "metadata": {
    "execution": {
     "iopub.execute_input": "2022-12-22T09:13:18.687738Z",
     "iopub.status.busy": "2022-12-22T09:13:18.687355Z",
     "iopub.status.idle": "2022-12-22T09:13:21.929122Z",
     "shell.execute_reply": "2022-12-22T09:13:21.928069Z"
    },
    "papermill": {
     "duration": 3.591836,
     "end_time": "2022-12-22T09:13:21.931916",
     "exception": false,
     "start_time": "2022-12-22T09:13:18.340080",
     "status": "completed"
    },
    "tags": []
   },
   "outputs": [],
   "source": [
    "results = model.predict(X_test)\n",
    "results = np.argmax(results,axis = 2)"
   ]
  },
  {
   "cell_type": "code",
   "execution_count": 34,
   "id": "02536a7e",
   "metadata": {
    "execution": {
     "iopub.execute_input": "2022-12-22T09:13:22.544471Z",
     "iopub.status.busy": "2022-12-22T09:13:22.544101Z",
     "iopub.status.idle": "2022-12-22T09:13:22.551071Z",
     "shell.execute_reply": "2022-12-22T09:13:22.550130Z"
    },
    "papermill": {
     "duration": 0.325349,
     "end_time": "2022-12-22T09:13:22.553762",
     "exception": false,
     "start_time": "2022-12-22T09:13:22.228413",
     "status": "completed"
    },
    "tags": []
   },
   "outputs": [
    {
     "data": {
      "text/plain": [
       "array([[2, 5, 0, ..., 4, 1, 3],\n",
       "       [2, 5, 0, ..., 4, 1, 3],\n",
       "       [2, 5, 0, ..., 4, 1, 3]])"
      ]
     },
     "execution_count": 34,
     "metadata": {},
     "output_type": "execute_result"
    }
   ],
   "source": [
    "results=np.array(results)\n",
    "results"
   ]
  },
  {
   "cell_type": "code",
   "execution_count": 35,
   "id": "50a1c95a",
   "metadata": {
    "execution": {
     "iopub.execute_input": "2022-12-22T09:13:23.156436Z",
     "iopub.status.busy": "2022-12-22T09:13:23.156078Z",
     "iopub.status.idle": "2022-12-22T09:13:23.165619Z",
     "shell.execute_reply": "2022-12-22T09:13:23.164597Z"
    },
    "papermill": {
     "duration": 0.316229,
     "end_time": "2022-12-22T09:13:23.167696",
     "exception": false,
     "start_time": "2022-12-22T09:13:22.851467",
     "status": "completed"
    },
    "tags": []
   },
   "outputs": [
    {
     "data": {
      "text/plain": [
       "array([2, 5, 0, 1, 1, 0, 2, 5, 4, 2, 4, 4, 2, 0, 5, 2, 3, 4, 0, 3, 3, 2,\n",
       "       5, 1, 1, 5, 4, 0, 0, 4, 5, 4, 4, 5, 3, 5, 4, 1, 2, 4, 2, 5, 5, 1,\n",
       "       0, 4, 4, 3, 0, 5, 2, 0, 5, 1, 0, 1, 0, 3, 5, 1, 0, 0, 4, 4, 2, 1,\n",
       "       1, 3, 2, 1, 1, 1, 3, 4, 2, 1, 4, 2, 5, 0, 4, 4, 5, 5, 0, 0, 0, 3,\n",
       "       3, 5, 0, 3, 2, 2, 1, 5, 5, 0, 3, 4, 0, 3, 1, 3, 0, 2, 2, 3, 3, 0,\n",
       "       5, 3, 0, 3, 1, 5, 1, 0, 5, 4, 2, 2, 1, 1, 2, 2, 1, 5, 3, 0, 0, 1,\n",
       "       1, 5, 5, 1, 1, 1, 2, 4, 1, 1, 5, 3, 3, 1, 0, 3, 5, 4, 2, 0, 2, 4,\n",
       "       5, 3, 2, 5, 1, 2, 5, 0, 5, 1, 5, 4, 5, 1, 3, 1, 3, 2, 2, 1, 3, 0,\n",
       "       5, 2, 3, 2, 4, 3, 1, 5, 5, 0, 1, 0, 4, 2, 2, 3, 5, 1, 0, 5, 1, 4,\n",
       "       1, 4, 4, 2, 1, 1, 1, 5, 4, 2, 3, 5, 1, 4, 4, 5, 2, 4, 5, 5, 1, 3,\n",
       "       1, 1, 1, 5, 4, 1, 2, 3, 0, 0, 0, 0, 2, 2, 4, 4, 5, 5, 3, 1, 2, 2,\n",
       "       0, 1, 5, 4, 5, 3, 5, 3, 1, 3, 4, 1, 4, 4, 0, 3, 1, 3, 3, 5, 1, 1,\n",
       "       0, 5, 5, 5, 4, 5, 1, 4, 5, 4, 1, 0, 3, 2, 1, 1, 4, 1, 3, 4, 4, 4,\n",
       "       4, 0, 0, 4, 0, 3, 1, 5, 1, 1, 2, 1, 3, 4, 1, 1, 3, 0, 5, 2, 2, 4,\n",
       "       1, 1, 5, 2, 1, 5, 3, 4, 0, 4, 0, 3, 2, 2, 1, 5, 4, 1, 0, 0, 0, 1,\n",
       "       3, 1, 2, 0, 3, 1, 0, 5, 5, 1, 2, 1, 1, 5, 4, 5, 3, 1, 1, 0, 5, 1,\n",
       "       2, 3, 1, 5, 2, 4, 1, 3, 4, 5, 1, 3, 2, 5, 2, 2, 2, 3, 0, 1, 5, 5,\n",
       "       5, 3, 1, 4, 2, 4, 0, 3, 2, 2, 4, 2, 4, 3, 5, 5, 1, 3, 2, 1, 2, 5,\n",
       "       3, 4, 2, 3, 0, 1, 4, 1, 3, 5, 1, 4, 1, 3, 1, 5, 0, 5, 5, 5, 3, 1,\n",
       "       1, 5, 1, 3, 2, 3, 4, 0, 3, 4, 1, 5, 5, 4, 3, 4, 5, 0, 3, 1, 4, 5,\n",
       "       4, 1, 5, 2, 0, 1, 3, 2, 1, 0, 0, 2, 1, 1, 1, 0, 1, 3, 3, 3, 1, 1,\n",
       "       3, 3, 4, 2, 5, 3, 3, 5, 5, 5, 3, 2, 1, 3, 2, 0, 5, 5, 1, 0, 1, 0,\n",
       "       1, 1, 5, 0, 1, 5, 3, 5, 5, 3, 5, 1, 0, 4, 5, 2, 1, 5, 3, 1, 1, 5,\n",
       "       4, 5, 5, 5, 0, 3, 2, 5, 1, 0, 5, 0, 2, 1, 4, 2, 1, 0, 5, 5, 0, 2,\n",
       "       5, 2, 2, 5, 1, 2, 5, 3, 1, 3, 1, 5, 4, 0, 3, 5, 3, 0, 3, 0, 3, 1,\n",
       "       2, 0, 4, 2, 3, 4, 3, 5, 3, 1, 2, 5, 2, 0, 1, 3, 1, 0, 1, 1, 2, 5,\n",
       "       0, 1, 0, 4, 5, 3, 0, 2, 1, 3, 3, 1, 4, 5, 0, 3, 2, 4, 3, 3, 5, 4,\n",
       "       3, 0, 2, 1, 3, 2, 5, 0, 3, 3, 1, 2, 5, 0, 0, 0, 0, 5, 3, 2, 1, 0,\n",
       "       1, 3, 1, 4, 0, 2, 2, 2, 0, 4, 2, 5, 3, 3, 2, 2, 4, 4, 5, 3, 3, 5,\n",
       "       1, 3, 0, 0, 5, 2, 4, 1, 0, 1, 2, 4, 3, 4, 0, 1, 3, 5, 4, 4, 3, 1,\n",
       "       1, 2, 4, 1, 5, 1, 1, 0, 5, 1, 1, 5, 2, 1, 3, 5, 3, 0, 3, 0, 0, 1,\n",
       "       3, 3, 3, 4, 1, 3])"
      ]
     },
     "execution_count": 35,
     "metadata": {},
     "output_type": "execute_result"
    }
   ],
   "source": [
    "results[0]"
   ]
  },
  {
   "cell_type": "code",
   "execution_count": 36,
   "id": "e81bfb84",
   "metadata": {
    "execution": {
     "iopub.execute_input": "2022-12-22T09:13:23.816740Z",
     "iopub.status.busy": "2022-12-22T09:13:23.816346Z",
     "iopub.status.idle": "2022-12-22T09:13:23.824029Z",
     "shell.execute_reply": "2022-12-22T09:13:23.823115Z"
    },
    "papermill": {
     "duration": 0.358743,
     "end_time": "2022-12-22T09:13:23.826006",
     "exception": false,
     "start_time": "2022-12-22T09:13:23.467263",
     "status": "completed"
    },
    "tags": []
   },
   "outputs": [
    {
     "data": {
      "text/plain": [
       "array([2, 5, 0, 1, 1, 0, 1, 5, 4, 2, 4, 4, 2, 0, 5, 2, 3, 4, 4, 2, 3, 2,\n",
       "       5, 1, 1, 5, 4, 0, 0, 4, 5, 4, 4, 5, 3, 5, 4, 1, 2, 4, 2, 5, 5, 1,\n",
       "       0, 4, 4, 3, 0, 5, 2, 0, 5, 1, 0, 1, 5, 3, 5, 1, 0, 2, 4, 4, 2, 1,\n",
       "       1, 3, 2, 1, 1, 1, 3, 4, 2, 1, 4, 2, 5, 4, 4, 4, 5, 5, 0, 0, 0, 3,\n",
       "       5, 5, 0, 3, 2, 2, 1, 5, 5, 0, 3, 4, 0, 3, 1, 3, 0, 2, 2, 3, 3, 0,\n",
       "       5, 3, 4, 3, 1, 5, 1, 0, 5, 4, 2, 2, 1, 1, 2, 2, 1, 5, 3, 0, 0, 1,\n",
       "       1, 5, 5, 1, 1, 1, 2, 4, 1, 1, 5, 2, 5, 4, 0, 3, 5, 4, 2, 0, 2, 4,\n",
       "       5, 3, 2, 5, 1, 2, 5, 0, 5, 1, 5, 4, 5, 1, 3, 1, 3, 2, 2, 1, 3, 2,\n",
       "       5, 2, 3, 2, 4, 3, 1, 5, 5, 0, 1, 0, 4, 2, 2, 3, 5, 1, 0, 5, 1, 4,\n",
       "       1, 4, 4, 2, 1, 1, 1, 5, 4, 2, 3, 5, 1, 4, 4, 4, 2, 4, 5, 5, 1, 3,\n",
       "       1, 1, 1, 5, 4, 1, 2, 3, 0, 0, 0, 0, 2, 2, 4, 4, 5, 5, 3, 1, 3, 2,\n",
       "       1, 1, 5, 4, 5, 3, 5, 2, 1, 3, 4, 1, 4, 4, 0, 5, 1, 3, 5, 5, 1, 1,\n",
       "       0, 5, 5, 5, 4, 5, 1, 4, 5, 4, 1, 5, 3, 2, 1, 1, 4, 1, 3, 4, 4, 4,\n",
       "       4, 0, 0, 4, 0, 3, 1, 1, 1, 1, 2, 1, 3, 4, 1, 1, 5, 2, 5, 2, 2, 4,\n",
       "       1, 1, 5, 1, 1, 5, 3, 4, 0, 4, 0, 3, 2, 2, 1, 5, 4, 1, 0, 0, 0, 1,\n",
       "       3, 1, 2, 0, 3, 0, 0, 5, 5, 1, 2, 1, 1, 5, 4, 5, 3, 1, 1, 0, 5, 1,\n",
       "       2, 3, 1, 5, 2, 4, 1, 3, 4, 5, 1, 3, 2, 5, 2, 2, 2, 4, 0, 1, 5, 5,\n",
       "       5, 3, 1, 4, 2, 4, 0, 3, 1, 2, 4, 2, 1, 3, 5, 5, 1, 3, 2, 1, 2, 5,\n",
       "       3, 4, 2, 3, 0, 1, 4, 1, 3, 5, 1, 4, 1, 3, 1, 4, 0, 5, 5, 5, 3, 1,\n",
       "       1, 5, 1, 3, 2, 3, 4, 0, 3, 4, 1, 5, 5, 4, 3, 4, 5, 0, 3, 1, 4, 5,\n",
       "       4, 1, 5, 2, 0, 1, 3, 2, 1, 0, 0, 2, 1, 1, 1, 0, 1, 3, 3, 3, 1, 1,\n",
       "       3, 3, 4, 2, 5, 3, 3, 5, 5, 5, 3, 2, 1, 3, 2, 0, 5, 5, 1, 0, 1, 0,\n",
       "       1, 1, 5, 0, 1, 5, 3, 5, 5, 3, 5, 1, 1, 4, 5, 2, 1, 5, 3, 1, 1, 5,\n",
       "       4, 5, 5, 5, 0, 3, 2, 5, 1, 2, 5, 0, 2, 1, 4, 2, 1, 0, 5, 5, 0, 2,\n",
       "       5, 2, 2, 5, 1, 2, 5, 3, 1, 3, 1, 5, 4, 0, 3, 5, 3, 0, 3, 1, 3, 1,\n",
       "       2, 2, 4, 2, 3, 4, 3, 5, 5, 1, 2, 5, 2, 5, 1, 3, 1, 0, 1, 0, 2, 5,\n",
       "       0, 1, 0, 4, 5, 5, 0, 2, 1, 3, 3, 1, 4, 5, 0, 3, 2, 4, 3, 3, 5, 4,\n",
       "       3, 0, 2, 1, 3, 2, 5, 2, 3, 3, 1, 2, 1, 0, 0, 0, 2, 5, 3, 1, 1, 0,\n",
       "       1, 3, 1, 4, 0, 2, 2, 2, 0, 4, 2, 5, 3, 3, 2, 2, 4, 4, 5, 3, 3, 5,\n",
       "       1, 3, 0, 0, 5, 2, 4, 1, 0, 1, 2, 4, 3, 4, 0, 1, 3, 5, 4, 4, 3, 1,\n",
       "       1, 2, 4, 1, 5, 1, 1, 0, 5, 1, 1, 5, 2, 1, 3, 5, 3, 0, 3, 0, 2, 1,\n",
       "       2, 3, 3, 4, 1, 3])"
      ]
     },
     "execution_count": 36,
     "metadata": {},
     "output_type": "execute_result"
    }
   ],
   "source": [
    "results[2]"
   ]
  },
  {
   "cell_type": "code",
   "execution_count": 37,
   "id": "478e7879",
   "metadata": {
    "execution": {
     "iopub.execute_input": "2022-12-22T09:13:24.429814Z",
     "iopub.status.busy": "2022-12-22T09:13:24.429413Z",
     "iopub.status.idle": "2022-12-22T09:13:24.437859Z",
     "shell.execute_reply": "2022-12-22T09:13:24.436891Z"
    },
    "papermill": {
     "duration": 0.318177,
     "end_time": "2022-12-22T09:13:24.440121",
     "exception": false,
     "start_time": "2022-12-22T09:13:24.121944",
     "status": "completed"
    },
    "tags": []
   },
   "outputs": [
    {
     "data": {
      "text/plain": [
       "array([2, 5, 0, 1, 1, 0, 0, 5, 4, 2, 4, 4, 2, 0, 5, 2, 3, 4, 4, 1, 3, 2,\n",
       "       5, 1, 1, 5, 4, 0, 0, 4, 5, 4, 4, 5, 3, 5, 4, 1, 2, 4, 2, 5, 5, 1,\n",
       "       0, 4, 4, 3, 0, 5, 2, 0, 5, 0, 0, 4, 5, 3, 5, 1, 0, 2, 4, 4, 2, 1,\n",
       "       1, 3, 2, 1, 1, 1, 3, 4, 2, 1, 4, 2, 5, 0, 4, 4, 5, 5, 0, 0, 0, 4,\n",
       "       5, 5, 0, 3, 2, 3, 1, 5, 5, 0, 3, 4, 0, 3, 1, 3, 0, 2, 2, 3, 3, 0,\n",
       "       5, 3, 2, 3, 1, 5, 1, 0, 5, 4, 2, 2, 1, 1, 2, 2, 1, 5, 3, 0, 0, 1,\n",
       "       1, 5, 5, 5, 1, 1, 2, 4, 1, 1, 5, 3, 4, 4, 0, 3, 5, 4, 2, 0, 2, 4,\n",
       "       5, 3, 2, 5, 1, 2, 5, 0, 5, 5, 5, 4, 5, 1, 3, 1, 3, 2, 2, 1, 3, 2,\n",
       "       5, 2, 3, 2, 4, 3, 1, 5, 5, 0, 1, 0, 4, 2, 4, 3, 5, 1, 0, 5, 1, 4,\n",
       "       0, 4, 5, 2, 1, 1, 1, 5, 4, 2, 3, 5, 1, 4, 4, 5, 3, 1, 5, 5, 1, 3,\n",
       "       1, 1, 1, 5, 4, 0, 2, 3, 0, 0, 0, 0, 2, 2, 4, 4, 5, 5, 2, 1, 2, 2,\n",
       "       1, 1, 5, 4, 5, 3, 5, 2, 1, 3, 4, 1, 4, 4, 0, 5, 1, 3, 5, 5, 1, 1,\n",
       "       0, 5, 5, 5, 4, 5, 1, 5, 5, 4, 1, 5, 3, 5, 1, 5, 4, 1, 3, 4, 4, 4,\n",
       "       4, 0, 0, 4, 0, 3, 1, 1, 1, 1, 2, 1, 3, 4, 1, 1, 4, 2, 5, 2, 2, 4,\n",
       "       1, 1, 5, 5, 1, 5, 3, 4, 0, 4, 0, 3, 2, 2, 1, 5, 4, 1, 0, 0, 0, 1,\n",
       "       3, 1, 0, 0, 3, 0, 0, 5, 5, 4, 2, 1, 1, 5, 4, 5, 3, 1, 0, 0, 5, 1,\n",
       "       4, 3, 1, 5, 2, 4, 1, 3, 4, 5, 1, 3, 2, 5, 2, 2, 2, 1, 0, 1, 5, 5,\n",
       "       5, 3, 1, 4, 2, 4, 0, 3, 0, 2, 4, 2, 1, 3, 5, 5, 1, 3, 2, 1, 2, 5,\n",
       "       3, 4, 2, 3, 1, 1, 4, 1, 3, 5, 1, 2, 1, 3, 1, 4, 0, 5, 5, 5, 3, 1,\n",
       "       1, 5, 1, 3, 2, 3, 4, 0, 3, 4, 1, 5, 5, 4, 3, 4, 5, 0, 3, 1, 4, 5,\n",
       "       4, 1, 5, 2, 0, 1, 3, 2, 1, 0, 0, 2, 1, 1, 1, 0, 1, 3, 3, 3, 1, 1,\n",
       "       3, 3, 4, 2, 5, 3, 3, 1, 5, 5, 2, 2, 1, 3, 2, 0, 5, 5, 1, 0, 1, 0,\n",
       "       1, 1, 5, 0, 1, 5, 3, 5, 5, 3, 5, 1, 1, 4, 5, 2, 1, 5, 3, 1, 1, 5,\n",
       "       4, 5, 5, 5, 0, 3, 1, 5, 1, 2, 5, 0, 2, 1, 4, 2, 1, 0, 5, 5, 0, 2,\n",
       "       5, 2, 2, 5, 1, 2, 5, 3, 1, 3, 4, 5, 4, 0, 3, 5, 3, 0, 3, 0, 3, 1,\n",
       "       2, 2, 4, 1, 3, 4, 3, 5, 4, 1, 2, 5, 2, 5, 4, 3, 1, 0, 1, 0, 2, 5,\n",
       "       0, 1, 0, 4, 5, 5, 0, 2, 1, 3, 3, 1, 4, 5, 0, 3, 2, 4, 3, 3, 5, 4,\n",
       "       3, 0, 2, 1, 3, 2, 1, 0, 3, 3, 1, 2, 3, 0, 1, 1, 2, 5, 3, 1, 1, 0,\n",
       "       1, 3, 1, 4, 0, 2, 2, 2, 0, 4, 2, 5, 3, 3, 2, 2, 0, 4, 5, 3, 3, 5,\n",
       "       1, 3, 0, 0, 5, 2, 4, 1, 0, 1, 2, 4, 3, 4, 1, 5, 3, 5, 4, 4, 3, 1,\n",
       "       1, 2, 4, 1, 5, 1, 1, 0, 5, 3, 1, 5, 2, 1, 3, 5, 3, 0, 3, 0, 0, 1,\n",
       "       2, 3, 3, 4, 1, 3])"
      ]
     },
     "execution_count": 37,
     "metadata": {},
     "output_type": "execute_result"
    }
   ],
   "source": [
    "results[1]"
   ]
  },
  {
   "cell_type": "code",
   "execution_count": 38,
   "id": "9523de69",
   "metadata": {
    "execution": {
     "iopub.execute_input": "2022-12-22T09:13:25.049199Z",
     "iopub.status.busy": "2022-12-22T09:13:25.046888Z",
     "iopub.status.idle": "2022-12-22T09:13:25.083539Z",
     "shell.execute_reply": "2022-12-22T09:13:25.082551Z"
    },
    "papermill": {
     "duration": 0.346079,
     "end_time": "2022-12-22T09:13:25.085714",
     "exception": false,
     "start_time": "2022-12-22T09:13:24.739635",
     "status": "completed"
    },
    "tags": []
   },
   "outputs": [],
   "source": [
    "submission=pd.DataFrame()\n",
    "submission['image_name']=img_name\n",
    "submission['label']=results[1]"
   ]
  },
  {
   "cell_type": "markdown",
   "id": "4c5bf246",
   "metadata": {
    "papermill": {
     "duration": 0.306023,
     "end_time": "2022-12-22T09:13:25.742370",
     "exception": false,
     "start_time": "2022-12-22T09:13:25.436347",
     "status": "completed"
    },
    "tags": []
   },
   "source": [
    "# Final Output"
   ]
  },
  {
   "cell_type": "code",
   "execution_count": 39,
   "id": "27d2d732",
   "metadata": {
    "execution": {
     "iopub.execute_input": "2022-12-22T09:13:26.345330Z",
     "iopub.status.busy": "2022-12-22T09:13:26.343318Z",
     "iopub.status.idle": "2022-12-22T09:13:26.363068Z",
     "shell.execute_reply": "2022-12-22T09:13:26.361921Z"
    },
    "papermill": {
     "duration": 0.323398,
     "end_time": "2022-12-22T09:13:26.365236",
     "exception": false,
     "start_time": "2022-12-22T09:13:26.041838",
     "status": "completed"
    },
    "tags": []
   },
   "outputs": [
    {
     "data": {
      "text/html": [
       "<div>\n",
       "<style scoped>\n",
       "    .dataframe tbody tr th:only-of-type {\n",
       "        vertical-align: middle;\n",
       "    }\n",
       "\n",
       "    .dataframe tbody tr th {\n",
       "        vertical-align: top;\n",
       "    }\n",
       "\n",
       "    .dataframe thead th {\n",
       "        text-align: right;\n",
       "    }\n",
       "</style>\n",
       "<table border=\"1\" class=\"dataframe\">\n",
       "  <thead>\n",
       "    <tr style=\"text-align: right;\">\n",
       "      <th></th>\n",
       "      <th>image_name</th>\n",
       "      <th>label</th>\n",
       "    </tr>\n",
       "  </thead>\n",
       "  <tbody>\n",
       "    <tr>\n",
       "      <th>0</th>\n",
       "      <td>623.jpg</td>\n",
       "      <td>2</td>\n",
       "    </tr>\n",
       "    <tr>\n",
       "      <th>1</th>\n",
       "      <td>208.jpg</td>\n",
       "      <td>5</td>\n",
       "    </tr>\n",
       "    <tr>\n",
       "      <th>2</th>\n",
       "      <td>473.jpg</td>\n",
       "      <td>0</td>\n",
       "    </tr>\n",
       "    <tr>\n",
       "      <th>3</th>\n",
       "      <td>333.jpg</td>\n",
       "      <td>1</td>\n",
       "    </tr>\n",
       "    <tr>\n",
       "      <th>4</th>\n",
       "      <td>537.jpg</td>\n",
       "      <td>1</td>\n",
       "    </tr>\n",
       "    <tr>\n",
       "      <th>...</th>\n",
       "      <td>...</td>\n",
       "      <td>...</td>\n",
       "    </tr>\n",
       "    <tr>\n",
       "      <th>683</th>\n",
       "      <td>364.jpg</td>\n",
       "      <td>3</td>\n",
       "    </tr>\n",
       "    <tr>\n",
       "      <th>684</th>\n",
       "      <td>90.jpg</td>\n",
       "      <td>3</td>\n",
       "    </tr>\n",
       "    <tr>\n",
       "      <th>685</th>\n",
       "      <td>599.jpg</td>\n",
       "      <td>4</td>\n",
       "    </tr>\n",
       "    <tr>\n",
       "      <th>686</th>\n",
       "      <td>25.jpg</td>\n",
       "      <td>1</td>\n",
       "    </tr>\n",
       "    <tr>\n",
       "      <th>687</th>\n",
       "      <td>147.jpg</td>\n",
       "      <td>3</td>\n",
       "    </tr>\n",
       "  </tbody>\n",
       "</table>\n",
       "<p>688 rows × 2 columns</p>\n",
       "</div>"
      ],
      "text/plain": [
       "    image_name  label\n",
       "0      623.jpg      2\n",
       "1      208.jpg      5\n",
       "2      473.jpg      0\n",
       "3      333.jpg      1\n",
       "4      537.jpg      1\n",
       "..         ...    ...\n",
       "683    364.jpg      3\n",
       "684     90.jpg      3\n",
       "685    599.jpg      4\n",
       "686     25.jpg      1\n",
       "687    147.jpg      3\n",
       "\n",
       "[688 rows x 2 columns]"
      ]
     },
     "execution_count": 39,
     "metadata": {},
     "output_type": "execute_result"
    }
   ],
   "source": [
    "submission"
   ]
  },
  {
   "cell_type": "code",
   "execution_count": 40,
   "id": "8d9f88ad",
   "metadata": {
    "execution": {
     "iopub.execute_input": "2022-12-22T09:13:27.038269Z",
     "iopub.status.busy": "2022-12-22T09:13:27.037721Z",
     "iopub.status.idle": "2022-12-22T09:13:27.043082Z",
     "shell.execute_reply": "2022-12-22T09:13:27.042151Z"
    },
    "papermill": {
     "duration": 0.318057,
     "end_time": "2022-12-22T09:13:27.045069",
     "exception": false,
     "start_time": "2022-12-22T09:13:26.727012",
     "status": "completed"
    },
    "tags": []
   },
   "outputs": [],
   "source": [
    "# for checking \n",
    "classes = ['Basketball','Football','Rowing','Swimming','Tennis','Yoga']"
   ]
  },
  {
   "cell_type": "code",
   "execution_count": 41,
   "id": "6ed55f08",
   "metadata": {
    "execution": {
     "iopub.execute_input": "2022-12-22T09:13:27.663936Z",
     "iopub.status.busy": "2022-12-22T09:13:27.663449Z",
     "iopub.status.idle": "2022-12-22T09:13:27.673245Z",
     "shell.execute_reply": "2022-12-22T09:13:27.672391Z"
    },
    "papermill": {
     "duration": 0.323814,
     "end_time": "2022-12-22T09:13:27.675244",
     "exception": false,
     "start_time": "2022-12-22T09:13:27.351430",
     "status": "completed"
    },
    "tags": []
   },
   "outputs": [],
   "source": [
    "submission.to_csv(r'/kaggle/working/inceptionv1.csv', index=False)"
   ]
  },
  {
   "cell_type": "code",
   "execution_count": 42,
   "id": "f53ca62b",
   "metadata": {
    "execution": {
     "iopub.execute_input": "2022-12-22T09:13:28.291234Z",
     "iopub.status.busy": "2022-12-22T09:13:28.290684Z",
     "iopub.status.idle": "2022-12-22T09:13:28.295695Z",
     "shell.execute_reply": "2022-12-22T09:13:28.294768Z"
    },
    "papermill": {
     "duration": 0.320842,
     "end_time": "2022-12-22T09:13:28.297640",
     "exception": false,
     "start_time": "2022-12-22T09:13:27.976798",
     "status": "completed"
    },
    "tags": []
   },
   "outputs": [],
   "source": [
    "#history.save('asl_model')"
   ]
  },
  {
   "cell_type": "code",
   "execution_count": null,
   "id": "e0119e1b",
   "metadata": {
    "papermill": {
     "duration": 0.348305,
     "end_time": "2022-12-22T09:13:28.944252",
     "exception": false,
     "start_time": "2022-12-22T09:13:28.595947",
     "status": "completed"
    },
    "tags": []
   },
   "outputs": [],
   "source": []
  },
  {
   "cell_type": "code",
   "execution_count": null,
   "id": "98a8a44f",
   "metadata": {
    "papermill": {
     "duration": 0.306704,
     "end_time": "2022-12-22T09:13:29.543541",
     "exception": false,
     "start_time": "2022-12-22T09:13:29.236837",
     "status": "completed"
    },
    "tags": []
   },
   "outputs": [],
   "source": []
  }
 ],
 "metadata": {
  "kernelspec": {
   "display_name": "Python 3",
   "language": "python",
   "name": "python3"
  },
  "language_info": {
   "codemirror_mode": {
    "name": "ipython",
    "version": 3
   },
   "file_extension": ".py",
   "mimetype": "text/x-python",
   "name": "python",
   "nbconvert_exporter": "python",
   "pygments_lexer": "ipython3",
   "version": "3.7.12"
  },
  "papermill": {
   "default_parameters": {},
   "duration": 747.977817,
   "end_time": "2022-12-22T09:13:33.229701",
   "environment_variables": {},
   "exception": null,
   "input_path": "__notebook__.ipynb",
   "output_path": "__notebook__.ipynb",
   "parameters": {},
   "start_time": "2022-12-22T09:01:05.251884",
   "version": "2.3.4"
  }
 },
 "nbformat": 4,
 "nbformat_minor": 5
}

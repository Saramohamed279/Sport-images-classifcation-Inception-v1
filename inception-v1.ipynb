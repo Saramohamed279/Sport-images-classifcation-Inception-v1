{
 "cells": [
  {
   "cell_type": "markdown",
   "id": "635fbf74",
   "metadata": {
    "papermill": {
     "duration": 0.012688,
     "end_time": "2022-12-21T02:32:39.201909",
     "exception": false,
     "start_time": "2022-12-21T02:32:39.189221",
     "status": "completed"
    },
    "tags": []
   },
   "source": [
    "# **This section to read the dataset images and preprocess it**"
   ]
  },
  {
   "cell_type": "code",
   "execution_count": 1,
   "id": "36fb3b74",
   "metadata": {
    "execution": {
     "iopub.execute_input": "2022-12-21T02:32:39.247760Z",
     "iopub.status.busy": "2022-12-21T02:32:39.247233Z",
     "iopub.status.idle": "2022-12-21T02:32:48.315998Z",
     "shell.execute_reply": "2022-12-21T02:32:48.314869Z"
    },
    "papermill": {
     "duration": 9.097268,
     "end_time": "2022-12-21T02:32:48.319183",
     "exception": false,
     "start_time": "2022-12-21T02:32:39.221915",
     "status": "completed"
    },
    "tags": []
   },
   "outputs": [],
   "source": [
    "import glob\n",
    "import cv2\n",
    "import keras\n",
    "from keras.layers.core import Layer\n",
    "import keras.backend as K\n",
    "import tensorflow as tf\n",
    "from keras.models import Model\n",
    "from keras.layers import Conv2D, MaxPool2D,Dropout, Dense, Input, concatenate,GlobalAveragePooling2D, AveragePooling2D,Flatten\n",
    "import cv2  \n",
    "from keras import backend as K \n",
    "from keras.utils import np_utils\n",
    "import math \n",
    "from tensorflow.keras.optimizers import SGD, Adam\n",
    "from keras.callbacks import LearningRateScheduler\n",
    "import matplotlib.pyplot as plt\n",
    "import numpy as np\n",
    "import pandas as pd\n",
    "import torch\n",
    "from sklearn.model_selection import train_test_split"
   ]
  },
  {
   "cell_type": "code",
   "execution_count": 2,
   "id": "802ee85d",
   "metadata": {
    "execution": {
     "iopub.execute_input": "2022-12-21T02:32:48.342154Z",
     "iopub.status.busy": "2022-12-21T02:32:48.340960Z",
     "iopub.status.idle": "2022-12-21T02:32:48.346367Z",
     "shell.execute_reply": "2022-12-21T02:32:48.345543Z"
    },
    "papermill": {
     "duration": 0.018178,
     "end_time": "2022-12-21T02:32:48.348324",
     "exception": false,
     "start_time": "2022-12-21T02:32:48.330146",
     "status": "completed"
    },
    "tags": []
   },
   "outputs": [],
   "source": [
    "#classes we need to classify data to it\n",
    "classes = ['Basketball','Football','Rowing','Swimming','Tennis','Yoga']\n",
    "\n",
    "#images read from test\n",
    "dir_name = \"/kaggle/input/nn23-sports-image-classification\""
   ]
  },
  {
   "cell_type": "markdown",
   "id": "c3a83438",
   "metadata": {
    "papermill": {
     "duration": 0.010612,
     "end_time": "2022-12-21T02:32:48.369811",
     "exception": false,
     "start_time": "2022-12-21T02:32:48.359199",
     "status": "completed"
    },
    "tags": []
   },
   "source": [
    "# Read jpg images from train data"
   ]
  },
  {
   "cell_type": "code",
   "execution_count": 3,
   "id": "ad93c3f5",
   "metadata": {
    "execution": {
     "iopub.execute_input": "2022-12-21T02:32:48.391130Z",
     "iopub.status.busy": "2022-12-21T02:32:48.390842Z",
     "iopub.status.idle": "2022-12-21T02:32:48.491016Z",
     "shell.execute_reply": "2022-12-21T02:32:48.490104Z"
    },
    "papermill": {
     "duration": 0.113262,
     "end_time": "2022-12-21T02:32:48.493201",
     "exception": false,
     "start_time": "2022-12-21T02:32:48.379939",
     "status": "completed"
    },
    "tags": []
   },
   "outputs": [],
   "source": [
    "images_jpg = glob.glob(dir_name + r\"/Train/*.jpg\")"
   ]
  },
  {
   "cell_type": "markdown",
   "id": "7acb9385",
   "metadata": {
    "papermill": {
     "duration": 0.009908,
     "end_time": "2022-12-21T02:32:48.513395",
     "exception": false,
     "start_time": "2022-12-21T02:32:48.503487",
     "status": "completed"
    },
    "tags": []
   },
   "source": [
    "# Read png images from train data"
   ]
  },
  {
   "cell_type": "code",
   "execution_count": 4,
   "id": "2bfd16b7",
   "metadata": {
    "execution": {
     "iopub.execute_input": "2022-12-21T02:32:48.535005Z",
     "iopub.status.busy": "2022-12-21T02:32:48.533843Z",
     "iopub.status.idle": "2022-12-21T02:32:48.541930Z",
     "shell.execute_reply": "2022-12-21T02:32:48.541117Z"
    },
    "papermill": {
     "duration": 0.020828,
     "end_time": "2022-12-21T02:32:48.543875",
     "exception": false,
     "start_time": "2022-12-21T02:32:48.523047",
     "status": "completed"
    },
    "tags": []
   },
   "outputs": [],
   "source": [
    "images_png = glob.glob(dir_name + r\"/Train/*.png\")"
   ]
  },
  {
   "cell_type": "markdown",
   "id": "f7205047",
   "metadata": {
    "papermill": {
     "duration": 0.009567,
     "end_time": "2022-12-21T02:32:48.563178",
     "exception": false,
     "start_time": "2022-12-21T02:32:48.553611",
     "status": "completed"
    },
    "tags": []
   },
   "source": [
    "# All images read"
   ]
  },
  {
   "cell_type": "code",
   "execution_count": 5,
   "id": "3ceff986",
   "metadata": {
    "execution": {
     "iopub.execute_input": "2022-12-21T02:32:48.585079Z",
     "iopub.status.busy": "2022-12-21T02:32:48.583506Z",
     "iopub.status.idle": "2022-12-21T02:32:48.594371Z",
     "shell.execute_reply": "2022-12-21T02:32:48.593387Z"
    },
    "papermill": {
     "duration": 0.024261,
     "end_time": "2022-12-21T02:32:48.597160",
     "exception": false,
     "start_time": "2022-12-21T02:32:48.572899",
     "status": "completed"
    },
    "tags": []
   },
   "outputs": [
    {
     "name": "stdout",
     "output_type": "stream",
     "text": [
      "1681\n"
     ]
    }
   ],
   "source": [
    "allImages= glob.glob(dir_name + r\"/Train/*\")\n",
    "print(len(allImages))"
   ]
  },
  {
   "cell_type": "markdown",
   "id": "2bb68209",
   "metadata": {
    "papermill": {
     "duration": 0.00953,
     "end_time": "2022-12-21T02:32:48.617214",
     "exception": false,
     "start_time": "2022-12-21T02:32:48.607684",
     "status": "completed"
    },
    "tags": []
   },
   "source": [
    "# Percentage of (png , jpg , ohterformat)"
   ]
  },
  {
   "cell_type": "code",
   "execution_count": 6,
   "id": "176fc841",
   "metadata": {
    "execution": {
     "iopub.execute_input": "2022-12-21T02:32:48.639590Z",
     "iopub.status.busy": "2022-12-21T02:32:48.637601Z",
     "iopub.status.idle": "2022-12-21T02:32:48.866518Z",
     "shell.execute_reply": "2022-12-21T02:32:48.865478Z"
    },
    "papermill": {
     "duration": 0.243089,
     "end_time": "2022-12-21T02:32:48.870004",
     "exception": false,
     "start_time": "2022-12-21T02:32:48.626915",
     "status": "completed"
    },
    "tags": []
   },
   "outputs": [
    {
     "data": {
      "image/png": "[encoded data removed]",
      "text/plain": [
       "<Figure size 432x288 with 1 Axes>"
      ]
     },
     "metadata": {},
     "output_type": "display_data"
    }
   ],
   "source": [
    "mylabels = [\"png\" , \"jpg\" , \"other\"]\n",
    "otherLen = len(allImages) - ((len(images_png) + len(images_jpg)))\n",
    "y = np.array([len(images_png) , len(images_jpg) , otherLen])\n",
    "plt.pie(y, labels = mylabels)\n",
    "plt.legend()\n",
    "plt.show() "
   ]
  },
  {
   "cell_type": "markdown",
   "id": "ed2256ef",
   "metadata": {
    "papermill": {
     "duration": 0.018088,
     "end_time": "2022-12-21T02:32:48.916394",
     "exception": false,
     "start_time": "2022-12-21T02:32:48.898306",
     "status": "completed"
    },
    "tags": []
   },
   "source": [
    "# Since most of images are of type jpg then we are going to reformat all images to be jpg format"
   ]
  },
  {
   "cell_type": "code",
   "execution_count": 7,
   "id": "74c77f94",
   "metadata": {
    "execution": {
     "iopub.execute_input": "2022-12-21T02:32:48.938891Z",
     "iopub.status.busy": "2022-12-21T02:32:48.938593Z",
     "iopub.status.idle": "2022-12-21T02:33:06.351802Z",
     "shell.execute_reply": "2022-12-21T02:33:06.350793Z"
    },
    "papermill": {
     "duration": 17.42637,
     "end_time": "2022-12-21T02:33:06.354217",
     "exception": false,
     "start_time": "2022-12-21T02:32:48.927847",
     "status": "completed"
    },
    "tags": []
   },
   "outputs": [],
   "source": [
    "for i in range(len(allImages)):\n",
    "    name_of_sport = allImages[i].split('/')[5].split('_')[0]\n",
    "    number_image = allImages[i].split('/')[5].split('_')[-1].split('.')[0].lower()\n",
    "    index=classes.index(name_of_sport)\n",
    "    name_image = f'/kaggle/working/{index}_{number_image}.jpg'\n",
    "    image = cv2.imread(allImages[i])\n",
    "    image = cv2.resize(image,(224,224))\n",
    "    cv2.imwrite(name_image,image)"
   ]
  },
  {
   "cell_type": "code",
   "execution_count": 8,
   "id": "f8cb3a6a",
   "metadata": {
    "execution": {
     "iopub.execute_input": "2022-12-21T02:33:06.377488Z",
     "iopub.status.busy": "2022-12-21T02:33:06.376740Z",
     "iopub.status.idle": "2022-12-21T02:33:06.387356Z",
     "shell.execute_reply": "2022-12-21T02:33:06.386029Z"
    },
    "papermill": {
     "duration": 0.024553,
     "end_time": "2022-12-21T02:33:06.389482",
     "exception": false,
     "start_time": "2022-12-21T02:33:06.364929",
     "status": "completed"
    },
    "tags": []
   },
   "outputs": [
    {
     "name": "stdout",
     "output_type": "stream",
     "text": [
      "1681\n"
     ]
    }
   ],
   "source": [
    "images_jpg = glob.glob(r\"/kaggle/working/*.jpg\")\n",
    "print(len(images_jpg))"
   ]
  },
  {
   "cell_type": "markdown",
   "id": "0553b49c",
   "metadata": {
    "papermill": {
     "duration": 0.009977,
     "end_time": "2022-12-21T02:33:06.409873",
     "exception": false,
     "start_time": "2022-12-21T02:33:06.399896",
     "status": "completed"
    },
    "tags": []
   },
   "source": [
    "# Preprocessing X and Y before join the model"
   ]
  },
  {
   "cell_type": "code",
   "execution_count": 9,
   "id": "d85da582",
   "metadata": {
    "execution": {
     "iopub.execute_input": "2022-12-21T02:33:06.431621Z",
     "iopub.status.busy": "2022-12-21T02:33:06.431330Z",
     "iopub.status.idle": "2022-12-21T02:33:06.435766Z",
     "shell.execute_reply": "2022-12-21T02:33:06.434578Z"
    },
    "papermill": {
     "duration": 0.017837,
     "end_time": "2022-12-21T02:33:06.438202",
     "exception": false,
     "start_time": "2022-12-21T02:33:06.420365",
     "status": "completed"
    },
    "tags": []
   },
   "outputs": [],
   "source": [
    "preprocessed_train = images_jpg\n",
    "x_train = []\n",
    "y_train = []"
   ]
  },
  {
   "cell_type": "code",
   "execution_count": 10,
   "id": "a4764e11",
   "metadata": {
    "execution": {
     "iopub.execute_input": "2022-12-21T02:33:06.459752Z",
     "iopub.status.busy": "2022-12-21T02:33:06.459497Z",
     "iopub.status.idle": "2022-12-21T02:33:07.944113Z",
     "shell.execute_reply": "2022-12-21T02:33:07.943104Z"
    },
    "papermill": {
     "duration": 1.498326,
     "end_time": "2022-12-21T02:33:07.946476",
     "exception": false,
     "start_time": "2022-12-21T02:33:06.448150",
     "status": "completed"
    },
    "tags": []
   },
   "outputs": [],
   "source": [
    "for image in preprocessed_train:\n",
    "    index = image.split(\"_\")[0].split(\"/\")[-1]\n",
    "    c = [0,0,0,0,0,0]\n",
    "    c[int(index)] = 1\n",
    "    y_train.append(c)\n",
    "    x_train.append(np.asarray(cv2.imread(image)))"
   ]
  },
  {
   "cell_type": "code",
   "execution_count": 11,
   "id": "33da8929",
   "metadata": {
    "execution": {
     "iopub.execute_input": "2022-12-21T02:33:07.968244Z",
     "iopub.status.busy": "2022-12-21T02:33:07.967957Z",
     "iopub.status.idle": "2022-12-21T02:33:07.976404Z",
     "shell.execute_reply": "2022-12-21T02:33:07.975339Z"
    },
    "papermill": {
     "duration": 0.022605,
     "end_time": "2022-12-21T02:33:07.979648",
     "exception": false,
     "start_time": "2022-12-21T02:33:07.957043",
     "status": "completed"
    },
    "tags": []
   },
   "outputs": [
    {
     "data": {
      "text/plain": [
       "array([[[0, 0, 1, 0, 0, 0]],\n",
       "\n",
       "       [[0, 0, 0, 0, 1, 0]],\n",
       "\n",
       "       [[0, 1, 0, 0, 0, 0]],\n",
       "\n",
       "       ...,\n",
       "\n",
       "       [[0, 1, 0, 0, 0, 0]],\n",
       "\n",
       "       [[0, 0, 0, 0, 0, 1]],\n",
       "\n",
       "       [[0, 0, 0, 1, 0, 0]]])"
      ]
     },
     "execution_count": 11,
     "metadata": {},
     "output_type": "execute_result"
    }
   ],
   "source": [
    "y_train = np.array(y_train)\n",
    "y_train.reshape(1681 , 1 , 6)"
   ]
  },
  {
   "cell_type": "code",
   "execution_count": 12,
   "id": "c575ad0b",
   "metadata": {
    "execution": {
     "iopub.execute_input": "2022-12-21T02:33:08.001214Z",
     "iopub.status.busy": "2022-12-21T02:33:08.000957Z",
     "iopub.status.idle": "2022-12-21T02:33:08.005940Z",
     "shell.execute_reply": "2022-12-21T02:33:08.004875Z"
    },
    "papermill": {
     "duration": 0.019706,
     "end_time": "2022-12-21T02:33:08.009571",
     "exception": false,
     "start_time": "2022-12-21T02:33:07.989865",
     "status": "completed"
    },
    "tags": []
   },
   "outputs": [
    {
     "name": "stdout",
     "output_type": "stream",
     "text": [
      "(1681, 6)\n"
     ]
    }
   ],
   "source": [
    "print(y_train.shape)"
   ]
  },
  {
   "cell_type": "code",
   "execution_count": 13,
   "id": "05c56a1c",
   "metadata": {
    "execution": {
     "iopub.execute_input": "2022-12-21T02:33:08.032103Z",
     "iopub.status.busy": "2022-12-21T02:33:08.031852Z",
     "iopub.status.idle": "2022-12-21T02:33:08.125392Z",
     "shell.execute_reply": "2022-12-21T02:33:08.124483Z"
    },
    "papermill": {
     "duration": 0.10635,
     "end_time": "2022-12-21T02:33:08.127386",
     "exception": false,
     "start_time": "2022-12-21T02:33:08.021036",
     "status": "completed"
    },
    "tags": []
   },
   "outputs": [
    {
     "data": {
      "text/plain": [
       "array([[[[147, 115,  86],\n",
       "         [146, 114,  85],\n",
       "         [142, 110,  81],\n",
       "         ...,\n",
       "         [146, 113,  80],\n",
       "         [139, 106,  73],\n",
       "         [140, 109,  76]],\n",
       "\n",
       "        [[141, 109,  80],\n",
       "         [144, 112,  83],\n",
       "         [146, 114,  85],\n",
       "         ...,\n",
       "         [141, 108,  75],\n",
       "         [135, 104,  71],\n",
       "         [141, 110,  77]],\n",
       "\n",
       "        [[134, 102,  73],\n",
       "         [137, 105,  76],\n",
       "         [144, 112,  83],\n",
       "         ...,\n",
       "         [132,  99,  66],\n",
       "         [124,  93,  62],\n",
       "         [127,  96,  65]],\n",
       "\n",
       "        ...,\n",
       "\n",
       "        [[ 79,  55,  33],\n",
       "         [ 83,  59,  35],\n",
       "         [ 90,  64,  40],\n",
       "         ...,\n",
       "         [124,  94,  67],\n",
       "         [128,  98,  71],\n",
       "         [127,  97,  70]],\n",
       "\n",
       "        [[ 90,  68,  43],\n",
       "         [ 94,  72,  47],\n",
       "         [103,  79,  55],\n",
       "         ...,\n",
       "         [142, 112,  83],\n",
       "         [138, 110,  80],\n",
       "         [136, 108,  78]],\n",
       "\n",
       "        [[ 93,  71,  46],\n",
       "         [ 89,  67,  42],\n",
       "         [107,  84,  58],\n",
       "         ...,\n",
       "         [151, 121,  92],\n",
       "         [154, 126,  96],\n",
       "         [151, 123,  93]]],\n",
       "\n",
       "\n",
       "       [[[ 82,  79, 188],\n",
       "         [ 82,  79, 188],\n",
       "         [ 84,  81, 190],\n",
       "         ...,\n",
       "         [ 51,  97,  15],\n",
       "         [ 51,  97,  15],\n",
       "         [ 51,  97,  15]],\n",
       "\n",
       "        [[ 82,  79, 188],\n",
       "         [ 81,  78, 187],\n",
       "         [ 82,  79, 188],\n",
       "         ...,\n",
       "         [ 51,  97,  15],\n",
       "         [ 51,  97,  15],\n",
       "         [ 51,  97,  15]],\n",
       "\n",
       "        [[ 82,  79, 188],\n",
       "         [ 81,  78, 187],\n",
       "         [ 81,  78, 187],\n",
       "         ...,\n",
       "         [ 51,  97,  15],\n",
       "         [ 51,  97,  15],\n",
       "         [ 51,  97,  15]],\n",
       "\n",
       "        ...,\n",
       "\n",
       "        [[ 88,  85, 195],\n",
       "         [ 88,  85, 195],\n",
       "         [ 86,  85, 195],\n",
       "         ...,\n",
       "         [ 51,  97,  15],\n",
       "         [ 51,  97,  15],\n",
       "         [ 50,  96,  14]],\n",
       "\n",
       "        [[ 90,  84, 195],\n",
       "         [ 88,  85, 195],\n",
       "         [ 86,  85, 195],\n",
       "         ...,\n",
       "         [ 51,  97,  15],\n",
       "         [ 50,  96,  14],\n",
       "         [ 50,  96,  14]],\n",
       "\n",
       "        [[ 90,  84, 195],\n",
       "         [ 88,  85, 195],\n",
       "         [ 88,  85, 195],\n",
       "         ...,\n",
       "         [ 51,  97,  15],\n",
       "         [ 50,  96,  14],\n",
       "         [ 50,  96,  14]]],\n",
       "\n",
       "\n",
       "       [[[ 47,  48,  39],\n",
       "         [ 44,  44,  38],\n",
       "         [ 32,  30,  29],\n",
       "         ...,\n",
       "         [ 17,  12,  14],\n",
       "         [ 27,  20,  23],\n",
       "         [ 24,  16,  17]],\n",
       "\n",
       "        [[ 46,  46,  40],\n",
       "         [ 46,  45,  41],\n",
       "         [ 36,  34,  34],\n",
       "         ...,\n",
       "         [ 15,  12,  14],\n",
       "         [ 27,  21,  22],\n",
       "         [ 23,  18,  17]],\n",
       "\n",
       "        [[ 44,  44,  44],\n",
       "         [ 48,  47,  49],\n",
       "         [ 39,  38,  42],\n",
       "         ...,\n",
       "         [ 18,  15,  17],\n",
       "         [ 28,  26,  25],\n",
       "         [ 29,  26,  22]],\n",
       "\n",
       "        ...,\n",
       "\n",
       "        [[ 35, 114,  73],\n",
       "         [ 10,  89,  48],\n",
       "         [ 17,  98,  59],\n",
       "         ...,\n",
       "         [ 44, 126,  84],\n",
       "         [ 59, 138,  97],\n",
       "         [ 41, 120,  79]],\n",
       "\n",
       "        [[  8,  85,  47],\n",
       "         [  9,  86,  48],\n",
       "         [ 32, 111,  72],\n",
       "         ...,\n",
       "         [ 39, 118,  77],\n",
       "         [ 48, 126,  85],\n",
       "         [ 53, 131,  90]],\n",
       "\n",
       "        [[ 18,  95,  57],\n",
       "         [ 12,  89,  51],\n",
       "         [ 19,  96,  58],\n",
       "         ...,\n",
       "         [ 51, 130,  89],\n",
       "         [ 37, 115,  74],\n",
       "         [ 53, 131,  90]]],\n",
       "\n",
       "\n",
       "       ...,\n",
       "\n",
       "\n",
       "       [[[ 21,  21,  21],\n",
       "         [ 21,  21,  21],\n",
       "         [ 21,  21,  21],\n",
       "         ...,\n",
       "         [ 30,  28,  28],\n",
       "         [ 36,  34,  34],\n",
       "         [ 36,  34,  34]],\n",
       "\n",
       "        [[ 21,  21,  21],\n",
       "         [ 21,  21,  21],\n",
       "         [ 20,  20,  20],\n",
       "         ...,\n",
       "         [ 29,  27,  27],\n",
       "         [ 34,  32,  32],\n",
       "         [ 34,  32,  32]],\n",
       "\n",
       "        [[ 21,  21,  21],\n",
       "         [ 20,  20,  20],\n",
       "         [ 19,  19,  19],\n",
       "         ...,\n",
       "         [ 28,  26,  26],\n",
       "         [ 31,  29,  29],\n",
       "         [ 30,  28,  28]],\n",
       "\n",
       "        ...,\n",
       "\n",
       "        [[ 82, 116, 106],\n",
       "         [ 39,  68,  59],\n",
       "         [ 22,  41,  32],\n",
       "         ...,\n",
       "         [245, 244, 246],\n",
       "         [248, 250, 250],\n",
       "         [247, 249, 249]],\n",
       "\n",
       "        [[ 60,  83,  75],\n",
       "         [ 35,  53,  46],\n",
       "         [ 25,  36,  28],\n",
       "         ...,\n",
       "         [242, 241, 243],\n",
       "         [245, 247, 247],\n",
       "         [245, 247, 247]],\n",
       "\n",
       "        [[ 42,  58,  51],\n",
       "         [ 22,  34,  28],\n",
       "         [ 22,  29,  22],\n",
       "         ...,\n",
       "         [242, 241, 243],\n",
       "         [244, 246, 246],\n",
       "         [245, 247, 247]]],\n",
       "\n",
       "\n",
       "       [[[140, 117,  95],\n",
       "         [121,  98,  76],\n",
       "         [173, 147, 130],\n",
       "         ...,\n",
       "         [ 69,  55,  49],\n",
       "         [ 77,  57,  56],\n",
       "         [ 72,  52,  51]],\n",
       "\n",
       "        [[146, 123, 101],\n",
       "         [159, 136, 114],\n",
       "         [197, 172, 152],\n",
       "         ...,\n",
       "         [ 95,  79,  73],\n",
       "         [ 90,  71,  68],\n",
       "         [ 67,  47,  46]],\n",
       "\n",
       "        [[166, 145, 123],\n",
       "         [196, 175, 153],\n",
       "         [213, 189, 169],\n",
       "         ...,\n",
       "         [102,  86,  80],\n",
       "         [ 89,  70,  67],\n",
       "         [ 79,  58,  56]],\n",
       "\n",
       "        ...,\n",
       "\n",
       "        [[146, 175, 190],\n",
       "         [142, 168, 182],\n",
       "         [155, 172, 185],\n",
       "         ...,\n",
       "         [137, 148, 146],\n",
       "         [147, 158, 156],\n",
       "         [138, 151, 149]],\n",
       "\n",
       "        [[123, 153, 170],\n",
       "         [126, 151, 167],\n",
       "         [151, 167, 183],\n",
       "         ...,\n",
       "         [120, 131, 128],\n",
       "         [113, 130, 126],\n",
       "         [103, 123, 118]],\n",
       "\n",
       "        [[100, 130, 149],\n",
       "         [113, 139, 156],\n",
       "         [161, 175, 193],\n",
       "         ...,\n",
       "         [157, 169, 163],\n",
       "         [129, 149, 144],\n",
       "         [ 87, 110, 105]]],\n",
       "\n",
       "\n",
       "       [[[ 81,  72,   0],\n",
       "         [ 84,  75,   1],\n",
       "         [ 88,  78,   1],\n",
       "         ...,\n",
       "         [115,  90,   0],\n",
       "         [110,  86,   0],\n",
       "         [112,  88,   0]],\n",
       "\n",
       "        [[ 84,  75,   1],\n",
       "         [ 87,  79,   2],\n",
       "         [ 91,  81,   4],\n",
       "         ...,\n",
       "         [118,  93,   1],\n",
       "         [113,  89,   0],\n",
       "         [114,  90,   0]],\n",
       "\n",
       "        [[ 86,  76,   0],\n",
       "         [ 89,  79,   1],\n",
       "         [ 93,  81,   3],\n",
       "         ...,\n",
       "         [120,  95,   3],\n",
       "         [116,  93,   1],\n",
       "         [117,  94,   2]],\n",
       "\n",
       "        ...,\n",
       "\n",
       "        [[100,  92,   0],\n",
       "         [103,  95,   1],\n",
       "         [110, 101,   3],\n",
       "         ...,\n",
       "         [ 74,  59,  10],\n",
       "         [ 77,  66,   8],\n",
       "         [ 74,  68,   3]],\n",
       "\n",
       "        [[104,  95,   5],\n",
       "         [103,  95,   2],\n",
       "         [108, 101,   4],\n",
       "         ...,\n",
       "         [ 69,  55,   7],\n",
       "         [ 66,  59,   4],\n",
       "         [ 60,  56,   0]],\n",
       "\n",
       "        [[106,  97,   7],\n",
       "         [100,  92,   0],\n",
       "         [102,  94,   0],\n",
       "         ...,\n",
       "         [ 65,  51,   3],\n",
       "         [ 60,  54,   1],\n",
       "         [ 53,  50,   0]]]], dtype=uint8)"
      ]
     },
     "execution_count": 13,
     "metadata": {},
     "output_type": "execute_result"
    }
   ],
   "source": [
    "x_train = np.array(x_train)\n",
    "x_train.reshape(1681,224,224,3)"
   ]
  },
  {
   "cell_type": "code",
   "execution_count": 14,
   "id": "f23f7744",
   "metadata": {
    "execution": {
     "iopub.execute_input": "2022-12-21T02:33:08.151560Z",
     "iopub.status.busy": "2022-12-21T02:33:08.149930Z",
     "iopub.status.idle": "2022-12-21T02:33:08.155796Z",
     "shell.execute_reply": "2022-12-21T02:33:08.154626Z"
    },
    "papermill": {
     "duration": 0.020385,
     "end_time": "2022-12-21T02:33:08.158727",
     "exception": false,
     "start_time": "2022-12-21T02:33:08.138342",
     "status": "completed"
    },
    "tags": []
   },
   "outputs": [
    {
     "name": "stdout",
     "output_type": "stream",
     "text": [
      "(1681, 224, 224, 3)\n"
     ]
    }
   ],
   "source": [
    "print(x_train.shape)"
   ]
  },
  {
   "cell_type": "code",
   "execution_count": 15,
   "id": "e1562f96",
   "metadata": {
    "execution": {
     "iopub.execute_input": "2022-12-21T02:33:08.181647Z",
     "iopub.status.busy": "2022-12-21T02:33:08.180920Z",
     "iopub.status.idle": "2022-12-21T02:33:08.186611Z",
     "shell.execute_reply": "2022-12-21T02:33:08.185589Z"
    },
    "papermill": {
     "duration": 0.019091,
     "end_time": "2022-12-21T02:33:08.188551",
     "exception": false,
     "start_time": "2022-12-21T02:33:08.169460",
     "status": "completed"
    },
    "tags": []
   },
   "outputs": [
    {
     "name": "stdout",
     "output_type": "stream",
     "text": [
      "(1681, 6)\n"
     ]
    }
   ],
   "source": [
    "print(y_train.shape)"
   ]
  },
  {
   "cell_type": "code",
   "execution_count": 16,
   "id": "7dc1a70d",
   "metadata": {
    "execution": {
     "iopub.execute_input": "2022-12-21T02:33:08.211630Z",
     "iopub.status.busy": "2022-12-21T02:33:08.210795Z",
     "iopub.status.idle": "2022-12-21T02:33:08.217840Z",
     "shell.execute_reply": "2022-12-21T02:33:08.216936Z"
    },
    "papermill": {
     "duration": 0.020662,
     "end_time": "2022-12-21T02:33:08.219785",
     "exception": false,
     "start_time": "2022-12-21T02:33:08.199123",
     "status": "completed"
    },
    "tags": []
   },
   "outputs": [
    {
     "data": {
      "text/plain": [
       "array([[[147, 115,  86],\n",
       "        [146, 114,  85],\n",
       "        [142, 110,  81],\n",
       "        ...,\n",
       "        [146, 113,  80],\n",
       "        [139, 106,  73],\n",
       "        [140, 109,  76]],\n",
       "\n",
       "       [[141, 109,  80],\n",
       "        [144, 112,  83],\n",
       "        [146, 114,  85],\n",
       "        ...,\n",
       "        [141, 108,  75],\n",
       "        [135, 104,  71],\n",
       "        [141, 110,  77]],\n",
       "\n",
       "       [[134, 102,  73],\n",
       "        [137, 105,  76],\n",
       "        [144, 112,  83],\n",
       "        ...,\n",
       "        [132,  99,  66],\n",
       "        [124,  93,  62],\n",
       "        [127,  96,  65]],\n",
       "\n",
       "       ...,\n",
       "\n",
       "       [[ 79,  55,  33],\n",
       "        [ 83,  59,  35],\n",
       "        [ 90,  64,  40],\n",
       "        ...,\n",
       "        [124,  94,  67],\n",
       "        [128,  98,  71],\n",
       "        [127,  97,  70]],\n",
       "\n",
       "       [[ 90,  68,  43],\n",
       "        [ 94,  72,  47],\n",
       "        [103,  79,  55],\n",
       "        ...,\n",
       "        [142, 112,  83],\n",
       "        [138, 110,  80],\n",
       "        [136, 108,  78]],\n",
       "\n",
       "       [[ 93,  71,  46],\n",
       "        [ 89,  67,  42],\n",
       "        [107,  84,  58],\n",
       "        ...,\n",
       "        [151, 121,  92],\n",
       "        [154, 126,  96],\n",
       "        [151, 123,  93]]], dtype=uint8)"
      ]
     },
     "execution_count": 16,
     "metadata": {},
     "output_type": "execute_result"
    }
   ],
   "source": [
    "x_train[0]"
   ]
  },
  {
   "cell_type": "markdown",
   "id": "e51797b0",
   "metadata": {
    "papermill": {
     "duration": 0.010638,
     "end_time": "2022-12-21T02:33:08.241242",
     "exception": false,
     "start_time": "2022-12-21T02:33:08.230604",
     "status": "completed"
    },
    "tags": []
   },
   "source": [
    "# Inception Model"
   ]
  },
  {
   "cell_type": "code",
   "execution_count": 17,
   "id": "6a4c3d83",
   "metadata": {
    "execution": {
     "iopub.execute_input": "2022-12-21T02:33:08.266132Z",
     "iopub.status.busy": "2022-12-21T02:33:08.264400Z",
     "iopub.status.idle": "2022-12-21T02:33:08.274623Z",
     "shell.execute_reply": "2022-12-21T02:33:08.273600Z"
    },
    "papermill": {
     "duration": 0.024321,
     "end_time": "2022-12-21T02:33:08.276664",
     "exception": false,
     "start_time": "2022-12-21T02:33:08.252343",
     "status": "completed"
    },
    "tags": []
   },
   "outputs": [],
   "source": [
    "def inception_module(x,\n",
    "                     filters_1x1,\n",
    "                     filters_3x3_reduce,\n",
    "                     filters_3x3,\n",
    "                     filters_5x5_reduce,\n",
    "                     filters_5x5,\n",
    "                     filters_pool_proj,\n",
    "                     name=None):\n",
    "    \n",
    "    conv_1x1 = Conv2D(filters_1x1, (1, 1), padding='same', activation='relu', kernel_initializer=kernel_init, bias_initializer=bias_init)(x)\n",
    "    \n",
    "    conv_3x3 = Conv2D(filters_3x3_reduce, (1, 1), padding='same', activation='relu', kernel_initializer=kernel_init, bias_initializer=bias_init)(x)\n",
    "    conv_3x3 = Conv2D(filters_3x3, (3, 3), padding='same', activation='relu', kernel_initializer=kernel_init, bias_initializer=bias_init)(conv_3x3)\n",
    "\n",
    "    conv_5x5 = Conv2D(filters_5x5_reduce, (1, 1), padding='same', activation='relu', kernel_initializer=kernel_init, bias_initializer=bias_init)(x)\n",
    "    conv_5x5 = Conv2D(filters_5x5, (5, 5), padding='same', activation='relu', kernel_initializer=kernel_init, bias_initializer=bias_init)(conv_5x5)\n",
    "\n",
    "    pool_proj = MaxPool2D((3, 3), strides=(1, 1), padding='same')(x)\n",
    "    pool_proj = Conv2D(filters_pool_proj, (1, 1), padding='same', activation='relu', kernel_initializer=kernel_init, bias_initializer=bias_init)(pool_proj)\n",
    "\n",
    "    output = concatenate([conv_1x1, conv_3x3, conv_5x5, pool_proj], axis=3, name=name)\n",
    "    \n",
    "    return output"
   ]
  },
  {
   "cell_type": "markdown",
   "id": "0e840d7e",
   "metadata": {
    "papermill": {
     "duration": 0.010706,
     "end_time": "2022-12-21T02:33:08.299371",
     "exception": false,
     "start_time": "2022-12-21T02:33:08.288665",
     "status": "completed"
    },
    "tags": []
   },
   "source": [
    "# Initial Bias"
   ]
  },
  {
   "cell_type": "code",
   "execution_count": 18,
   "id": "3e4bcada",
   "metadata": {
    "execution": {
     "iopub.execute_input": "2022-12-21T02:33:08.321745Z",
     "iopub.status.busy": "2022-12-21T02:33:08.321474Z",
     "iopub.status.idle": "2022-12-21T02:33:08.325790Z",
     "shell.execute_reply": "2022-12-21T02:33:08.324842Z"
    },
    "papermill": {
     "duration": 0.017944,
     "end_time": "2022-12-21T02:33:08.327816",
     "exception": false,
     "start_time": "2022-12-21T02:33:08.309872",
     "status": "completed"
    },
    "tags": []
   },
   "outputs": [],
   "source": [
    "kernel_init = keras.initializers.glorot_uniform()\n",
    "bias_init = keras.initializers.Constant(value=0.1)"
   ]
  },
  {
   "cell_type": "markdown",
   "id": "0b3ff31f",
   "metadata": {
    "papermill": {
     "duration": 0.011576,
     "end_time": "2022-12-21T02:33:08.350166",
     "exception": false,
     "start_time": "2022-12-21T02:33:08.338590",
     "status": "completed"
    },
    "tags": []
   },
   "source": [
    "# Building Architcture "
   ]
  },
  {
   "cell_type": "code",
   "execution_count": 19,
   "id": "f6379f0e",
   "metadata": {
    "execution": {
     "iopub.execute_input": "2022-12-21T02:33:08.374049Z",
     "iopub.status.busy": "2022-12-21T02:33:08.373761Z",
     "iopub.status.idle": "2022-12-21T02:33:16.817021Z",
     "shell.execute_reply": "2022-12-21T02:33:16.816081Z"
    },
    "papermill": {
     "duration": 8.457393,
     "end_time": "2022-12-21T02:33:16.819513",
     "exception": false,
     "start_time": "2022-12-21T02:33:08.362120",
     "status": "completed"
    },
    "tags": []
   },
   "outputs": [
    {
     "name": "stderr",
     "output_type": "stream",
     "text": [
      "2022-12-21 02:33:08.550345: I tensorflow/stream_executor/cuda/cuda_gpu_executor.cc:937] successful NUMA node read from SysFS had negative value (-1), but there must be at least one NUMA node, so returning NUMA node zero\n",
      "2022-12-21 02:33:08.551259: I tensorflow/stream_executor/cuda/cuda_gpu_executor.cc:937] successful NUMA node read from SysFS had negative value (-1), but there must be at least one NUMA node, so returning NUMA node zero\n",
      "2022-12-21 02:33:08.552221: I tensorflow/stream_executor/cuda/cuda_gpu_executor.cc:937] successful NUMA node read from SysFS had negative value (-1), but there must be at least one NUMA node, so returning NUMA node zero\n",
      "2022-12-21 02:33:08.552994: I tensorflow/stream_executor/cuda/cuda_gpu_executor.cc:937] successful NUMA node read from SysFS had negative value (-1), but there must be at least one NUMA node, so returning NUMA node zero\n",
      "2022-12-21 02:33:08.553747: I tensorflow/stream_executor/cuda/cuda_gpu_executor.cc:937] successful NUMA node read from SysFS had negative value (-1), but there must be at least one NUMA node, so returning NUMA node zero\n",
      "2022-12-21 02:33:08.554545: I tensorflow/stream_executor/cuda/cuda_gpu_executor.cc:937] successful NUMA node read from SysFS had negative value (-1), but there must be at least one NUMA node, so returning NUMA node zero\n",
      "2022-12-21 02:33:08.556448: I tensorflow/core/platform/cpu_feature_guard.cc:142] This TensorFlow binary is optimized with oneAPI Deep Neural Network Library (oneDNN) to use the following CPU instructions in performance-critical operations:  AVX2 AVX512F FMA\n",
      "To enable them in other operations, rebuild TensorFlow with the appropriate compiler flags.\n",
      "2022-12-21 02:33:08.782684: I tensorflow/stream_executor/cuda/cuda_gpu_executor.cc:937] successful NUMA node read from SysFS had negative value (-1), but there must be at least one NUMA node, so returning NUMA node zero\n",
      "2022-12-21 02:33:08.783580: I tensorflow/stream_executor/cuda/cuda_gpu_executor.cc:937] successful NUMA node read from SysFS had negative value (-1), but there must be at least one NUMA node, so returning NUMA node zero\n",
      "2022-12-21 02:33:08.784514: I tensorflow/stream_executor/cuda/cuda_gpu_executor.cc:937] successful NUMA node read from SysFS had negative value (-1), but there must be at least one NUMA node, so returning NUMA node zero\n",
      "2022-12-21 02:33:08.785335: I tensorflow/stream_executor/cuda/cuda_gpu_executor.cc:937] successful NUMA node read from SysFS had negative value (-1), but there must be at least one NUMA node, so returning NUMA node zero\n",
      "2022-12-21 02:33:08.786058: I tensorflow/stream_executor/cuda/cuda_gpu_executor.cc:937] successful NUMA node read from SysFS had negative value (-1), but there must be at least one NUMA node, so returning NUMA node zero\n",
      "2022-12-21 02:33:08.786805: I tensorflow/stream_executor/cuda/cuda_gpu_executor.cc:937] successful NUMA node read from SysFS had negative value (-1), but there must be at least one NUMA node, so returning NUMA node zero\n",
      "2022-12-21 02:33:15.958831: I tensorflow/stream_executor/cuda/cuda_gpu_executor.cc:937] successful NUMA node read from SysFS had negative value (-1), but there must be at least one NUMA node, so returning NUMA node zero\n",
      "2022-12-21 02:33:15.959815: I tensorflow/stream_executor/cuda/cuda_gpu_executor.cc:937] successful NUMA node read from SysFS had negative value (-1), but there must be at least one NUMA node, so returning NUMA node zero\n",
      "2022-12-21 02:33:15.960574: I tensorflow/stream_executor/cuda/cuda_gpu_executor.cc:937] successful NUMA node read from SysFS had negative value (-1), but there must be at least one NUMA node, so returning NUMA node zero\n",
      "2022-12-21 02:33:15.961350: I tensorflow/stream_executor/cuda/cuda_gpu_executor.cc:937] successful NUMA node read from SysFS had negative value (-1), but there must be at least one NUMA node, so returning NUMA node zero\n",
      "2022-12-21 02:33:15.962138: I tensorflow/stream_executor/cuda/cuda_gpu_executor.cc:937] successful NUMA node read from SysFS had negative value (-1), but there must be at least one NUMA node, so returning NUMA node zero\n",
      "2022-12-21 02:33:15.962826: I tensorflow/core/common_runtime/gpu/gpu_device.cc:1510] Created device /job:localhost/replica:0/task:0/device:GPU:0 with 13351 MB memory:  -> device: 0, name: Tesla T4, pci bus id: 0000:00:04.0, compute capability: 7.5\n",
      "2022-12-21 02:33:15.966098: I tensorflow/stream_executor/cuda/cuda_gpu_executor.cc:937] successful NUMA node read from SysFS had negative value (-1), but there must be at least one NUMA node, so returning NUMA node zero\n",
      "2022-12-21 02:33:15.966930: I tensorflow/core/common_runtime/gpu/gpu_device.cc:1510] Created device /job:localhost/replica:0/task:0/device:GPU:1 with 13351 MB memory:  -> device: 1, name: Tesla T4, pci bus id: 0000:00:05.0, compute capability: 7.5\n"
     ]
    }
   ],
   "source": [
    "input_layer = Input(shape=(224, 224, 3))\n",
    "\n",
    "x = Conv2D(64, (7, 7), padding='same', strides=(2, 2), activation='relu', name='conv_1_7x7/2', kernel_initializer=kernel_init, bias_initializer=bias_init)(input_layer)\n",
    "x = MaxPool2D((3, 3), padding='same', strides=(2, 2), name='max_pool_1_3x3/2')(x)\n",
    "x = Conv2D(64, (1, 1), padding='same', strides=(1, 1), activation='relu', name='conv_2a_3x3/1')(x)\n",
    "x = Conv2D(192, (3, 3), padding='same', strides=(1, 1), activation='relu', name='conv_2b_3x3/1')(x)\n",
    "x = MaxPool2D((3, 3), padding='same', strides=(2, 2), name='max_pool_2_3x3/2')(x)\n",
    "\n",
    "x = inception_module(x,\n",
    "                     filters_1x1=64,\n",
    "                     filters_3x3_reduce=96,\n",
    "                     filters_3x3=128,\n",
    "                     filters_5x5_reduce=16,\n",
    "                     filters_5x5=32,\n",
    "                     filters_pool_proj=32,\n",
    "                     name='inception_3a')\n",
    "\n",
    "x = inception_module(x,\n",
    "                     filters_1x1=128,\n",
    "                     filters_3x3_reduce=128,\n",
    "                     filters_3x3=192,\n",
    "                     filters_5x5_reduce=32,\n",
    "                     filters_5x5=96,\n",
    "                     filters_pool_proj=64,\n",
    "                     name='inception_3b')\n",
    "\n",
    "x = MaxPool2D((3, 3), padding='same', strides=(2, 2), name='max_pool_3_3x3/2')(x)\n",
    "\n",
    "x = inception_module(x,\n",
    "                     filters_1x1=192,\n",
    "                     filters_3x3_reduce=96,\n",
    "                     filters_3x3=208,\n",
    "                     filters_5x5_reduce=16,\n",
    "                     filters_5x5=48,\n",
    "                     filters_pool_proj=64,\n",
    "                     name='inception_4a')\n",
    "\n",
    "\n",
    "x1 = AveragePooling2D((5, 5), strides=3)(x)\n",
    "x1 = Conv2D(128, (1, 1), padding='same', activation='relu')(x1)\n",
    "x1 = Flatten()(x1)\n",
    "x1 = Dense(1024, activation='relu')(x1)\n",
    "x1 = Dropout(0.7)(x1)\n",
    "x1 = Dense(6, activation='softmax', name='auxilliary_output_1')(x1)\n",
    "\n",
    "x = inception_module(x,\n",
    "                     filters_1x1=160,\n",
    "                     filters_3x3_reduce=112,\n",
    "                     filters_3x3=224,\n",
    "                     filters_5x5_reduce=24,\n",
    "                     filters_5x5=64,\n",
    "                     filters_pool_proj=64,\n",
    "                     name='inception_4b')\n",
    "\n",
    "x = inception_module(x,\n",
    "                     filters_1x1=128,\n",
    "                     filters_3x3_reduce=128,\n",
    "                     filters_3x3=256,\n",
    "                     filters_5x5_reduce=24,\n",
    "                     filters_5x5=64,\n",
    "                     filters_pool_proj=64,\n",
    "                     name='inception_4c')\n",
    "\n",
    "x = inception_module(x,\n",
    "                     filters_1x1=112,\n",
    "                     filters_3x3_reduce=144,\n",
    "                     filters_3x3=288,\n",
    "                     filters_5x5_reduce=32,\n",
    "                     filters_5x5=64,\n",
    "                     filters_pool_proj=64,\n",
    "                     name='inception_4d')\n",
    "\n",
    "\n",
    "x2 = AveragePooling2D((5, 5), strides=3)(x)\n",
    "x2 = Conv2D(128, (1, 1), padding='same', activation='relu')(x2)\n",
    "x2 = Flatten()(x2)\n",
    "x2 = Dense(1024, activation='relu')(x2)\n",
    "x2 = Dropout(0.7)(x2)\n",
    "x2 = Dense(6, activation='softmax', name='auxilliary_output_2')(x2)\n",
    "\n",
    "x = inception_module(x,\n",
    "                     filters_1x1=256,\n",
    "                     filters_3x3_reduce=160,\n",
    "                     filters_3x3=320,\n",
    "                     filters_5x5_reduce=32,\n",
    "                     filters_5x5=128,\n",
    "                     filters_pool_proj=128,\n",
    "                     name='inception_4e')\n",
    "\n",
    "x = MaxPool2D((3, 3), padding='same', strides=(2, 2), name='max_pool_4_3x3/2')(x)\n",
    "\n",
    "x = inception_module(x,\n",
    "                     filters_1x1=256,\n",
    "                     filters_3x3_reduce=160,\n",
    "                     filters_3x3=320,\n",
    "                     filters_5x5_reduce=32,\n",
    "                     filters_5x5=128,\n",
    "                     filters_pool_proj=128,\n",
    "                     name='inception_5a')\n",
    "\n",
    "x = inception_module(x,\n",
    "                     filters_1x1=384,\n",
    "                     filters_3x3_reduce=192,\n",
    "                     filters_3x3=384,\n",
    "                     filters_5x5_reduce=48,\n",
    "                     filters_5x5=128,\n",
    "                     filters_pool_proj=128,\n",
    "                     name='inception_5b')\n",
    "\n",
    "x = GlobalAveragePooling2D(name='avg_pool_5_3x3/1')(x)\n",
    "\n",
    "x = Dropout(0.4)(x)\n",
    "\n",
    "x = Dense(6, activation='softmax', name='output')(x)"
   ]
  },
  {
   "cell_type": "markdown",
   "id": "358a35b4",
   "metadata": {
    "papermill": {
     "duration": 0.011081,
     "end_time": "2022-12-21T02:33:16.842012",
     "exception": false,
     "start_time": "2022-12-21T02:33:16.830931",
     "status": "completed"
    },
    "tags": []
   },
   "source": []
  },
  {
   "cell_type": "code",
   "execution_count": 20,
   "id": "c7650bda",
   "metadata": {
    "execution": {
     "iopub.execute_input": "2022-12-21T02:33:16.865468Z",
     "iopub.status.busy": "2022-12-21T02:33:16.865137Z",
     "iopub.status.idle": "2022-12-21T02:33:16.877016Z",
     "shell.execute_reply": "2022-12-21T02:33:16.876181Z"
    },
    "papermill": {
     "duration": 0.02631,
     "end_time": "2022-12-21T02:33:16.879145",
     "exception": false,
     "start_time": "2022-12-21T02:33:16.852835",
     "status": "completed"
    },
    "tags": []
   },
   "outputs": [],
   "source": [
    "model = Model(input_layer,[ x , x1, x2], name='inception_v1')\n",
    "#model = Model(input_layer,x, name='inception_v1')"
   ]
  },
  {
   "cell_type": "markdown",
   "id": "ed7048e7",
   "metadata": {
    "papermill": {
     "duration": 0.011042,
     "end_time": "2022-12-21T02:33:16.901545",
     "exception": false,
     "start_time": "2022-12-21T02:33:16.890503",
     "status": "completed"
    },
    "tags": []
   },
   "source": [
    "# Model Summary"
   ]
  },
  {
   "cell_type": "code",
   "execution_count": 21,
   "id": "ff8aadae",
   "metadata": {
    "execution": {
     "iopub.execute_input": "2022-12-21T02:33:16.924478Z",
     "iopub.status.busy": "2022-12-21T02:33:16.924185Z",
     "iopub.status.idle": "2022-12-21T02:33:16.939219Z",
     "shell.execute_reply": "2022-12-21T02:33:16.938310Z"
    },
    "papermill": {
     "duration": 0.032279,
     "end_time": "2022-12-21T02:33:16.944863",
     "exception": false,
     "start_time": "2022-12-21T02:33:16.912584",
     "status": "completed"
    },
    "tags": []
   },
   "outputs": [
    {
     "name": "stdout",
     "output_type": "stream",
     "text": [
      "Model: \"inception_v1\"\n",
      "__________________________________________________________________________________________________\n",
      "Layer (type)                    Output Shape         Param #     Connected to                     \n",
      "==================================================================================================\n",
      "input_1 (InputLayer)            [(None, 224, 224, 3) 0                                            \n",
      "__________________________________________________________________________________________________\n",
      "conv_1_7x7/2 (Conv2D)           (None, 112, 112, 64) 9472        input_1[0][0]                    \n",
      "__________________________________________________________________________________________________\n",
      "max_pool_1_3x3/2 (MaxPooling2D) (None, 56, 56, 64)   0           conv_1_7x7/2[0][0]               \n",
      "__________________________________________________________________________________________________\n",
      "conv_2a_3x3/1 (Conv2D)          (None, 56, 56, 64)   4160        max_pool_1_3x3/2[0][0]           \n",
      "__________________________________________________________________________________________________\n",
      "conv_2b_3x3/1 (Conv2D)          (None, 56, 56, 192)  110784      conv_2a_3x3/1[0][0]              \n",
      "__________________________________________________________________________________________________\n",
      "max_pool_2_3x3/2 (MaxPooling2D) (None, 28, 28, 192)  0           conv_2b_3x3/1[0][0]              \n",
      "__________________________________________________________________________________________________\n",
      "conv2d_1 (Conv2D)               (None, 28, 28, 96)   18528       max_pool_2_3x3/2[0][0]           \n",
      "__________________________________________________________________________________________________\n",
      "conv2d_3 (Conv2D)               (None, 28, 28, 16)   3088        max_pool_2_3x3/2[0][0]           \n",
      "__________________________________________________________________________________________________\n",
      "max_pooling2d (MaxPooling2D)    (None, 28, 28, 192)  0           max_pool_2_3x3/2[0][0]           \n",
      "__________________________________________________________________________________________________\n",
      "conv2d (Conv2D)                 (None, 28, 28, 64)   12352       max_pool_2_3x3/2[0][0]           \n",
      "__________________________________________________________________________________________________\n",
      "conv2d_2 (Conv2D)               (None, 28, 28, 128)  110720      conv2d_1[0][0]                   \n",
      "__________________________________________________________________________________________________\n",
      "conv2d_4 (Conv2D)               (None, 28, 28, 32)   12832       conv2d_3[0][0]                   \n",
      "__________________________________________________________________________________________________\n",
      "conv2d_5 (Conv2D)               (None, 28, 28, 32)   6176        max_pooling2d[0][0]              \n",
      "__________________________________________________________________________________________________\n",
      "inception_3a (Concatenate)      (None, 28, 28, 256)  0           conv2d[0][0]                     \n",
      "                                                                 conv2d_2[0][0]                   \n",
      "                                                                 conv2d_4[0][0]                   \n",
      "                                                                 conv2d_5[0][0]                   \n",
      "__________________________________________________________________________________________________\n",
      "conv2d_7 (Conv2D)               (None, 28, 28, 128)  32896       inception_3a[0][0]               \n",
      "__________________________________________________________________________________________________\n",
      "conv2d_9 (Conv2D)               (None, 28, 28, 32)   8224        inception_3a[0][0]               \n",
      "__________________________________________________________________________________________________\n",
      "max_pooling2d_1 (MaxPooling2D)  (None, 28, 28, 256)  0           inception_3a[0][0]               \n",
      "__________________________________________________________________________________________________\n",
      "conv2d_6 (Conv2D)               (None, 28, 28, 128)  32896       inception_3a[0][0]               \n",
      "__________________________________________________________________________________________________\n",
      "conv2d_8 (Conv2D)               (None, 28, 28, 192)  221376      conv2d_7[0][0]                   \n",
      "__________________________________________________________________________________________________\n",
      "conv2d_10 (Conv2D)              (None, 28, 28, 96)   76896       conv2d_9[0][0]                   \n",
      "__________________________________________________________________________________________________\n",
      "conv2d_11 (Conv2D)              (None, 28, 28, 64)   16448       max_pooling2d_1[0][0]            \n",
      "__________________________________________________________________________________________________\n",
      "inception_3b (Concatenate)      (None, 28, 28, 480)  0           conv2d_6[0][0]                   \n",
      "                                                                 conv2d_8[0][0]                   \n",
      "                                                                 conv2d_10[0][0]                  \n",
      "                                                                 conv2d_11[0][0]                  \n",
      "__________________________________________________________________________________________________\n",
      "max_pool_3_3x3/2 (MaxPooling2D) (None, 14, 14, 480)  0           inception_3b[0][0]               \n",
      "__________________________________________________________________________________________________\n",
      "conv2d_13 (Conv2D)              (None, 14, 14, 96)   46176       max_pool_3_3x3/2[0][0]           \n",
      "__________________________________________________________________________________________________\n",
      "conv2d_15 (Conv2D)              (None, 14, 14, 16)   7696        max_pool_3_3x3/2[0][0]           \n",
      "__________________________________________________________________________________________________\n",
      "max_pooling2d_2 (MaxPooling2D)  (None, 14, 14, 480)  0           max_pool_3_3x3/2[0][0]           \n",
      "__________________________________________________________________________________________________\n",
      "conv2d_12 (Conv2D)              (None, 14, 14, 192)  92352       max_pool_3_3x3/2[0][0]           \n",
      "__________________________________________________________________________________________________\n",
      "conv2d_14 (Conv2D)              (None, 14, 14, 208)  179920      conv2d_13[0][0]                  \n",
      "__________________________________________________________________________________________________\n",
      "conv2d_16 (Conv2D)              (None, 14, 14, 48)   19248       conv2d_15[0][0]                  \n",
      "__________________________________________________________________________________________________\n",
      "conv2d_17 (Conv2D)              (None, 14, 14, 64)   30784       max_pooling2d_2[0][0]            \n",
      "__________________________________________________________________________________________________\n",
      "inception_4a (Concatenate)      (None, 14, 14, 512)  0           conv2d_12[0][0]                  \n",
      "                                                                 conv2d_14[0][0]                  \n",
      "                                                                 conv2d_16[0][0]                  \n",
      "                                                                 conv2d_17[0][0]                  \n",
      "__________________________________________________________________________________________________\n",
      "conv2d_20 (Conv2D)              (None, 14, 14, 112)  57456       inception_4a[0][0]               \n",
      "__________________________________________________________________________________________________\n",
      "conv2d_22 (Conv2D)              (None, 14, 14, 24)   12312       inception_4a[0][0]               \n",
      "__________________________________________________________________________________________________\n",
      "max_pooling2d_3 (MaxPooling2D)  (None, 14, 14, 512)  0           inception_4a[0][0]               \n",
      "__________________________________________________________________________________________________\n",
      "conv2d_19 (Conv2D)              (None, 14, 14, 160)  82080       inception_4a[0][0]               \n",
      "__________________________________________________________________________________________________\n",
      "conv2d_21 (Conv2D)              (None, 14, 14, 224)  226016      conv2d_20[0][0]                  \n",
      "__________________________________________________________________________________________________\n",
      "conv2d_23 (Conv2D)              (None, 14, 14, 64)   38464       conv2d_22[0][0]                  \n",
      "__________________________________________________________________________________________________\n",
      "conv2d_24 (Conv2D)              (None, 14, 14, 64)   32832       max_pooling2d_3[0][0]            \n",
      "__________________________________________________________________________________________________\n",
      "inception_4b (Concatenate)      (None, 14, 14, 512)  0           conv2d_19[0][0]                  \n",
      "                                                                 conv2d_21[0][0]                  \n",
      "                                                                 conv2d_23[0][0]                  \n",
      "                                                                 conv2d_24[0][0]                  \n",
      "__________________________________________________________________________________________________\n",
      "conv2d_26 (Conv2D)              (None, 14, 14, 128)  65664       inception_4b[0][0]               \n",
      "__________________________________________________________________________________________________\n",
      "conv2d_28 (Conv2D)              (None, 14, 14, 24)   12312       inception_4b[0][0]               \n",
      "__________________________________________________________________________________________________\n",
      "max_pooling2d_4 (MaxPooling2D)  (None, 14, 14, 512)  0           inception_4b[0][0]               \n",
      "__________________________________________________________________________________________________\n",
      "conv2d_25 (Conv2D)              (None, 14, 14, 128)  65664       inception_4b[0][0]               \n",
      "__________________________________________________________________________________________________\n",
      "conv2d_27 (Conv2D)              (None, 14, 14, 256)  295168      conv2d_26[0][0]                  \n",
      "__________________________________________________________________________________________________\n",
      "conv2d_29 (Conv2D)              (None, 14, 14, 64)   38464       conv2d_28[0][0]                  \n",
      "__________________________________________________________________________________________________\n",
      "conv2d_30 (Conv2D)              (None, 14, 14, 64)   32832       max_pooling2d_4[0][0]            \n",
      "__________________________________________________________________________________________________\n",
      "inception_4c (Concatenate)      (None, 14, 14, 512)  0           conv2d_25[0][0]                  \n",
      "                                                                 conv2d_27[0][0]                  \n",
      "                                                                 conv2d_29[0][0]                  \n",
      "                                                                 conv2d_30[0][0]                  \n",
      "__________________________________________________________________________________________________\n",
      "conv2d_32 (Conv2D)              (None, 14, 14, 144)  73872       inception_4c[0][0]               \n",
      "__________________________________________________________________________________________________\n",
      "conv2d_34 (Conv2D)              (None, 14, 14, 32)   16416       inception_4c[0][0]               \n",
      "__________________________________________________________________________________________________\n",
      "max_pooling2d_5 (MaxPooling2D)  (None, 14, 14, 512)  0           inception_4c[0][0]               \n",
      "__________________________________________________________________________________________________\n",
      "conv2d_31 (Conv2D)              (None, 14, 14, 112)  57456       inception_4c[0][0]               \n",
      "__________________________________________________________________________________________________\n",
      "conv2d_33 (Conv2D)              (None, 14, 14, 288)  373536      conv2d_32[0][0]                  \n",
      "__________________________________________________________________________________________________\n",
      "conv2d_35 (Conv2D)              (None, 14, 14, 64)   51264       conv2d_34[0][0]                  \n",
      "__________________________________________________________________________________________________\n",
      "conv2d_36 (Conv2D)              (None, 14, 14, 64)   32832       max_pooling2d_5[0][0]            \n",
      "__________________________________________________________________________________________________\n",
      "inception_4d (Concatenate)      (None, 14, 14, 528)  0           conv2d_31[0][0]                  \n",
      "                                                                 conv2d_33[0][0]                  \n",
      "                                                                 conv2d_35[0][0]                  \n",
      "                                                                 conv2d_36[0][0]                  \n",
      "__________________________________________________________________________________________________\n",
      "conv2d_39 (Conv2D)              (None, 14, 14, 160)  84640       inception_4d[0][0]               \n",
      "__________________________________________________________________________________________________\n",
      "conv2d_41 (Conv2D)              (None, 14, 14, 32)   16928       inception_4d[0][0]               \n",
      "__________________________________________________________________________________________________\n",
      "max_pooling2d_6 (MaxPooling2D)  (None, 14, 14, 528)  0           inception_4d[0][0]               \n",
      "__________________________________________________________________________________________________\n",
      "conv2d_38 (Conv2D)              (None, 14, 14, 256)  135424      inception_4d[0][0]               \n",
      "__________________________________________________________________________________________________\n",
      "conv2d_40 (Conv2D)              (None, 14, 14, 320)  461120      conv2d_39[0][0]                  \n",
      "__________________________________________________________________________________________________\n",
      "conv2d_42 (Conv2D)              (None, 14, 14, 128)  102528      conv2d_41[0][0]                  \n",
      "__________________________________________________________________________________________________\n",
      "conv2d_43 (Conv2D)              (None, 14, 14, 128)  67712       max_pooling2d_6[0][0]            \n",
      "__________________________________________________________________________________________________\n",
      "inception_4e (Concatenate)      (None, 14, 14, 832)  0           conv2d_38[0][0]                  \n",
      "                                                                 conv2d_40[0][0]                  \n",
      "                                                                 conv2d_42[0][0]                  \n",
      "                                                                 conv2d_43[0][0]                  \n",
      "__________________________________________________________________________________________________\n",
      "max_pool_4_3x3/2 (MaxPooling2D) (None, 7, 7, 832)    0           inception_4e[0][0]               \n",
      "__________________________________________________________________________________________________\n",
      "conv2d_45 (Conv2D)              (None, 7, 7, 160)    133280      max_pool_4_3x3/2[0][0]           \n",
      "__________________________________________________________________________________________________\n",
      "conv2d_47 (Conv2D)              (None, 7, 7, 32)     26656       max_pool_4_3x3/2[0][0]           \n",
      "__________________________________________________________________________________________________\n",
      "max_pooling2d_7 (MaxPooling2D)  (None, 7, 7, 832)    0           max_pool_4_3x3/2[0][0]           \n",
      "__________________________________________________________________________________________________\n",
      "conv2d_44 (Conv2D)              (None, 7, 7, 256)    213248      max_pool_4_3x3/2[0][0]           \n",
      "__________________________________________________________________________________________________\n",
      "conv2d_46 (Conv2D)              (None, 7, 7, 320)    461120      conv2d_45[0][0]                  \n",
      "__________________________________________________________________________________________________\n",
      "conv2d_48 (Conv2D)              (None, 7, 7, 128)    102528      conv2d_47[0][0]                  \n",
      "__________________________________________________________________________________________________\n",
      "conv2d_49 (Conv2D)              (None, 7, 7, 128)    106624      max_pooling2d_7[0][0]            \n",
      "__________________________________________________________________________________________________\n",
      "inception_5a (Concatenate)      (None, 7, 7, 832)    0           conv2d_44[0][0]                  \n",
      "                                                                 conv2d_46[0][0]                  \n",
      "                                                                 conv2d_48[0][0]                  \n",
      "                                                                 conv2d_49[0][0]                  \n",
      "__________________________________________________________________________________________________\n",
      "conv2d_51 (Conv2D)              (None, 7, 7, 192)    159936      inception_5a[0][0]               \n",
      "__________________________________________________________________________________________________\n",
      "conv2d_53 (Conv2D)              (None, 7, 7, 48)     39984       inception_5a[0][0]               \n",
      "__________________________________________________________________________________________________\n",
      "max_pooling2d_8 (MaxPooling2D)  (None, 7, 7, 832)    0           inception_5a[0][0]               \n",
      "__________________________________________________________________________________________________\n",
      "average_pooling2d (AveragePooli (None, 4, 4, 512)    0           inception_4a[0][0]               \n",
      "__________________________________________________________________________________________________\n",
      "average_pooling2d_1 (AveragePoo (None, 4, 4, 528)    0           inception_4d[0][0]               \n",
      "__________________________________________________________________________________________________\n",
      "conv2d_50 (Conv2D)              (None, 7, 7, 384)    319872      inception_5a[0][0]               \n",
      "__________________________________________________________________________________________________\n",
      "conv2d_52 (Conv2D)              (None, 7, 7, 384)    663936      conv2d_51[0][0]                  \n",
      "__________________________________________________________________________________________________\n",
      "conv2d_54 (Conv2D)              (None, 7, 7, 128)    153728      conv2d_53[0][0]                  \n",
      "__________________________________________________________________________________________________\n",
      "conv2d_55 (Conv2D)              (None, 7, 7, 128)    106624      max_pooling2d_8[0][0]            \n",
      "__________________________________________________________________________________________________\n",
      "conv2d_18 (Conv2D)              (None, 4, 4, 128)    65664       average_pooling2d[0][0]          \n",
      "__________________________________________________________________________________________________\n",
      "conv2d_37 (Conv2D)              (None, 4, 4, 128)    67712       average_pooling2d_1[0][0]        \n",
      "__________________________________________________________________________________________________\n",
      "inception_5b (Concatenate)      (None, 7, 7, 1024)   0           conv2d_50[0][0]                  \n",
      "                                                                 conv2d_52[0][0]                  \n",
      "                                                                 conv2d_54[0][0]                  \n",
      "                                                                 conv2d_55[0][0]                  \n",
      "__________________________________________________________________________________________________\n",
      "flatten (Flatten)               (None, 2048)         0           conv2d_18[0][0]                  \n",
      "__________________________________________________________________________________________________\n",
      "flatten_1 (Flatten)             (None, 2048)         0           conv2d_37[0][0]                  \n",
      "__________________________________________________________________________________________________\n",
      "avg_pool_5_3x3/1 (GlobalAverage (None, 1024)         0           inception_5b[0][0]               \n",
      "__________________________________________________________________________________________________\n",
      "dense (Dense)                   (None, 1024)         2098176     flatten[0][0]                    \n",
      "__________________________________________________________________________________________________\n",
      "dense_1 (Dense)                 (None, 1024)         2098176     flatten_1[0][0]                  \n",
      "__________________________________________________________________________________________________\n",
      "dropout_2 (Dropout)             (None, 1024)         0           avg_pool_5_3x3/1[0][0]           \n",
      "__________________________________________________________________________________________________\n",
      "dropout (Dropout)               (None, 1024)         0           dense[0][0]                      \n",
      "__________________________________________________________________________________________________\n",
      "dropout_1 (Dropout)             (None, 1024)         0           dense_1[0][0]                    \n",
      "__________________________________________________________________________________________________\n",
      "output (Dense)                  (None, 6)            6150        dropout_2[0][0]                  \n",
      "__________________________________________________________________________________________________\n",
      "auxilliary_output_1 (Dense)     (None, 6)            6150        dropout[0][0]                    \n",
      "__________________________________________________________________________________________________\n",
      "auxilliary_output_2 (Dense)     (None, 6)            6150        dropout_1[0][0]                  \n",
      "==================================================================================================\n",
      "Total params: 10,321,730\n",
      "Trainable params: 10,321,730\n",
      "Non-trainable params: 0\n",
      "__________________________________________________________________________________________________\n"
     ]
    }
   ],
   "source": [
    "model.summary()"
   ]
  },
  {
   "cell_type": "code",
   "execution_count": 22,
   "id": "09862e36",
   "metadata": {
    "execution": {
     "iopub.execute_input": "2022-12-21T02:33:16.968581Z",
     "iopub.status.busy": "2022-12-21T02:33:16.968305Z",
     "iopub.status.idle": "2022-12-21T02:33:16.982918Z",
     "shell.execute_reply": "2022-12-21T02:33:16.982089Z"
    },
    "papermill": {
     "duration": 0.028841,
     "end_time": "2022-12-21T02:33:16.985012",
     "exception": false,
     "start_time": "2022-12-21T02:33:16.956171",
     "status": "completed"
    },
    "tags": []
   },
   "outputs": [],
   "source": [
    "epochs = 80\n",
    "initial_lrate = 0.0001\n",
    "batch_size = 64\n",
    "adam = Adam(learning_rate=initial_lrate)\n",
    "earlyStopping = keras.callbacks.EarlyStopping(monitor='val_accuracy', patience=10, verbose=1, mode='max')\n",
    "############### 3 inputs \n",
    "model.compile(loss=['binary_crossentropy','binary_crossentropy','binary_crossentropy'], loss_weights=[1,0.3,0.3], optimizer=adam, metrics=['accuracy'])\n",
    "\n",
    "###### 1 input \n",
    "#model.compile(loss='binary_crossentropy', optimizer=adam, metrics=['accuracy'])"
   ]
  },
  {
   "cell_type": "markdown",
   "id": "ea7b2e63",
   "metadata": {
    "papermill": {
     "duration": 0.01092,
     "end_time": "2022-12-21T02:33:17.006903",
     "exception": false,
     "start_time": "2022-12-21T02:33:16.995983",
     "status": "completed"
    },
    "tags": []
   },
   "source": [
    "# Data Augmentation"
   ]
  },
  {
   "cell_type": "code",
   "execution_count": 23,
   "id": "bb96d542",
   "metadata": {
    "execution": {
     "iopub.execute_input": "2022-12-21T02:33:17.030238Z",
     "iopub.status.busy": "2022-12-21T02:33:17.029976Z",
     "iopub.status.idle": "2022-12-21T02:33:17.035920Z",
     "shell.execute_reply": "2022-12-21T02:33:17.035069Z"
    },
    "papermill": {
     "duration": 0.019761,
     "end_time": "2022-12-21T02:33:17.037809",
     "exception": false,
     "start_time": "2022-12-21T02:33:17.018048",
     "status": "completed"
    },
    "tags": []
   },
   "outputs": [],
   "source": [
    "from tensorflow.keras.preprocessing.image import ImageDataGenerator\n",
    "\n",
    "datagen = ImageDataGenerator(\n",
    "    rotation_range=10,  # randomly rotate images in the range (degrees, 0 to 180)\n",
    "    zoom_range=0.1,  # Randomly zoom image\n",
    "    width_shift_range=0.1,  # randomly shift images horizontally (fraction of total width)\n",
    "    height_shift_range=0.1,  # randomly shift images vertically (fraction of total height)\n",
    "    horizontal_flip=True,  # randomly flip images horizontally\n",
    "    vertical_flip=False, # Don't randomly flip images vertically\n",
    ") "
   ]
  },
  {
   "cell_type": "code",
   "execution_count": 24,
   "id": "7f8f4384",
   "metadata": {
    "execution": {
     "iopub.execute_input": "2022-12-21T02:33:17.061378Z",
     "iopub.status.busy": "2022-12-21T02:33:17.061125Z",
     "iopub.status.idle": "2022-12-21T02:33:17.310494Z",
     "shell.execute_reply": "2022-12-21T02:33:17.309367Z"
    },
    "papermill": {
     "duration": 0.263746,
     "end_time": "2022-12-21T02:33:17.313002",
     "exception": false,
     "start_time": "2022-12-21T02:33:17.049256",
     "status": "completed"
    },
    "tags": []
   },
   "outputs": [],
   "source": [
    "batch_size = 32\n",
    "img_iter = datagen.flow(x_train, y_train, batch_size=batch_size)"
   ]
  },
  {
   "cell_type": "code",
   "execution_count": 25,
   "id": "8d600a70",
   "metadata": {
    "execution": {
     "iopub.execute_input": "2022-12-21T02:33:17.338682Z",
     "iopub.status.busy": "2022-12-21T02:33:17.337165Z",
     "iopub.status.idle": "2022-12-21T02:33:20.049522Z",
     "shell.execute_reply": "2022-12-21T02:33:20.048613Z"
    },
    "papermill": {
     "duration": 2.72679,
     "end_time": "2022-12-21T02:33:20.051585",
     "exception": false,
     "start_time": "2022-12-21T02:33:17.324795",
     "status": "completed"
    },
    "tags": []
   },
   "outputs": [
    {
     "data": {
      "image/png": "[encoded data removed]",
      "text/plain": [
       "<Figure size 432x288 with 32 Axes>"
      ]
     },
     "metadata": {
      "needs_background": "light"
     },
     "output_type": "display_data"
    }
   ],
   "source": [
    "x, y = img_iter.next()\n",
    "fig, ax = plt.subplots(nrows=4, ncols=8)\n",
    "for i in range(batch_size):\n",
    "    image = x[i]\n",
    "    ax.flatten()[i].imshow(np.squeeze(image))\n",
    "plt.show()"
   ]
  },
  {
   "cell_type": "code",
   "execution_count": 26,
   "id": "d6e378f4",
   "metadata": {
    "execution": {
     "iopub.execute_input": "2022-12-21T02:33:20.077547Z",
     "iopub.status.busy": "2022-12-21T02:33:20.076685Z",
     "iopub.status.idle": "2022-12-21T02:33:20.682779Z",
     "shell.execute_reply": "2022-12-21T02:33:20.681678Z"
    },
    "papermill": {
     "duration": 0.621719,
     "end_time": "2022-12-21T02:33:20.685572",
     "exception": false,
     "start_time": "2022-12-21T02:33:20.063853",
     "status": "completed"
    },
    "tags": []
   },
   "outputs": [],
   "source": [
    "datagen.fit(x_train)"
   ]
  },
  {
   "cell_type": "code",
   "execution_count": 27,
   "id": "965466f7",
   "metadata": {
    "execution": {
     "iopub.execute_input": "2022-12-21T02:33:20.711303Z",
     "iopub.status.busy": "2022-12-21T02:33:20.710991Z",
     "iopub.status.idle": "2022-12-21T02:33:20.716993Z",
     "shell.execute_reply": "2022-12-21T02:33:20.716016Z"
    },
    "papermill": {
     "duration": 0.020527,
     "end_time": "2022-12-21T02:33:20.718918",
     "exception": false,
     "start_time": "2022-12-21T02:33:20.698391",
     "status": "completed"
    },
    "tags": []
   },
   "outputs": [
    {
     "data": {
      "text/plain": [
       "<keras.preprocessing.image.NumpyArrayIterator at 0x7fef0cf6a6d0>"
      ]
     },
     "execution_count": 27,
     "metadata": {},
     "output_type": "execute_result"
    }
   ],
   "source": [
    "img_iter"
   ]
  },
  {
   "cell_type": "code",
   "execution_count": 28,
   "id": "9139adbc",
   "metadata": {
    "execution": {
     "iopub.execute_input": "2022-12-21T02:33:20.743984Z",
     "iopub.status.busy": "2022-12-21T02:33:20.743461Z",
     "iopub.status.idle": "2022-12-21T02:33:20.749081Z",
     "shell.execute_reply": "2022-12-21T02:33:20.748140Z"
    },
    "papermill": {
     "duration": 0.019995,
     "end_time": "2022-12-21T02:33:20.751014",
     "exception": false,
     "start_time": "2022-12-21T02:33:20.731019",
     "status": "completed"
    },
    "tags": []
   },
   "outputs": [
    {
     "data": {
      "text/plain": [
       "(1681, 224, 224, 3)"
      ]
     },
     "execution_count": 28,
     "metadata": {},
     "output_type": "execute_result"
    }
   ],
   "source": [
    "x_train.shape"
   ]
  },
  {
   "cell_type": "code",
   "execution_count": 29,
   "id": "84a28794",
   "metadata": {
    "execution": {
     "iopub.execute_input": "2022-12-21T02:33:20.775651Z",
     "iopub.status.busy": "2022-12-21T02:33:20.775336Z",
     "iopub.status.idle": "2022-12-21T02:33:30.651770Z",
     "shell.execute_reply": "2022-12-21T02:33:30.650763Z"
    },
    "papermill": {
     "duration": 9.891653,
     "end_time": "2022-12-21T02:33:30.654215",
     "exception": false,
     "start_time": "2022-12-21T02:33:20.762562",
     "status": "completed"
    },
    "tags": []
   },
   "outputs": [],
   "source": [
    "for i in range(0,10):\n",
    "    x_train = np.concatenate((x_train, img_iter[i][0]))\n",
    "    y_train = np.concatenate((y_train,img_iter[i][1]))"
   ]
  },
  {
   "cell_type": "code",
   "execution_count": 30,
   "id": "7063dc2e",
   "metadata": {
    "execution": {
     "iopub.execute_input": "2022-12-21T02:33:30.679996Z",
     "iopub.status.busy": "2022-12-21T02:33:30.679699Z",
     "iopub.status.idle": "2022-12-21T02:33:30.685875Z",
     "shell.execute_reply": "2022-12-21T02:33:30.684814Z"
    },
    "papermill": {
     "duration": 0.022123,
     "end_time": "2022-12-21T02:33:30.688959",
     "exception": false,
     "start_time": "2022-12-21T02:33:30.666836",
     "status": "completed"
    },
    "tags": []
   },
   "outputs": [
    {
     "data": {
      "text/plain": [
       "(2001, 224, 224, 3)"
      ]
     },
     "execution_count": 30,
     "metadata": {},
     "output_type": "execute_result"
    }
   ],
   "source": [
    "x_train.shape"
   ]
  },
  {
   "cell_type": "code",
   "execution_count": 31,
   "id": "0c3b7895",
   "metadata": {
    "execution": {
     "iopub.execute_input": "2022-12-21T02:33:30.713455Z",
     "iopub.status.busy": "2022-12-21T02:33:30.713169Z",
     "iopub.status.idle": "2022-12-21T02:33:31.046593Z",
     "shell.execute_reply": "2022-12-21T02:33:31.045596Z"
    },
    "papermill": {
     "duration": 0.34839,
     "end_time": "2022-12-21T02:33:31.049070",
     "exception": false,
     "start_time": "2022-12-21T02:33:30.700680",
     "status": "completed"
    },
    "tags": []
   },
   "outputs": [],
   "source": [
    "train_x, x_valid , train_y,y_valid = train_test_split(x_train,y_train,test_size=0.2)"
   ]
  },
  {
   "cell_type": "markdown",
   "id": "1d1226f8",
   "metadata": {
    "papermill": {
     "duration": 0.011444,
     "end_time": "2022-12-21T02:33:31.072496",
     "exception": false,
     "start_time": "2022-12-21T02:33:31.061052",
     "status": "completed"
    },
    "tags": []
   },
   "source": [
    "# Training "
   ]
  },
  {
   "cell_type": "code",
   "execution_count": 32,
   "id": "d4b81be2",
   "metadata": {
    "execution": {
     "iopub.execute_input": "2022-12-21T02:33:31.097471Z",
     "iopub.status.busy": "2022-12-21T02:33:31.097145Z",
     "iopub.status.idle": "2022-12-21T02:40:58.037003Z",
     "shell.execute_reply": "2022-12-21T02:40:58.035908Z"
    },
    "papermill": {
     "duration": 446.955247,
     "end_time": "2022-12-21T02:40:58.039613",
     "exception": false,
     "start_time": "2022-12-21T02:33:31.084366",
     "status": "completed"
    },
    "tags": []
   },
   "outputs": [
    {
     "name": "stderr",
     "output_type": "stream",
     "text": [
      "2022-12-21 02:33:31.102602: W tensorflow/core/framework/cpu_allocator_impl.cc:80] Allocation of 770703360 exceeds 10% of free system memory.\n",
      "2022-12-21 02:33:31.966037: W tensorflow/core/framework/cpu_allocator_impl.cc:80] Allocation of 770703360 exceeds 10% of free system memory.\n",
      "2022-12-21 02:33:32.615150: I tensorflow/compiler/mlir/mlir_graph_optimization_pass.cc:185] None of the MLIR Optimization Passes are enabled (registered 2)\n"
     ]
    },
    {
     "name": "stdout",
     "output_type": "stream",
     "text": [
      "Epoch 1/80\n"
     ]
    },
    {
     "name": "stderr",
     "output_type": "stream",
     "text": [
      "2022-12-21 02:33:37.590397: I tensorflow/stream_executor/cuda/cuda_dnn.cc:369] Loaded cuDNN version 8005\n"
     ]
    },
    {
     "name": "stdout",
     "output_type": "stream",
     "text": [
      "62/62 [==============================] - 24s 136ms/step - loss: 0.7101 - output_loss: 0.3885 - auxilliary_output_1_loss: 0.6132 - auxilliary_output_2_loss: 0.4587 - output_accuracy: 0.4425 - auxilliary_output_1_accuracy: 0.3993 - auxilliary_output_2_accuracy: 0.4067 - val_loss: 0.4727 - val_output_loss: 0.3058 - val_auxilliary_output_1_loss: 0.2675 - val_auxilliary_output_2_loss: 0.2890 - val_output_accuracy: 0.5406 - val_auxilliary_output_1_accuracy: 0.6062 - val_auxilliary_output_2_accuracy: 0.5719\n",
      "Epoch 2/80\n",
      "62/62 [==============================] - 7s 115ms/step - loss: 0.4741 - output_loss: 0.2958 - auxilliary_output_1_loss: 0.2969 - auxilliary_output_2_loss: 0.2977 - output_accuracy: 0.6022 - auxilliary_output_1_accuracy: 0.6235 - auxilliary_output_2_accuracy: 0.6151 - val_loss: 0.3487 - val_output_loss: 0.2233 - val_auxilliary_output_1_loss: 0.2098 - val_auxilliary_output_2_loss: 0.2083 - val_output_accuracy: 0.7344 - val_auxilliary_output_1_accuracy: 0.7500 - val_auxilliary_output_2_accuracy: 0.7344\n",
      "Epoch 3/80\n",
      "62/62 [==============================] - 7s 120ms/step - loss: 0.3906 - output_loss: 0.2445 - auxilliary_output_1_loss: 0.2437 - auxilliary_output_2_loss: 0.2434 - output_accuracy: 0.6796 - auxilliary_output_1_accuracy: 0.7014 - auxilliary_output_2_accuracy: 0.7019 - val_loss: 0.3156 - val_output_loss: 0.2037 - val_auxilliary_output_1_loss: 0.1837 - val_auxilliary_output_2_loss: 0.1894 - val_output_accuracy: 0.7437 - val_auxilliary_output_1_accuracy: 0.7875 - val_auxilliary_output_2_accuracy: 0.7688\n",
      "Epoch 4/80\n",
      "62/62 [==============================] - 7s 117ms/step - loss: 0.3281 - output_loss: 0.2037 - auxilliary_output_1_loss: 0.2068 - auxilliary_output_2_loss: 0.2079 - output_accuracy: 0.7540 - auxilliary_output_1_accuracy: 0.7629 - auxilliary_output_2_accuracy: 0.7515 - val_loss: 0.2937 - val_output_loss: 0.1896 - val_auxilliary_output_1_loss: 0.1675 - val_auxilliary_output_2_loss: 0.1795 - val_output_accuracy: 0.7750 - val_auxilliary_output_1_accuracy: 0.7969 - val_auxilliary_output_2_accuracy: 0.7781\n",
      "Epoch 5/80\n",
      "62/62 [==============================] - 7s 117ms/step - loss: 0.2957 - output_loss: 0.1857 - auxilliary_output_1_loss: 0.1858 - auxilliary_output_2_loss: 0.1808 - output_accuracy: 0.7758 - auxilliary_output_1_accuracy: 0.7951 - auxilliary_output_2_accuracy: 0.7951 - val_loss: 0.2834 - val_output_loss: 0.1826 - val_auxilliary_output_1_loss: 0.1637 - val_auxilliary_output_2_loss: 0.1723 - val_output_accuracy: 0.7688 - val_auxilliary_output_1_accuracy: 0.8000 - val_auxilliary_output_2_accuracy: 0.7812\n",
      "Epoch 6/80\n",
      "62/62 [==============================] - 8s 122ms/step - loss: 0.2725 - output_loss: 0.1695 - auxilliary_output_1_loss: 0.1761 - auxilliary_output_2_loss: 0.1671 - output_accuracy: 0.7956 - auxilliary_output_1_accuracy: 0.8075 - auxilliary_output_2_accuracy: 0.8031 - val_loss: 0.2359 - val_output_loss: 0.1517 - val_auxilliary_output_1_loss: 0.1381 - val_auxilliary_output_2_loss: 0.1426 - val_output_accuracy: 0.8125 - val_auxilliary_output_1_accuracy: 0.8344 - val_auxilliary_output_2_accuracy: 0.8031\n",
      "Epoch 7/80\n",
      "62/62 [==============================] - 7s 118ms/step - loss: 0.2283 - output_loss: 0.1431 - auxilliary_output_1_loss: 0.1459 - auxilliary_output_2_loss: 0.1380 - output_accuracy: 0.8333 - auxilliary_output_1_accuracy: 0.8393 - auxilliary_output_2_accuracy: 0.8472 - val_loss: 0.2341 - val_output_loss: 0.1523 - val_auxilliary_output_1_loss: 0.1348 - val_auxilliary_output_2_loss: 0.1379 - val_output_accuracy: 0.8188 - val_auxilliary_output_1_accuracy: 0.8406 - val_auxilliary_output_2_accuracy: 0.8406\n",
      "Epoch 8/80\n",
      "62/62 [==============================] - 7s 119ms/step - loss: 0.2482 - output_loss: 0.1575 - auxilliary_output_1_loss: 0.1511 - auxilliary_output_2_loss: 0.1512 - output_accuracy: 0.8070 - auxilliary_output_1_accuracy: 0.8249 - auxilliary_output_2_accuracy: 0.8244 - val_loss: 0.2494 - val_output_loss: 0.1628 - val_auxilliary_output_1_loss: 0.1353 - val_auxilliary_output_2_loss: 0.1535 - val_output_accuracy: 0.8125 - val_auxilliary_output_1_accuracy: 0.8156 - val_auxilliary_output_2_accuracy: 0.8000\n",
      "Epoch 9/80\n",
      "62/62 [==============================] - 7s 119ms/step - loss: 0.1981 - output_loss: 0.1254 - auxilliary_output_1_loss: 0.1273 - auxilliary_output_2_loss: 0.1149 - output_accuracy: 0.8532 - auxilliary_output_1_accuracy: 0.8656 - auxilliary_output_2_accuracy: 0.8735 - val_loss: 0.1856 - val_output_loss: 0.1185 - val_auxilliary_output_1_loss: 0.1162 - val_auxilliary_output_2_loss: 0.1073 - val_output_accuracy: 0.8500 - val_auxilliary_output_1_accuracy: 0.8656 - val_auxilliary_output_2_accuracy: 0.8562\n",
      "Epoch 10/80\n",
      "62/62 [==============================] - 8s 120ms/step - loss: 0.1717 - output_loss: 0.1088 - auxilliary_output_1_loss: 0.1081 - auxilliary_output_2_loss: 0.1017 - output_accuracy: 0.8725 - auxilliary_output_1_accuracy: 0.8829 - auxilliary_output_2_accuracy: 0.8849 - val_loss: 0.2164 - val_output_loss: 0.1430 - val_auxilliary_output_1_loss: 0.1202 - val_auxilliary_output_2_loss: 0.1245 - val_output_accuracy: 0.8281 - val_auxilliary_output_1_accuracy: 0.8656 - val_auxilliary_output_2_accuracy: 0.8531\n",
      "Epoch 11/80\n",
      "62/62 [==============================] - 8s 125ms/step - loss: 0.1557 - output_loss: 0.0981 - auxilliary_output_1_loss: 0.1013 - auxilliary_output_2_loss: 0.0907 - output_accuracy: 0.8790 - auxilliary_output_1_accuracy: 0.8938 - auxilliary_output_2_accuracy: 0.8934 - val_loss: 0.1772 - val_output_loss: 0.1140 - val_auxilliary_output_1_loss: 0.1088 - val_auxilliary_output_2_loss: 0.1019 - val_output_accuracy: 0.8719 - val_auxilliary_output_1_accuracy: 0.8625 - val_auxilliary_output_2_accuracy: 0.8844\n",
      "Epoch 12/80\n",
      "62/62 [==============================] - 8s 124ms/step - loss: 0.1461 - output_loss: 0.0926 - auxilliary_output_1_loss: 0.0907 - auxilliary_output_2_loss: 0.0876 - output_accuracy: 0.8938 - auxilliary_output_1_accuracy: 0.9082 - auxilliary_output_2_accuracy: 0.9107 - val_loss: 0.2077 - val_output_loss: 0.1378 - val_auxilliary_output_1_loss: 0.1101 - val_auxilliary_output_2_loss: 0.1227 - val_output_accuracy: 0.8500 - val_auxilliary_output_1_accuracy: 0.8719 - val_auxilliary_output_2_accuracy: 0.8438\n",
      "Epoch 13/80\n",
      "62/62 [==============================] - 8s 123ms/step - loss: 0.1242 - output_loss: 0.0785 - auxilliary_output_1_loss: 0.0779 - auxilliary_output_2_loss: 0.0745 - output_accuracy: 0.9142 - auxilliary_output_1_accuracy: 0.9256 - auxilliary_output_2_accuracy: 0.9221 - val_loss: 0.1922 - val_output_loss: 0.1252 - val_auxilliary_output_1_loss: 0.1133 - val_auxilliary_output_2_loss: 0.1098 - val_output_accuracy: 0.8594 - val_auxilliary_output_1_accuracy: 0.8500 - val_auxilliary_output_2_accuracy: 0.8625\n",
      "Epoch 14/80\n",
      "62/62 [==============================] - 8s 127ms/step - loss: 0.1142 - output_loss: 0.0727 - auxilliary_output_1_loss: 0.0702 - auxilliary_output_2_loss: 0.0680 - output_accuracy: 0.9182 - auxilliary_output_1_accuracy: 0.9340 - auxilliary_output_2_accuracy: 0.9315 - val_loss: 0.2276 - val_output_loss: 0.1509 - val_auxilliary_output_1_loss: 0.1264 - val_auxilliary_output_2_loss: 0.1291 - val_output_accuracy: 0.8250 - val_auxilliary_output_1_accuracy: 0.8625 - val_auxilliary_output_2_accuracy: 0.8469\n",
      "Epoch 15/80\n",
      "62/62 [==============================] - 8s 128ms/step - loss: 0.1111 - output_loss: 0.0714 - auxilliary_output_1_loss: 0.0691 - auxilliary_output_2_loss: 0.0634 - output_accuracy: 0.9231 - auxilliary_output_1_accuracy: 0.9286 - auxilliary_output_2_accuracy: 0.9355 - val_loss: 0.1702 - val_output_loss: 0.1093 - val_auxilliary_output_1_loss: 0.1045 - val_auxilliary_output_2_loss: 0.0984 - val_output_accuracy: 0.8719 - val_auxilliary_output_1_accuracy: 0.8906 - val_auxilliary_output_2_accuracy: 0.8875\n",
      "Epoch 16/80\n",
      "62/62 [==============================] - 8s 130ms/step - loss: 0.0691 - output_loss: 0.0411 - auxilliary_output_1_loss: 0.0548 - auxilliary_output_2_loss: 0.0382 - output_accuracy: 0.9583 - auxilliary_output_1_accuracy: 0.9544 - auxilliary_output_2_accuracy: 0.9688 - val_loss: 0.1970 - val_output_loss: 0.1266 - val_auxilliary_output_1_loss: 0.1132 - val_auxilliary_output_2_loss: 0.1213 - val_output_accuracy: 0.8781 - val_auxilliary_output_1_accuracy: 0.8719 - val_auxilliary_output_2_accuracy: 0.8719\n",
      "Epoch 17/80\n",
      "62/62 [==============================] - 8s 124ms/step - loss: 0.0671 - output_loss: 0.0406 - auxilliary_output_1_loss: 0.0479 - auxilliary_output_2_loss: 0.0405 - output_accuracy: 0.9618 - auxilliary_output_1_accuracy: 0.9658 - auxilliary_output_2_accuracy: 0.9648 - val_loss: 0.2021 - val_output_loss: 0.1335 - val_auxilliary_output_1_loss: 0.1104 - val_auxilliary_output_2_loss: 0.1185 - val_output_accuracy: 0.8656 - val_auxilliary_output_1_accuracy: 0.8750 - val_auxilliary_output_2_accuracy: 0.8906\n",
      "Epoch 18/80\n",
      "62/62 [==============================] - 8s 127ms/step - loss: 0.0841 - output_loss: 0.0527 - auxilliary_output_1_loss: 0.0539 - auxilliary_output_2_loss: 0.0508 - output_accuracy: 0.9449 - auxilliary_output_1_accuracy: 0.9539 - auxilliary_output_2_accuracy: 0.9489 - val_loss: 0.2128 - val_output_loss: 0.1466 - val_auxilliary_output_1_loss: 0.1062 - val_auxilliary_output_2_loss: 0.1144 - val_output_accuracy: 0.8719 - val_auxilliary_output_1_accuracy: 0.8813 - val_auxilliary_output_2_accuracy: 0.8906\n",
      "Epoch 19/80\n",
      "62/62 [==============================] - 8s 122ms/step - loss: 0.0707 - output_loss: 0.0449 - auxilliary_output_1_loss: 0.0449 - auxilliary_output_2_loss: 0.0409 - output_accuracy: 0.9514 - auxilliary_output_1_accuracy: 0.9688 - auxilliary_output_2_accuracy: 0.9578 - val_loss: 0.2367 - val_output_loss: 0.1602 - val_auxilliary_output_1_loss: 0.1174 - val_auxilliary_output_2_loss: 0.1377 - val_output_accuracy: 0.8562 - val_auxilliary_output_1_accuracy: 0.8656 - val_auxilliary_output_2_accuracy: 0.8562\n",
      "Epoch 20/80\n",
      "62/62 [==============================] - 8s 127ms/step - loss: 0.0425 - output_loss: 0.0233 - auxilliary_output_1_loss: 0.0381 - auxilliary_output_2_loss: 0.0260 - output_accuracy: 0.9782 - auxilliary_output_1_accuracy: 0.9742 - auxilliary_output_2_accuracy: 0.9792 - val_loss: 0.2432 - val_output_loss: 0.1691 - val_auxilliary_output_1_loss: 0.1090 - val_auxilliary_output_2_loss: 0.1379 - val_output_accuracy: 0.8656 - val_auxilliary_output_1_accuracy: 0.8875 - val_auxilliary_output_2_accuracy: 0.8750\n",
      "Epoch 21/80\n",
      "62/62 [==============================] - 8s 126ms/step - loss: 0.0239 - output_loss: 0.0112 - auxilliary_output_1_loss: 0.0279 - auxilliary_output_2_loss: 0.0143 - output_accuracy: 0.9926 - auxilliary_output_1_accuracy: 0.9797 - auxilliary_output_2_accuracy: 0.9911 - val_loss: 0.2947 - val_output_loss: 0.2111 - val_auxilliary_output_1_loss: 0.1210 - val_auxilliary_output_2_loss: 0.1575 - val_output_accuracy: 0.8625 - val_auxilliary_output_1_accuracy: 0.8656 - val_auxilliary_output_2_accuracy: 0.8656\n",
      "Epoch 22/80\n",
      "62/62 [==============================] - 8s 127ms/step - loss: 0.0236 - output_loss: 0.0122 - auxilliary_output_1_loss: 0.0232 - auxilliary_output_2_loss: 0.0149 - output_accuracy: 0.9901 - auxilliary_output_1_accuracy: 0.9891 - auxilliary_output_2_accuracy: 0.9886 - val_loss: 0.3131 - val_output_loss: 0.2282 - val_auxilliary_output_1_loss: 0.1265 - val_auxilliary_output_2_loss: 0.1567 - val_output_accuracy: 0.8281 - val_auxilliary_output_1_accuracy: 0.8625 - val_auxilliary_output_2_accuracy: 0.8531\n",
      "Epoch 23/80\n",
      "62/62 [==============================] - 8s 127ms/step - loss: 0.1070 - output_loss: 0.0717 - auxilliary_output_1_loss: 0.0573 - auxilliary_output_2_loss: 0.0605 - output_accuracy: 0.9291 - auxilliary_output_1_accuracy: 0.9499 - auxilliary_output_2_accuracy: 0.9459 - val_loss: 0.2426 - val_output_loss: 0.1596 - val_auxilliary_output_1_loss: 0.1293 - val_auxilliary_output_2_loss: 0.1474 - val_output_accuracy: 0.8156 - val_auxilliary_output_1_accuracy: 0.8656 - val_auxilliary_output_2_accuracy: 0.8188\n",
      "Epoch 24/80\n",
      "62/62 [==============================] - 8s 128ms/step - loss: 0.0304 - output_loss: 0.0166 - auxilliary_output_1_loss: 0.0270 - auxilliary_output_2_loss: 0.0192 - output_accuracy: 0.9861 - auxilliary_output_1_accuracy: 0.9816 - auxilliary_output_2_accuracy: 0.9836 - val_loss: 0.2607 - val_output_loss: 0.1877 - val_auxilliary_output_1_loss: 0.1099 - val_auxilliary_output_2_loss: 0.1335 - val_output_accuracy: 0.8500 - val_auxilliary_output_1_accuracy: 0.8813 - val_auxilliary_output_2_accuracy: 0.8656\n",
      "Epoch 25/80\n",
      "62/62 [==============================] - 8s 128ms/step - loss: 0.0461 - output_loss: 0.0288 - auxilliary_output_1_loss: 0.0291 - auxilliary_output_2_loss: 0.0283 - output_accuracy: 0.9732 - auxilliary_output_1_accuracy: 0.9787 - auxilliary_output_2_accuracy: 0.9747 - val_loss: 0.2404 - val_output_loss: 0.1587 - val_auxilliary_output_1_loss: 0.1354 - val_auxilliary_output_2_loss: 0.1369 - val_output_accuracy: 0.8344 - val_auxilliary_output_1_accuracy: 0.8687 - val_auxilliary_output_2_accuracy: 0.8438\n",
      "Epoch 26/80\n",
      "62/62 [==============================] - 8s 124ms/step - loss: 0.0343 - output_loss: 0.0209 - auxilliary_output_1_loss: 0.0248 - auxilliary_output_2_loss: 0.0196 - output_accuracy: 0.9816 - auxilliary_output_1_accuracy: 0.9851 - auxilliary_output_2_accuracy: 0.9851 - val_loss: 0.2660 - val_output_loss: 0.1843 - val_auxilliary_output_1_loss: 0.1276 - val_auxilliary_output_2_loss: 0.1449 - val_output_accuracy: 0.8531 - val_auxilliary_output_1_accuracy: 0.8781 - val_auxilliary_output_2_accuracy: 0.8781\n",
      "Epoch 27/80\n",
      "62/62 [==============================] - 8s 123ms/step - loss: 0.0178 - output_loss: 0.0078 - auxilliary_output_1_loss: 0.0218 - auxilliary_output_2_loss: 0.0115 - output_accuracy: 0.9940 - auxilliary_output_1_accuracy: 0.9881 - auxilliary_output_2_accuracy: 0.9921 - val_loss: 0.2909 - val_output_loss: 0.2058 - val_auxilliary_output_1_loss: 0.1242 - val_auxilliary_output_2_loss: 0.1596 - val_output_accuracy: 0.8469 - val_auxilliary_output_1_accuracy: 0.8813 - val_auxilliary_output_2_accuracy: 0.8719\n",
      "Epoch 28/80\n",
      "62/62 [==============================] - 8s 124ms/step - loss: 0.0042 - output_loss: 5.6984e-04 - auxilliary_output_1_loss: 0.0099 - auxilliary_output_2_loss: 0.0021 - output_accuracy: 1.0000 - auxilliary_output_1_accuracy: 0.9965 - auxilliary_output_2_accuracy: 1.0000 - val_loss: 0.2686 - val_output_loss: 0.1868 - val_auxilliary_output_1_loss: 0.1222 - val_auxilliary_output_2_loss: 0.1506 - val_output_accuracy: 0.8750 - val_auxilliary_output_1_accuracy: 0.8813 - val_auxilliary_output_2_accuracy: 0.8750\n",
      "Epoch 29/80\n",
      "62/62 [==============================] - 8s 128ms/step - loss: 0.0026 - output_loss: 2.0802e-04 - auxilliary_output_1_loss: 0.0069 - auxilliary_output_2_loss: 0.0012 - output_accuracy: 1.0000 - auxilliary_output_1_accuracy: 0.9980 - auxilliary_output_2_accuracy: 1.0000 - val_loss: 0.2617 - val_output_loss: 0.1822 - val_auxilliary_output_1_loss: 0.1199 - val_auxilliary_output_2_loss: 0.1451 - val_output_accuracy: 0.8750 - val_auxilliary_output_1_accuracy: 0.9062 - val_auxilliary_output_2_accuracy: 0.8969\n",
      "Epoch 30/80\n",
      "62/62 [==============================] - 8s 127ms/step - loss: 0.0022 - output_loss: 1.2101e-04 - auxilliary_output_1_loss: 0.0061 - auxilliary_output_2_loss: 7.5194e-04 - output_accuracy: 1.0000 - auxilliary_output_1_accuracy: 0.9990 - auxilliary_output_2_accuracy: 1.0000 - val_loss: 0.2860 - val_output_loss: 0.1997 - val_auxilliary_output_1_loss: 0.1239 - val_auxilliary_output_2_loss: 0.1640 - val_output_accuracy: 0.8813 - val_auxilliary_output_1_accuracy: 0.8938 - val_auxilliary_output_2_accuracy: 0.8844\n",
      "Epoch 31/80\n",
      "62/62 [==============================] - 8s 127ms/step - loss: 0.0019 - output_loss: 1.0488e-04 - auxilliary_output_1_loss: 0.0054 - auxilliary_output_2_loss: 6.0928e-04 - output_accuracy: 1.0000 - auxilliary_output_1_accuracy: 0.9995 - auxilliary_output_2_accuracy: 1.0000 - val_loss: 0.3010 - val_output_loss: 0.2106 - val_auxilliary_output_1_loss: 0.1288 - val_auxilliary_output_2_loss: 0.1727 - val_output_accuracy: 0.8781 - val_auxilliary_output_1_accuracy: 0.9000 - val_auxilliary_output_2_accuracy: 0.8813\n",
      "Epoch 32/80\n",
      "62/62 [==============================] - 8s 123ms/step - loss: 0.0013 - output_loss: 6.0597e-05 - auxilliary_output_1_loss: 0.0038 - auxilliary_output_2_loss: 4.7645e-04 - output_accuracy: 1.0000 - auxilliary_output_1_accuracy: 1.0000 - auxilliary_output_2_accuracy: 1.0000 - val_loss: 0.2895 - val_output_loss: 0.2018 - val_auxilliary_output_1_loss: 0.1261 - val_auxilliary_output_2_loss: 0.1662 - val_output_accuracy: 0.8813 - val_auxilliary_output_1_accuracy: 0.9062 - val_auxilliary_output_2_accuracy: 0.8938\n",
      "Epoch 33/80\n",
      "62/62 [==============================] - 8s 123ms/step - loss: 0.0014 - output_loss: 5.1987e-05 - auxilliary_output_1_loss: 0.0038 - auxilliary_output_2_loss: 5.3078e-04 - output_accuracy: 1.0000 - auxilliary_output_1_accuracy: 1.0000 - auxilliary_output_2_accuracy: 1.0000 - val_loss: 0.3177 - val_output_loss: 0.2229 - val_auxilliary_output_1_loss: 0.1349 - val_auxilliary_output_2_loss: 0.1809 - val_output_accuracy: 0.8813 - val_auxilliary_output_1_accuracy: 0.8844 - val_auxilliary_output_2_accuracy: 0.8781\n",
      "Epoch 34/80\n",
      "62/62 [==============================] - 8s 124ms/step - loss: 0.0013 - output_loss: 4.4120e-05 - auxilliary_output_1_loss: 0.0037 - auxilliary_output_2_loss: 4.0825e-04 - output_accuracy: 1.0000 - auxilliary_output_1_accuracy: 1.0000 - auxilliary_output_2_accuracy: 1.0000 - val_loss: 0.3219 - val_output_loss: 0.2215 - val_auxilliary_output_1_loss: 0.1476 - val_auxilliary_output_2_loss: 0.1872 - val_output_accuracy: 0.8813 - val_auxilliary_output_1_accuracy: 0.8906 - val_auxilliary_output_2_accuracy: 0.8875\n",
      "Epoch 35/80\n",
      "62/62 [==============================] - 8s 127ms/step - loss: 0.0015 - output_loss: 3.8003e-05 - auxilliary_output_1_loss: 0.0047 - auxilliary_output_2_loss: 3.0775e-04 - output_accuracy: 1.0000 - auxilliary_output_1_accuracy: 0.9995 - auxilliary_output_2_accuracy: 1.0000 - val_loss: 0.3361 - val_output_loss: 0.2314 - val_auxilliary_output_1_loss: 0.1522 - val_auxilliary_output_2_loss: 0.1968 - val_output_accuracy: 0.8813 - val_auxilliary_output_1_accuracy: 0.8844 - val_auxilliary_output_2_accuracy: 0.8875\n",
      "Epoch 36/80\n",
      "62/62 [==============================] - 8s 128ms/step - loss: 0.0013 - output_loss: 4.1749e-05 - auxilliary_output_1_loss: 0.0039 - auxilliary_output_2_loss: 2.7131e-04 - output_accuracy: 1.0000 - auxilliary_output_1_accuracy: 0.9995 - auxilliary_output_2_accuracy: 1.0000 - val_loss: 0.3326 - val_output_loss: 0.2318 - val_auxilliary_output_1_loss: 0.1397 - val_auxilliary_output_2_loss: 0.1962 - val_output_accuracy: 0.8813 - val_auxilliary_output_1_accuracy: 0.8906 - val_auxilliary_output_2_accuracy: 0.8781\n",
      "Epoch 37/80\n",
      "62/62 [==============================] - 8s 123ms/step - loss: 0.0012 - output_loss: 3.5938e-05 - auxilliary_output_1_loss: 0.0037 - auxilliary_output_2_loss: 2.2125e-04 - output_accuracy: 1.0000 - auxilliary_output_1_accuracy: 0.9995 - auxilliary_output_2_accuracy: 1.0000 - val_loss: 0.3332 - val_output_loss: 0.2301 - val_auxilliary_output_1_loss: 0.1489 - val_auxilliary_output_2_loss: 0.1945 - val_output_accuracy: 0.8656 - val_auxilliary_output_1_accuracy: 0.8969 - val_auxilliary_output_2_accuracy: 0.8844\n",
      "Epoch 38/80\n",
      "62/62 [==============================] - 8s 127ms/step - loss: 9.2585e-04 - output_loss: 2.9945e-05 - auxilliary_output_1_loss: 0.0027 - auxilliary_output_2_loss: 2.9107e-04 - output_accuracy: 1.0000 - auxilliary_output_1_accuracy: 1.0000 - auxilliary_output_2_accuracy: 1.0000 - val_loss: 0.3344 - val_output_loss: 0.2345 - val_auxilliary_output_1_loss: 0.1354 - val_auxilliary_output_2_loss: 0.1975 - val_output_accuracy: 0.8844 - val_auxilliary_output_1_accuracy: 0.8969 - val_auxilliary_output_2_accuracy: 0.8719\n",
      "Epoch 39/80\n",
      "62/62 [==============================] - 8s 123ms/step - loss: 9.4130e-04 - output_loss: 2.4188e-05 - auxilliary_output_1_loss: 0.0028 - auxilliary_output_2_loss: 2.3173e-04 - output_accuracy: 1.0000 - auxilliary_output_1_accuracy: 1.0000 - auxilliary_output_2_accuracy: 1.0000 - val_loss: 0.3153 - val_output_loss: 0.2203 - val_auxilliary_output_1_loss: 0.1353 - val_auxilliary_output_2_loss: 0.1813 - val_output_accuracy: 0.8906 - val_auxilliary_output_1_accuracy: 0.8969 - val_auxilliary_output_2_accuracy: 0.9000\n",
      "Epoch 40/80\n",
      "62/62 [==============================] - 8s 124ms/step - loss: 8.1184e-04 - output_loss: 1.9450e-05 - auxilliary_output_1_loss: 0.0024 - auxilliary_output_2_loss: 2.2291e-04 - output_accuracy: 1.0000 - auxilliary_output_1_accuracy: 1.0000 - auxilliary_output_2_accuracy: 1.0000 - val_loss: 0.3319 - val_output_loss: 0.2302 - val_auxilliary_output_1_loss: 0.1455 - val_auxilliary_output_2_loss: 0.1938 - val_output_accuracy: 0.8813 - val_auxilliary_output_1_accuracy: 0.9000 - val_auxilliary_output_2_accuracy: 0.8969\n",
      "Epoch 41/80\n",
      "62/62 [==============================] - 8s 128ms/step - loss: 9.6699e-04 - output_loss: 2.1150e-05 - auxilliary_output_1_loss: 0.0029 - auxilliary_output_2_loss: 2.8738e-04 - output_accuracy: 1.0000 - auxilliary_output_1_accuracy: 1.0000 - auxilliary_output_2_accuracy: 1.0000 - val_loss: 0.3549 - val_output_loss: 0.2464 - val_auxilliary_output_1_loss: 0.1538 - val_auxilliary_output_2_loss: 0.2079 - val_output_accuracy: 0.8781 - val_auxilliary_output_1_accuracy: 0.8719 - val_auxilliary_output_2_accuracy: 0.8813\n",
      "Epoch 42/80\n",
      "62/62 [==============================] - 8s 127ms/step - loss: 0.0011 - output_loss: 2.4144e-05 - auxilliary_output_1_loss: 0.0033 - auxilliary_output_2_loss: 2.0132e-04 - output_accuracy: 1.0000 - auxilliary_output_1_accuracy: 1.0000 - auxilliary_output_2_accuracy: 1.0000 - val_loss: 0.3655 - val_output_loss: 0.2556 - val_auxilliary_output_1_loss: 0.1522 - val_auxilliary_output_2_loss: 0.2141 - val_output_accuracy: 0.8750 - val_auxilliary_output_1_accuracy: 0.8938 - val_auxilliary_output_2_accuracy: 0.8781\n",
      "Epoch 43/80\n",
      "62/62 [==============================] - 8s 124ms/step - loss: 7.0961e-04 - output_loss: 1.1679e-05 - auxilliary_output_1_loss: 0.0021 - auxilliary_output_2_loss: 2.3784e-04 - output_accuracy: 1.0000 - auxilliary_output_1_accuracy: 1.0000 - auxilliary_output_2_accuracy: 1.0000 - val_loss: 0.3588 - val_output_loss: 0.2507 - val_auxilliary_output_1_loss: 0.1544 - val_auxilliary_output_2_loss: 0.2058 - val_output_accuracy: 0.8719 - val_auxilliary_output_1_accuracy: 0.8969 - val_auxilliary_output_2_accuracy: 0.8906\n",
      "Epoch 44/80\n",
      "62/62 [==============================] - 8s 128ms/step - loss: 6.7943e-04 - output_loss: 1.1851e-05 - auxilliary_output_1_loss: 0.0021 - auxilliary_output_2_loss: 1.1948e-04 - output_accuracy: 1.0000 - auxilliary_output_1_accuracy: 1.0000 - auxilliary_output_2_accuracy: 1.0000 - val_loss: 0.3595 - val_output_loss: 0.2520 - val_auxilliary_output_1_loss: 0.1484 - val_auxilliary_output_2_loss: 0.2098 - val_output_accuracy: 0.8813 - val_auxilliary_output_1_accuracy: 0.8813 - val_auxilliary_output_2_accuracy: 0.8969\n",
      "Epoch 45/80\n",
      "62/62 [==============================] - 8s 128ms/step - loss: 6.8776e-04 - output_loss: 2.7364e-05 - auxilliary_output_1_loss: 0.0019 - auxilliary_output_2_loss: 2.6180e-04 - output_accuracy: 1.0000 - auxilliary_output_1_accuracy: 1.0000 - auxilliary_output_2_accuracy: 1.0000 - val_loss: 0.3647 - val_output_loss: 0.2581 - val_auxilliary_output_1_loss: 0.1584 - val_auxilliary_output_2_loss: 0.1971 - val_output_accuracy: 0.8813 - val_auxilliary_output_1_accuracy: 0.8969 - val_auxilliary_output_2_accuracy: 0.8938\n",
      "Epoch 46/80\n",
      "62/62 [==============================] - 8s 123ms/step - loss: 7.2345e-04 - output_loss: 1.3099e-05 - auxilliary_output_1_loss: 0.0022 - auxilliary_output_2_loss: 1.5424e-04 - output_accuracy: 1.0000 - auxilliary_output_1_accuracy: 0.9995 - auxilliary_output_2_accuracy: 1.0000 - val_loss: 0.3963 - val_output_loss: 0.2815 - val_auxilliary_output_1_loss: 0.1616 - val_auxilliary_output_2_loss: 0.2212 - val_output_accuracy: 0.8781 - val_auxilliary_output_1_accuracy: 0.8938 - val_auxilliary_output_2_accuracy: 0.8750\n",
      "Epoch 47/80\n",
      "62/62 [==============================] - 8s 128ms/step - loss: 9.0763e-04 - output_loss: 2.3595e-05 - auxilliary_output_1_loss: 0.0025 - auxilliary_output_2_loss: 3.9763e-04 - output_accuracy: 1.0000 - auxilliary_output_1_accuracy: 1.0000 - auxilliary_output_2_accuracy: 1.0000 - val_loss: 0.3489 - val_output_loss: 0.2434 - val_auxilliary_output_1_loss: 0.1569 - val_auxilliary_output_2_loss: 0.1949 - val_output_accuracy: 0.8844 - val_auxilliary_output_1_accuracy: 0.8844 - val_auxilliary_output_2_accuracy: 0.8969\n",
      "Epoch 48/80\n",
      "62/62 [==============================] - 8s 132ms/step - loss: 9.4692e-04 - output_loss: 1.2789e-05 - auxilliary_output_1_loss: 0.0029 - auxilliary_output_2_loss: 2.1272e-04 - output_accuracy: 1.0000 - auxilliary_output_1_accuracy: 0.9995 - auxilliary_output_2_accuracy: 1.0000 - val_loss: 0.4428 - val_output_loss: 0.3110 - val_auxilliary_output_1_loss: 0.1899 - val_auxilliary_output_2_loss: 0.2494 - val_output_accuracy: 0.8750 - val_auxilliary_output_1_accuracy: 0.8719 - val_auxilliary_output_2_accuracy: 0.8750\n",
      "Epoch 49/80\n",
      "62/62 [==============================] - 8s 123ms/step - loss: 7.8368e-04 - output_loss: 1.2128e-05 - auxilliary_output_1_loss: 0.0024 - auxilliary_output_2_loss: 1.3317e-04 - output_accuracy: 1.0000 - auxilliary_output_1_accuracy: 1.0000 - auxilliary_output_2_accuracy: 1.0000 - val_loss: 0.3716 - val_output_loss: 0.2621 - val_auxilliary_output_1_loss: 0.1534 - val_auxilliary_output_2_loss: 0.2115 - val_output_accuracy: 0.8844 - val_auxilliary_output_1_accuracy: 0.9062 - val_auxilliary_output_2_accuracy: 0.8875\n",
      "Epoch 50/80\n",
      "62/62 [==============================] - 8s 128ms/step - loss: 8.0550e-04 - output_loss: 9.6862e-06 - auxilliary_output_1_loss: 0.0025 - auxilliary_output_2_loss: 1.4282e-04 - output_accuracy: 1.0000 - auxilliary_output_1_accuracy: 0.9995 - auxilliary_output_2_accuracy: 1.0000 - val_loss: 0.3820 - val_output_loss: 0.2708 - val_auxilliary_output_1_loss: 0.1470 - val_auxilliary_output_2_loss: 0.2237 - val_output_accuracy: 0.8813 - val_auxilliary_output_1_accuracy: 0.9000 - val_auxilliary_output_2_accuracy: 0.8750\n",
      "Epoch 51/80\n",
      "62/62 [==============================] - 7s 104ms/step - loss: 6.3983e-04 - output_loss: 9.8299e-06 - auxilliary_output_1_loss: 0.0019 - auxilliary_output_2_loss: 1.9813e-04 - output_accuracy: 1.0000 - auxilliary_output_1_accuracy: 1.0000 - auxilliary_output_2_accuracy: 1.0000 - val_loss: 0.3789 - val_output_loss: 0.2628 - val_auxilliary_output_1_loss: 0.1760 - val_auxilliary_output_2_loss: 0.2110 - val_output_accuracy: 0.8844 - val_auxilliary_output_1_accuracy: 0.8906 - val_auxilliary_output_2_accuracy: 0.8906\n"
     ]
    }
   ],
   "source": [
    "# 3 inputs \n",
    "#validation_data=(x_valid, [y_valid, y_valid, y_valid]),\n",
    "history = model.fit(train_x, [train_y, train_y, train_y], epochs=epochs, batch_size=batch_size, callbacks=[earlyStopping],validation_split=0.2,steps_per_epoch=len(x_train)/batch_size)\n",
    "#history = model.fit(train_x,train_y, validation_data=(val_x,val_y), epochs=epochs, batch_size=56, callbacks=[earlyStopping])"
   ]
  },
  {
   "cell_type": "markdown",
   "id": "0538a0ac",
   "metadata": {
    "papermill": {
     "duration": 0.194914,
     "end_time": "2022-12-21T02:40:58.420450",
     "exception": false,
     "start_time": "2022-12-21T02:40:58.225536",
     "status": "completed"
    },
    "tags": []
   },
   "source": [
    "# Testing Data"
   ]
  },
  {
   "cell_type": "code",
   "execution_count": 33,
   "id": "34d83a01",
   "metadata": {
    "execution": {
     "iopub.execute_input": "2022-12-21T02:40:58.829199Z",
     "iopub.status.busy": "2022-12-21T02:40:58.828288Z",
     "iopub.status.idle": "2022-12-21T02:41:08.558968Z",
     "shell.execute_reply": "2022-12-21T02:41:08.557963Z"
    },
    "papermill": {
     "duration": 9.923436,
     "end_time": "2022-12-21T02:41:08.561382",
     "exception": false,
     "start_time": "2022-12-21T02:40:58.637946",
     "status": "completed"
    },
    "tags": []
   },
   "outputs": [],
   "source": [
    "import os\n",
    "names = next(os.walk('/kaggle/input/nn23-sports-image-classification/Test'), (None, None, []))[2]\n",
    "X_test=[]\n",
    "img_name=[]\n",
    "for i in names:\n",
    "    img=cv2.imread('/kaggle/input/nn23-sports-image-classification/Test/'+i)\n",
    "    img=cv2.resize(img,(224,224))\n",
    "    img_name.append(i)\n",
    "    X_test.append(img)"
   ]
  },
  {
   "cell_type": "code",
   "execution_count": 34,
   "id": "672568e9",
   "metadata": {
    "execution": {
     "iopub.execute_input": "2022-12-21T02:41:08.942907Z",
     "iopub.status.busy": "2022-12-21T02:41:08.942550Z",
     "iopub.status.idle": "2022-12-21T02:41:09.005643Z",
     "shell.execute_reply": "2022-12-21T02:41:09.004668Z"
    },
    "papermill": {
     "duration": 0.256042,
     "end_time": "2022-12-21T02:41:09.008104",
     "exception": false,
     "start_time": "2022-12-21T02:41:08.752062",
     "status": "completed"
    },
    "tags": []
   },
   "outputs": [],
   "source": [
    "X_test=np.array(X_test)"
   ]
  },
  {
   "cell_type": "code",
   "execution_count": 35,
   "id": "11f78f8b",
   "metadata": {
    "execution": {
     "iopub.execute_input": "2022-12-21T02:41:09.461059Z",
     "iopub.status.busy": "2022-12-21T02:41:09.460381Z",
     "iopub.status.idle": "2022-12-21T02:41:11.981601Z",
     "shell.execute_reply": "2022-12-21T02:41:11.980602Z"
    },
    "papermill": {
     "duration": 2.777168,
     "end_time": "2022-12-21T02:41:11.984293",
     "exception": false,
     "start_time": "2022-12-21T02:41:09.207125",
     "status": "completed"
    },
    "tags": []
   },
   "outputs": [],
   "source": [
    "results = model.predict(X_test)\n",
    "results = np.argmax(results,axis = 2)"
   ]
  },
  {
   "cell_type": "code",
   "execution_count": 36,
   "id": "ab258ef7",
   "metadata": {
    "execution": {
     "iopub.execute_input": "2022-12-21T02:41:12.374862Z",
     "iopub.status.busy": "2022-12-21T02:41:12.373664Z",
     "iopub.status.idle": "2022-12-21T02:41:12.381111Z",
     "shell.execute_reply": "2022-12-21T02:41:12.380080Z"
    },
    "papermill": {
     "duration": 0.203906,
     "end_time": "2022-12-21T02:41:12.383597",
     "exception": false,
     "start_time": "2022-12-21T02:41:12.179691",
     "status": "completed"
    },
    "tags": []
   },
   "outputs": [
    {
     "data": {
      "text/plain": [
       "array([[2, 5, 0, ..., 4, 1, 3],\n",
       "       [2, 5, 0, ..., 4, 1, 3],\n",
       "       [2, 5, 0, ..., 4, 1, 3]])"
      ]
     },
     "execution_count": 36,
     "metadata": {},
     "output_type": "execute_result"
    }
   ],
   "source": [
    "results=np.array(results)\n",
    "results"
   ]
  },
  {
   "cell_type": "code",
   "execution_count": 37,
   "id": "bef0c4ad",
   "metadata": {
    "execution": {
     "iopub.execute_input": "2022-12-21T02:41:12.767848Z",
     "iopub.status.busy": "2022-12-21T02:41:12.767486Z",
     "iopub.status.idle": "2022-12-21T02:41:12.795398Z",
     "shell.execute_reply": "2022-12-21T02:41:12.794402Z"
    },
    "papermill": {
     "duration": 0.222038,
     "end_time": "2022-12-21T02:41:12.797544",
     "exception": false,
     "start_time": "2022-12-21T02:41:12.575506",
     "status": "completed"
    },
    "tags": []
   },
   "outputs": [],
   "source": [
    "submission=pd.DataFrame()\n",
    "submission['image_name']=img_name\n",
    "submission['label']=results[1]"
   ]
  },
  {
   "cell_type": "code",
   "execution_count": null,
   "id": "1926092b",
   "metadata": {
    "papermill": {
     "duration": 0.188242,
     "end_time": "2022-12-21T02:41:13.171186",
     "exception": false,
     "start_time": "2022-12-21T02:41:12.982944",
     "status": "completed"
    },
    "tags": []
   },
   "outputs": [],
   "source": []
  },
  {
   "cell_type": "markdown",
   "id": "bcf0c60a",
   "metadata": {
    "papermill": {
     "duration": 0.211972,
     "end_time": "2022-12-21T02:41:13.579861",
     "exception": false,
     "start_time": "2022-12-21T02:41:13.367889",
     "status": "completed"
    },
    "tags": []
   },
   "source": [
    "# Final Output"
   ]
  },
  {
   "cell_type": "code",
   "execution_count": 38,
   "id": "016aef2a",
   "metadata": {
    "execution": {
     "iopub.execute_input": "2022-12-21T02:41:14.011316Z",
     "iopub.status.busy": "2022-12-21T02:41:14.010332Z",
     "iopub.status.idle": "2022-12-21T02:41:14.028847Z",
     "shell.execute_reply": "2022-12-21T02:41:14.027806Z"
    },
    "papermill": {
     "duration": 0.260844,
     "end_time": "2022-12-21T02:41:14.030986",
     "exception": false,
     "start_time": "2022-12-21T02:41:13.770142",
     "status": "completed"
    },
    "tags": []
   },
   "outputs": [
    {
     "data": {
      "text/html": [
       "<div>\n",
       "<style scoped>\n",
       "    .dataframe tbody tr th:only-of-type {\n",
       "        vertical-align: middle;\n",
       "    }\n",
       "\n",
       "    .dataframe tbody tr th {\n",
       "        vertical-align: top;\n",
       "    }\n",
       "\n",
       "    .dataframe thead th {\n",
       "        text-align: right;\n",
       "    }\n",
       "</style>\n",
       "<table border=\"1\" class=\"dataframe\">\n",
       "  <thead>\n",
       "    <tr style=\"text-align: right;\">\n",
       "      <th></th>\n",
       "      <th>image_name</th>\n",
       "      <th>label</th>\n",
       "    </tr>\n",
       "  </thead>\n",
       "  <tbody>\n",
       "    <tr>\n",
       "      <th>0</th>\n",
       "      <td>623.jpg</td>\n",
       "      <td>2</td>\n",
       "    </tr>\n",
       "    <tr>\n",
       "      <th>1</th>\n",
       "      <td>208.jpg</td>\n",
       "      <td>5</td>\n",
       "    </tr>\n",
       "    <tr>\n",
       "      <th>2</th>\n",
       "      <td>473.jpg</td>\n",
       "      <td>0</td>\n",
       "    </tr>\n",
       "    <tr>\n",
       "      <th>3</th>\n",
       "      <td>333.jpg</td>\n",
       "      <td>1</td>\n",
       "    </tr>\n",
       "    <tr>\n",
       "      <th>4</th>\n",
       "      <td>537.jpg</td>\n",
       "      <td>1</td>\n",
       "    </tr>\n",
       "    <tr>\n",
       "      <th>...</th>\n",
       "      <td>...</td>\n",
       "      <td>...</td>\n",
       "    </tr>\n",
       "    <tr>\n",
       "      <th>683</th>\n",
       "      <td>364.jpg</td>\n",
       "      <td>3</td>\n",
       "    </tr>\n",
       "    <tr>\n",
       "      <th>684</th>\n",
       "      <td>90.jpg</td>\n",
       "      <td>3</td>\n",
       "    </tr>\n",
       "    <tr>\n",
       "      <th>685</th>\n",
       "      <td>599.jpg</td>\n",
       "      <td>4</td>\n",
       "    </tr>\n",
       "    <tr>\n",
       "      <th>686</th>\n",
       "      <td>25.jpg</td>\n",
       "      <td>1</td>\n",
       "    </tr>\n",
       "    <tr>\n",
       "      <th>687</th>\n",
       "      <td>147.jpg</td>\n",
       "      <td>3</td>\n",
       "    </tr>\n",
       "  </tbody>\n",
       "</table>\n",
       "<p>688 rows × 2 columns</p>\n",
       "</div>"
      ],
      "text/plain": [
       "    image_name  label\n",
       "0      623.jpg      2\n",
       "1      208.jpg      5\n",
       "2      473.jpg      0\n",
       "3      333.jpg      1\n",
       "4      537.jpg      1\n",
       "..         ...    ...\n",
       "683    364.jpg      3\n",
       "684     90.jpg      3\n",
       "685    599.jpg      4\n",
       "686     25.jpg      1\n",
       "687    147.jpg      3\n",
       "\n",
       "[688 rows x 2 columns]"
      ]
     },
     "execution_count": 38,
     "metadata": {},
     "output_type": "execute_result"
    }
   ],
   "source": [
    "submission"
   ]
  },
  {
   "cell_type": "code",
   "execution_count": 39,
   "id": "c120c299",
   "metadata": {
    "execution": {
     "iopub.execute_input": "2022-12-21T02:41:14.421320Z",
     "iopub.status.busy": "2022-12-21T02:41:14.420335Z",
     "iopub.status.idle": "2022-12-21T02:41:14.425596Z",
     "shell.execute_reply": "2022-12-21T02:41:14.424693Z"
    },
    "papermill": {
     "duration": 0.200174,
     "end_time": "2022-12-21T02:41:14.427633",
     "exception": false,
     "start_time": "2022-12-21T02:41:14.227459",
     "status": "completed"
    },
    "tags": []
   },
   "outputs": [],
   "source": [
    "# for checking \n",
    "classes = ['Basketball','Football','Rowing','Swimming','Tennis','Yoga']"
   ]
  },
  {
   "cell_type": "code",
   "execution_count": 40,
   "id": "d144c5aa",
   "metadata": {
    "execution": {
     "iopub.execute_input": "2022-12-21T02:41:14.816595Z",
     "iopub.status.busy": "2022-12-21T02:41:14.816205Z",
     "iopub.status.idle": "2022-12-21T02:41:14.825798Z",
     "shell.execute_reply": "2022-12-21T02:41:14.824937Z"
    },
    "papermill": {
     "duration": 0.202349,
     "end_time": "2022-12-21T02:41:14.827837",
     "exception": false,
     "start_time": "2022-12-21T02:41:14.625488",
     "status": "completed"
    },
    "tags": []
   },
   "outputs": [],
   "source": [
    "submission.to_csv(r'/kaggle/working/inceptionv1.csv', index=False)"
   ]
  },
  {
   "cell_type": "code",
   "execution_count": 41,
   "id": "79a2ddc8",
   "metadata": {
    "execution": {
     "iopub.execute_input": "2022-12-21T02:41:15.217306Z",
     "iopub.status.busy": "2022-12-21T02:41:15.216485Z",
     "iopub.status.idle": "2022-12-21T02:41:15.221175Z",
     "shell.execute_reply": "2022-12-21T02:41:15.220121Z"
    },
    "papermill": {
     "duration": 0.202582,
     "end_time": "2022-12-21T02:41:15.223551",
     "exception": false,
     "start_time": "2022-12-21T02:41:15.020969",
     "status": "completed"
    },
    "tags": []
   },
   "outputs": [],
   "source": [
    "#history.save('asl_model')"
   ]
  },
  {
   "cell_type": "code",
   "execution_count": null,
   "id": "a90a1f54",
   "metadata": {
    "papermill": {
     "duration": 0.191352,
     "end_time": "2022-12-21T02:41:15.603672",
     "exception": false,
     "start_time": "2022-12-21T02:41:15.412320",
     "status": "completed"
    },
    "tags": []
   },
   "outputs": [],
   "source": []
  }
 ],
 "metadata": {
  "kernelspec": {
   "display_name": "Python 3",
   "language": "python",
   "name": "python3"
  },
  "language_info": {
   "codemirror_mode": {
    "name": "ipython",
    "version": 3
   },
   "file_extension": ".py",
   "mimetype": "text/x-python",
   "name": "python",
   "nbconvert_exporter": "python",
   "pygments_lexer": "ipython3",
   "version": "3.7.12"
  },
  "papermill": {
   "default_parameters": {},
   "duration": 528.767753,
   "end_time": "2022-12-21T02:41:19.675372",
   "environment_variables": {},
   "exception": null,
   "input_path": "__notebook__.ipynb",
   "output_path": "__notebook__.ipynb",
   "parameters": {},
   "start_time": "2022-12-21T02:32:30.907619",
   "version": "2.3.4"
  }
 },
 "nbformat": 4,
 "nbformat_minor": 5
}
